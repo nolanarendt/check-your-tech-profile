{
 "cells": [
  {
   "cell_type": "markdown",
   "metadata": {},
   "source": [
    "# Feature Engineer"
   ]
  },
  {
   "cell_type": "code",
   "execution_count": 15,
   "metadata": {},
   "outputs": [],
   "source": [
    "import pandas as pd\n",
    "import numpy as np\n",
    "import re\n",
    "from sklearn.feature_extraction.text import TfidfVectorizer, CountVectorizer\n",
    "import nltk"
   ]
  },
  {
   "cell_type": "code",
   "execution_count": 42,
   "metadata": {},
   "outputs": [],
   "source": [
    "jobs = pd.read_csv('../data/job_postings.csv')\n",
    "jobs = jobs.drop(columns=['date_added', 'organization', 'skills_len', 'job_type', 'location'])\n",
    "jobs.fillna('', inplace=True)"
   ]
  },
  {
   "cell_type": "code",
   "execution_count": 43,
   "metadata": {},
   "outputs": [
    {
     "data": {
      "text/html": [
       "<div>\n",
       "<style scoped>\n",
       "    .dataframe tbody tr th:only-of-type {\n",
       "        vertical-align: middle;\n",
       "    }\n",
       "\n",
       "    .dataframe tbody tr th {\n",
       "        vertical-align: top;\n",
       "    }\n",
       "\n",
       "    .dataframe thead th {\n",
       "        text-align: right;\n",
       "    }\n",
       "</style>\n",
       "<table border=\"1\" class=\"dataframe\">\n",
       "  <thead>\n",
       "    <tr style=\"text-align: right;\">\n",
       "      <th></th>\n",
       "      <th>job_description</th>\n",
       "      <th>job_title</th>\n",
       "      <th>skills</th>\n",
       "    </tr>\n",
       "  </thead>\n",
       "  <tbody>\n",
       "    <tr>\n",
       "      <th>0</th>\n",
       "      <td>n edi analyst with experience please read on ...</td>\n",
       "      <td>Analyst</td>\n",
       "      <td>edi trustedlink as van</td>\n",
       "    </tr>\n",
       "    <tr>\n",
       "      <th>1</th>\n",
       "      <td>informatica etl developerst petersburg fl only...</td>\n",
       "      <td>Developer</td>\n",
       "      <td>etl informatica b data exchange netezza oracle...</td>\n",
       "    </tr>\n",
       "    <tr>\n",
       "      <th>2</th>\n",
       "      <td>this nationally recognized microsoft gold part...</td>\n",
       "      <td>Manager</td>\n",
       "      <td>microsoft dynamics ax project manager - toront...</td>\n",
       "    </tr>\n",
       "    <tr>\n",
       "      <th>3</th>\n",
       "      <td>.net developer with experience please read on...</td>\n",
       "      <td>Developer</td>\n",
       "      <td>c asp.net sql javascript mvc</td>\n",
       "    </tr>\n",
       "    <tr>\n",
       "      <th>4</th>\n",
       "      <td>hatstand a global financial consultancy is see...</td>\n",
       "      <td>Developer</td>\n",
       "      <td>java linux unix sdlc; multi-threaded or concur...</td>\n",
       "    </tr>\n",
       "    <tr>\n",
       "      <th>...</th>\n",
       "      <td>...</td>\n",
       "      <td>...</td>\n",
       "      <td>...</td>\n",
       "    </tr>\n",
       "    <tr>\n",
       "      <th>16427</th>\n",
       "      <td>jpmorgan chase co. (nyse: jpm) is a leading g...</td>\n",
       "      <td>Developer</td>\n",
       "      <td>.net architecture developer development git ht...</td>\n",
       "    </tr>\n",
       "    <tr>\n",
       "      <th>16428</th>\n",
       "      <td>seeking jr. systems administrators with experi...</td>\n",
       "      <td>Administrator</td>\n",
       "      <td>jr. linux administrator</td>\n",
       "    </tr>\n",
       "    <tr>\n",
       "      <th>16429</th>\n",
       "      <td>senior lead devops engineer with a desired to...</td>\n",
       "      <td>Developer</td>\n",
       "      <td>amazon web services linux bash ruby python agile</td>\n",
       "    </tr>\n",
       "    <tr>\n",
       "      <th>16430</th>\n",
       "      <td>headquartered in downtown san francisco ca we ...</td>\n",
       "      <td>Developer</td>\n",
       "      <td>javascript react.js golang startup ror iot ana...</td>\n",
       "    </tr>\n",
       "    <tr>\n",
       "      <th>16431</th>\n",
       "      <td>n appsec or hardware security engineer who ha...</td>\n",
       "      <td>Engineer</td>\n",
       "      <td>c .net java software application security hard...</td>\n",
       "    </tr>\n",
       "  </tbody>\n",
       "</table>\n",
       "<p>16432 rows × 3 columns</p>\n",
       "</div>"
      ],
      "text/plain": [
       "                                         job_description      job_title  \\\n",
       "0       n edi analyst with experience please read on ...        Analyst   \n",
       "1      informatica etl developerst petersburg fl only...      Developer   \n",
       "2      this nationally recognized microsoft gold part...        Manager   \n",
       "3       .net developer with experience please read on...      Developer   \n",
       "4      hatstand a global financial consultancy is see...      Developer   \n",
       "...                                                  ...            ...   \n",
       "16427   jpmorgan chase co. (nyse: jpm) is a leading g...      Developer   \n",
       "16428  seeking jr. systems administrators with experi...  Administrator   \n",
       "16429   senior lead devops engineer with a desired to...      Developer   \n",
       "16430  headquartered in downtown san francisco ca we ...      Developer   \n",
       "16431   n appsec or hardware security engineer who ha...       Engineer   \n",
       "\n",
       "                                                  skills  \n",
       "0                                 edi trustedlink as van  \n",
       "1      etl informatica b data exchange netezza oracle...  \n",
       "2      microsoft dynamics ax project manager - toront...  \n",
       "3                           c asp.net sql javascript mvc  \n",
       "4      java linux unix sdlc; multi-threaded or concur...  \n",
       "...                                                  ...  \n",
       "16427  .net architecture developer development git ht...  \n",
       "16428                            jr. linux administrator  \n",
       "16429   amazon web services linux bash ruby python agile  \n",
       "16430  javascript react.js golang startup ror iot ana...  \n",
       "16431  c .net java software application security hard...  \n",
       "\n",
       "[16432 rows x 3 columns]"
      ]
     },
     "execution_count": 43,
     "metadata": {},
     "output_type": "execute_result"
    }
   ],
   "source": [
    "jobs"
   ]
  },
  {
   "cell_type": "markdown",
   "metadata": {},
   "source": [
    "---"
   ]
  },
  {
   "cell_type": "markdown",
   "metadata": {},
   "source": [
    "# Remove words with low counts"
   ]
  },
  {
   "cell_type": "code",
   "execution_count": 5,
   "metadata": {},
   "outputs": [],
   "source": [
    "# Look at both job_description and skills columns\n",
    "jobs['text'] = jobs['job_description'] + ' ' + jobs['skills']"
   ]
  },
  {
   "cell_type": "markdown",
   "metadata": {},
   "source": [
    "## Using nltk"
   ]
  },
  {
   "cell_type": "code",
   "execution_count": 6,
   "metadata": {},
   "outputs": [
    {
     "name": "stdout",
     "output_type": "stream",
     "text": [
      "179\n"
     ]
    }
   ],
   "source": [
    "from nltk.corpus import stopwords\n",
    "stop_words = stopwords.words('english')\n",
    "print(len(stop_words))"
   ]
  },
  {
   "cell_type": "code",
   "execution_count": 8,
   "metadata": {},
   "outputs": [
    {
     "data": {
      "text/plain": [
       "0         an EDI Analyst with experience please read on...\n",
       "1        Informatica ETL DeveloperSt Petersburg FL Only...\n",
       "2        This nationally recognized Microsoft Gold Part...\n",
       "3         a .NET Developer with experience please read ...\n",
       "4        Hatstand a global financial consultancy is see...\n",
       "                               ...                        \n",
       "16431      JPMorgan Chase & Co. (NYSE: JPM) is a leadin...\n",
       "16432    Seeking Jr. Systems Administrators with experi...\n",
       "16433     a Senior Lead Devops Engineer with a desired ...\n",
       "16434    Headquartered in downtown San Francisco CA we ...\n",
       "16435     an AppSec or Hardware Security Engineer who h...\n",
       "Name: text, Length: 16436, dtype: object"
      ]
     },
     "execution_count": 8,
     "metadata": {},
     "output_type": "execute_result"
    }
   ],
   "source": [
    "text"
   ]
  },
  {
   "cell_type": "code",
   "execution_count": 13,
   "metadata": {},
   "outputs": [],
   "source": [
    "from nltk.tokenize import word_tokenize\n",
    "tokens = jobs['text'].map(word_tokenize)"
   ]
  },
  {
   "cell_type": "code",
   "execution_count": 14,
   "metadata": {},
   "outputs": [
    {
     "data": {
      "text/plain": [
       "0     an edi analyst with experience please read on...\n",
       "1    informatica etl developerst petersburg fl only...\n",
       "2    this nationally recognized microsoft gold part...\n",
       "3     a .net developer with experience please read ...\n",
       "4    hatstand a global financial consultancy is see...\n",
       "Name: text, dtype: object"
      ]
     },
     "execution_count": 14,
     "metadata": {},
     "output_type": "execute_result"
    }
   ],
   "source": [
    "jobs['text'].head(5).str.lower()"
   ]
  },
  {
   "cell_type": "code",
   "execution_count": null,
   "metadata": {},
   "outputs": [],
   "source": [
    "# convert to lower case\n",
    "tokens = jobs['text'].str.lower()"
   ]
  },
  {
   "cell_type": "code",
   "execution_count": null,
   "metadata": {},
   "outputs": [],
   "source": [
    "# split into words\n",
    "from nltk.tokenize import word_tokenize\n",
    "tokens = jobs['text'].map(word_tokenize)\n",
    "\n",
    "# convert to lower case\n",
    "tokens = [w.lower() for w in tokens]\n",
    "\n",
    "# remove punctuation from each word\n",
    "import string\n",
    "table = str.maketrans('', '', string.punctuation)\n",
    "stripped = [w.translate(table) for w in tokens]\n",
    "\n",
    "# remove remaining tokens that are not alphabetic\n",
    "words = [word for word in stripped if word.isalpha()]\n",
    "\n",
    "# filter out stop words\n",
    "from nltk.corpus import stopwords\n",
    "stop_words = set(stopwords.words('english'))\n",
    "words = [w for w in words if not w in stop_words]\n",
    "print(words[:100])"
   ]
  },
  {
   "cell_type": "markdown",
   "metadata": {},
   "source": [
    "## Using countvectorizer"
   ]
  },
  {
   "cell_type": "code",
   "execution_count": 193,
   "metadata": {},
   "outputs": [
    {
     "data": {
      "text/plain": [
       "(16428, 88015)"
      ]
     },
     "execution_count": 193,
     "metadata": {},
     "output_type": "execute_result"
    }
   ],
   "source": [
    "# Vectorize the training data\n",
    "cvec = CountVectorizer(stop_words='english')\n",
    "\n",
    "cvec_matrix = cvec.fit_transform(jobs['text'])\n",
    "\n",
    "cvec_matrix.shape"
   ]
  },
  {
   "cell_type": "markdown",
   "metadata": {},
   "source": [
    "86,767 words with no min_df  \n",
    "9943 words with min_df = 10"
   ]
  },
  {
   "cell_type": "code",
   "execution_count": 162,
   "metadata": {},
   "outputs": [],
   "source": [
    "df = pd.DataFrame(cvec_matrix.todense(), columns=cvec.get_feature_names())"
   ]
  },
  {
   "cell_type": "code",
   "execution_count": 163,
   "metadata": {},
   "outputs": [],
   "source": [
    "counts = [word for word in df if df[word].sum() < 10]"
   ]
  },
  {
   "cell_type": "code",
   "execution_count": 165,
   "metadata": {},
   "outputs": [],
   "source": [
    "words_to_drop = counts"
   ]
  },
  {
   "cell_type": "code",
   "execution_count": 166,
   "metadata": {},
   "outputs": [
    {
     "data": {
      "text/plain": [
       "75747"
      ]
     },
     "execution_count": 166,
     "metadata": {},
     "output_type": "execute_result"
    }
   ],
   "source": [
    "len(words_to_drop)"
   ]
  },
  {
   "cell_type": "code",
   "execution_count": 169,
   "metadata": {},
   "outputs": [
    {
     "data": {
      "text/plain": [
       "318"
      ]
     },
     "execution_count": 169,
     "metadata": {},
     "output_type": "execute_result"
    }
   ],
   "source": [
    "from sklearn.feature_extraction import text \n",
    "len(text.ENGLISH_STOP_WORDS)"
   ]
  },
  {
   "cell_type": "code",
   "execution_count": 170,
   "metadata": {},
   "outputs": [
    {
     "data": {
      "text/plain": [
       "76065"
      ]
     },
     "execution_count": 170,
     "metadata": {},
     "output_type": "execute_result"
    }
   ],
   "source": [
    "to_drop = text.ENGLISH_STOP_WORDS.union(words_to_drop)\n",
    "len(to_drop)"
   ]
  },
  {
   "cell_type": "code",
   "execution_count": 200,
   "metadata": {},
   "outputs": [
    {
     "data": {
      "text/plain": [
       "\" an EDI Analyst with experience, please read on We are a strong, long standing company looking for an EDI Analyst for our team. You must have + years of EDI experience in a TrustedLink for i environment. Your role will work with our finance department identifying trading partners, work closely with external customers and be the EDI liaison across the company. You will also monitor AS and VAN communications, correct errors and incoming data.What You Need for this PositionRequirements: + years of EDI experience + years of TrustedLink for i Experience, iSeries AS Experience with VAN and AS communicationsWhat's In It for YouWe offer a strong compensation package and benefits Local Candidates ONLY please.So, n EDI Analyst with experience, please apply today Applicants must be authorized to work in the U.S.Please apply directly to by clicking 'Click Here to Apply' with your Word resume Looking forward to receiving your resume and going over the position in more detail with you.- Not a fit for this position Click the link at the bottom of this email to search all of our open positions.Looking forward to receiving your resume CyberCodersCyberCoders, Inc is proud to be an Equal Opportunity EmployerAll qualified applicants will receive consideration for employment without regard to race, color, religion, sex, national origin, disability, protected veteran status, or any other characteristic protected by law.Your Right to Work - In compliance with federal law, all persons hired will be required to verify identity and eligibility to work in the United States and to complete the required employment eligibility verification document form upon hire.Copyright  - . CyberCoders, Inc. All rights reserved. edi trustedlink as van\""
      ]
     },
     "execution_count": 200,
     "metadata": {},
     "output_type": "execute_result"
    }
   ],
   "source": [
    "jobs['text'][0]"
   ]
  },
  {
   "cell_type": "code",
   "execution_count": 207,
   "metadata": {},
   "outputs": [],
   "source": [
    "test = jobs['text'][0]\n",
    "\n",
    "for word in to_drop:\n",
    "    pattern = f'\\s{word}\\s'\n",
    "    \n",
    "    if  in jobs['text'][0]:\n",
    "        test = test.replace(word, ' ')"
   ]
  },
  {
   "cell_type": "code",
   "execution_count": 208,
   "metadata": {},
   "outputs": [
    {
     "data": {
      "text/plain": [
       "\"   EDI An l t   ex  ce,     d   We        , l  st d g  mp y  ok g     EDI An l t     t . You m t   + y    EDI ex  ce     Tr tedL k       n nt. Y  r e   w      f  ce         y g   ng p   , w   sely   e e l c   rs  d   t  EDI l       s t   mp y. You    o m    AS  d VAN  m    ,     e    d   g d t .Wh t You N    t  Pos  R u    : + y    EDI ex  ce + y    Tr tedL k     Ex  ce,  Ser s AS Ex  ce   VAN  d AS  m    Wh t's In It   YouWe  r       mp    p   ge  d b f s L l C d d tes ONLY  .So, n EDI An l t   ex  ce,    p  t  y Appl c ts m t    d   w    t  U.S.Ple se  p    ly     cl   g 'Cl   He    Ap '   y  W  r   L  g fo rd     v g y  r    d g ng  er t        e   l    .- Not   f    t     Cl   t  l k  t t      t  em  l   se  h  ll      n   .L  g fo rd     v g y  r   Cy rC rsCy rC rs, Inc   p         E  l Oppo   y E o rAll   l  d  ppl c ts     ve         y nt w  ut   rd   r ce, c  ,    , sex, n    n, d  b  , p  ted v r  st t ,    y ot r c      p  ted   l w.Y  R     W  - In    ce   fe r l l w,  ll pe   h  d     r u  d     y    y  d el b     w    t  Un ed St tes  d    mp  t  r u  d  y nt el b         cu nt  m   h  .Co r    - . Cy rC rs, Inc. All r    se ed. ed    te nk  s v \""
      ]
     },
     "execution_count": 208,
     "metadata": {},
     "output_type": "execute_result"
    }
   ],
   "source": [
    "test"
   ]
  },
  {
   "cell_type": "code",
   "execution_count": null,
   "metadata": {},
   "outputs": [],
   "source": []
  },
  {
   "cell_type": "code",
   "execution_count": 135,
   "metadata": {},
   "outputs": [
    {
     "data": {
      "text/plain": [
       "444"
      ]
     },
     "execution_count": 135,
     "metadata": {},
     "output_type": "execute_result"
    }
   ],
   "source": [
    "# Lots of 'aa'\n",
    "df['aa'].sum()"
   ]
  },
  {
   "cell_type": "code",
   "execution_count": null,
   "metadata": {},
   "outputs": [],
   "source": []
  }
 ],
 "metadata": {
  "kernelspec": {
   "display_name": "Python 3",
   "language": "python",
   "name": "python3"
  },
  "language_info": {
   "codemirror_mode": {
    "name": "ipython",
    "version": 3
   },
   "file_extension": ".py",
   "mimetype": "text/x-python",
   "name": "python",
   "nbconvert_exporter": "python",
   "pygments_lexer": "ipython3",
   "version": "3.8.5"
  }
 },
 "nbformat": 4,
 "nbformat_minor": 4
}
