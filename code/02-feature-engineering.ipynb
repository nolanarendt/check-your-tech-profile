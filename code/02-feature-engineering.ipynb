{
 "cells": [
  {
   "cell_type": "markdown",
   "metadata": {},
   "source": [
    "# Feature Engineer"
   ]
  },
  {
   "cell_type": "code",
   "execution_count": 216,
   "metadata": {},
   "outputs": [],
   "source": [
    "import pandas as pd\n",
    "import numpy as np\n",
    "import re\n",
    "from sklearn.feature_extraction.text import TfidfVectorizer, CountVectorizer\n",
    "from sklearn.metrics.pairwise import linear_kernel\n",
    "import spacy\n",
    "import nltk"
   ]
  },
  {
   "cell_type": "code",
   "execution_count": 219,
   "metadata": {},
   "outputs": [],
   "source": [
    "jobs = pd.read_csv('../data/job_postings.csv')\n",
    "jobs = jobs.drop(columns=['date_added', 'organization', 'skills_len', 'job_type', 'location'])\n",
    "jobs.fillna('', inplace=True)\n",
    "jobs['word_count'] = jobs['job_description'].map(lambda x: len(x.split()))"
   ]
  },
  {
   "cell_type": "code",
   "execution_count": 220,
   "metadata": {},
   "outputs": [
    {
     "data": {
      "text/html": [
       "<div>\n",
       "<style scoped>\n",
       "    .dataframe tbody tr th:only-of-type {\n",
       "        vertical-align: middle;\n",
       "    }\n",
       "\n",
       "    .dataframe tbody tr th {\n",
       "        vertical-align: top;\n",
       "    }\n",
       "\n",
       "    .dataframe thead th {\n",
       "        text-align: right;\n",
       "    }\n",
       "</style>\n",
       "<table border=\"1\" class=\"dataframe\">\n",
       "  <thead>\n",
       "    <tr style=\"text-align: right;\">\n",
       "      <th></th>\n",
       "      <th>job_description</th>\n",
       "      <th>job_title</th>\n",
       "      <th>skills</th>\n",
       "      <th>word_count</th>\n",
       "    </tr>\n",
       "  </thead>\n",
       "  <tbody>\n",
       "    <tr>\n",
       "      <th>0</th>\n",
       "      <td>an EDI Analyst with experience please read on...</td>\n",
       "      <td>Analyst</td>\n",
       "      <td>edi trustedlink as van</td>\n",
       "      <td>266</td>\n",
       "    </tr>\n",
       "    <tr>\n",
       "      <th>1</th>\n",
       "      <td>Informatica ETL DeveloperSt Petersburg FL Only...</td>\n",
       "      <td>Developer</td>\n",
       "      <td>etl informatica b data exchange netezza oracle...</td>\n",
       "      <td>83</td>\n",
       "    </tr>\n",
       "    <tr>\n",
       "      <th>2</th>\n",
       "      <td>pmayekar kanandcorp.com - - Sunnyvale CAANGULA...</td>\n",
       "      <td>Developer</td>\n",
       "      <td>angular</td>\n",
       "      <td>8</td>\n",
       "    </tr>\n",
       "    <tr>\n",
       "      <th>3</th>\n",
       "      <td>This nationally recognized Microsoft Gold Part...</td>\n",
       "      <td>Manager</td>\n",
       "      <td>microsoft dynamics ax project manager - toront...</td>\n",
       "      <td>582</td>\n",
       "    </tr>\n",
       "    <tr>\n",
       "      <th>4</th>\n",
       "      <td>a .NET Developer with experience please read ...</td>\n",
       "      <td>Developer</td>\n",
       "      <td>c asp.net sql javascript mvc</td>\n",
       "      <td>349</td>\n",
       "    </tr>\n",
       "    <tr>\n",
       "      <th>...</th>\n",
       "      <td>...</td>\n",
       "      <td>...</td>\n",
       "      <td>...</td>\n",
       "      <td>...</td>\n",
       "    </tr>\n",
       "    <tr>\n",
       "      <th>16544</th>\n",
       "      <td>JPMorgan Chase &amp; Co. (NYSE: JPM) is a leading...</td>\n",
       "      <td>Developer</td>\n",
       "      <td>.net architecture developer development git ht...</td>\n",
       "      <td>852</td>\n",
       "    </tr>\n",
       "    <tr>\n",
       "      <th>16545</th>\n",
       "      <td>Seeking Jr. Systems Administrators with experi...</td>\n",
       "      <td>Administrator</td>\n",
       "      <td>jr. linux administrator</td>\n",
       "      <td>353</td>\n",
       "    </tr>\n",
       "    <tr>\n",
       "      <th>16546</th>\n",
       "      <td>a Senior Lead Devops Engineer with a desired ...</td>\n",
       "      <td>Developer</td>\n",
       "      <td>amazon web services linux bash ruby python agile</td>\n",
       "      <td>312</td>\n",
       "    </tr>\n",
       "    <tr>\n",
       "      <th>16547</th>\n",
       "      <td>Headquartered in downtown San Francisco CA we ...</td>\n",
       "      <td>Developer</td>\n",
       "      <td>javascript react.js golang startup ror iot ana...</td>\n",
       "      <td>304</td>\n",
       "    </tr>\n",
       "    <tr>\n",
       "      <th>16548</th>\n",
       "      <td>an AppSec or Hardware Security Engineer who h...</td>\n",
       "      <td>Engineer</td>\n",
       "      <td>c .net java software application security hard...</td>\n",
       "      <td>538</td>\n",
       "    </tr>\n",
       "  </tbody>\n",
       "</table>\n",
       "<p>16549 rows × 4 columns</p>\n",
       "</div>"
      ],
      "text/plain": [
       "                                         job_description      job_title  \\\n",
       "0       an EDI Analyst with experience please read on...        Analyst   \n",
       "1      Informatica ETL DeveloperSt Petersburg FL Only...      Developer   \n",
       "2      pmayekar kanandcorp.com - - Sunnyvale CAANGULA...      Developer   \n",
       "3      This nationally recognized Microsoft Gold Part...        Manager   \n",
       "4       a .NET Developer with experience please read ...      Developer   \n",
       "...                                                  ...            ...   \n",
       "16544   JPMorgan Chase & Co. (NYSE: JPM) is a leading...      Developer   \n",
       "16545  Seeking Jr. Systems Administrators with experi...  Administrator   \n",
       "16546   a Senior Lead Devops Engineer with a desired ...      Developer   \n",
       "16547  Headquartered in downtown San Francisco CA we ...      Developer   \n",
       "16548   an AppSec or Hardware Security Engineer who h...       Engineer   \n",
       "\n",
       "                                                  skills  word_count  \n",
       "0                                 edi trustedlink as van         266  \n",
       "1      etl informatica b data exchange netezza oracle...          83  \n",
       "2                                                angular           8  \n",
       "3      microsoft dynamics ax project manager - toront...         582  \n",
       "4                           c asp.net sql javascript mvc         349  \n",
       "...                                                  ...         ...  \n",
       "16544  .net architecture developer development git ht...         852  \n",
       "16545                            jr. linux administrator         353  \n",
       "16546   amazon web services linux bash ruby python agile         312  \n",
       "16547  javascript react.js golang startup ror iot ana...         304  \n",
       "16548  c .net java software application security hard...         538  \n",
       "\n",
       "[16549 rows x 4 columns]"
      ]
     },
     "execution_count": 220,
     "metadata": {},
     "output_type": "execute_result"
    }
   ],
   "source": [
    "jobs"
   ]
  },
  {
   "cell_type": "markdown",
   "metadata": {},
   "source": [
    "---"
   ]
  },
  {
   "cell_type": "markdown",
   "metadata": {},
   "source": [
    "# Remove words with low counts"
   ]
  },
  {
   "cell_type": "code",
   "execution_count": 199,
   "metadata": {},
   "outputs": [
    {
     "name": "stderr",
     "output_type": "stream",
     "text": [
      "<ipython-input-199-6df4aaa94410>:2: SettingWithCopyWarning: \n",
      "A value is trying to be set on a copy of a slice from a DataFrame.\n",
      "Try using .loc[row_indexer,col_indexer] = value instead\n",
      "\n",
      "See the caveats in the documentation: https://pandas.pydata.org/pandas-docs/stable/user_guide/indexing.html#returning-a-view-versus-a-copy\n",
      "  jobs['text'] = jobs['job_description'] + ' ' + jobs['skills']\n"
     ]
    }
   ],
   "source": [
    "# Look at both job_description and skills columns\n",
    "jobs['text'] = jobs['job_description'] + ' ' + jobs['skills']"
   ]
  },
  {
   "cell_type": "code",
   "execution_count": 218,
   "metadata": {},
   "outputs": [
    {
     "name": "stdout",
     "output_type": "stream",
     "text": [
      "179\n"
     ]
    }
   ],
   "source": [
    "from nltk.corpus import stopwords\n",
    "stop_words = stopwords.words('english')\n",
    "print(len(stop_words))"
   ]
  },
  {
   "cell_type": "code",
   "execution_count": null,
   "metadata": {},
   "outputs": [],
   "source": [
    "# load data\n",
    "filename = 'metamorphosis_clean.txt'\n",
    "file = open(filename, 'rt')\n",
    "text = file.read()\n",
    "file.close()\n",
    "\n",
    "# split into words\n",
    "from nltk.tokenize import word_tokenize\n",
    "tokens = word_tokenize(text)\n",
    "\n",
    "# convert to lower case\n",
    "tokens = [w.lower() for w in tokens]\n",
    "\n",
    "# remove punctuation from each word\n",
    "import string\n",
    "table = str.maketrans('', '', string.punctuation)\n",
    "stripped = [w.translate(table) for w in tokens]\n",
    "\n",
    "# remove remaining tokens that are not alphabetic\n",
    "words = [word for word in stripped if word.isalpha()]\n",
    "\n",
    "# filter out stop words\n",
    "from nltk.corpus import stopwords\n",
    "stop_words = set(stopwords.words('english'))\n",
    "words = [w for w in words if not w in stop_words]\n",
    "print(words[:100])"
   ]
  },
  {
   "cell_type": "code",
   "execution_count": 193,
   "metadata": {},
   "outputs": [
    {
     "data": {
      "text/plain": [
       "(16428, 88015)"
      ]
     },
     "execution_count": 193,
     "metadata": {},
     "output_type": "execute_result"
    }
   ],
   "source": [
    "# Vectorize the training data\n",
    "cvec = CountVectorizer(stop_words='english')\n",
    "\n",
    "cvec_matrix = cvec.fit_transform(jobs['text'])\n",
    "\n",
    "cvec_matrix.shape"
   ]
  },
  {
   "cell_type": "markdown",
   "metadata": {},
   "source": [
    "86,767 words with no min_df  \n",
    "9943 words with min_df = 10"
   ]
  },
  {
   "cell_type": "code",
   "execution_count": 162,
   "metadata": {},
   "outputs": [],
   "source": [
    "df = pd.DataFrame(cvec_matrix.todense(), columns=cvec.get_feature_names())"
   ]
  },
  {
   "cell_type": "code",
   "execution_count": 163,
   "metadata": {},
   "outputs": [],
   "source": [
    "counts = [word for word in df if df[word].sum() < 10]"
   ]
  },
  {
   "cell_type": "code",
   "execution_count": 165,
   "metadata": {},
   "outputs": [],
   "source": [
    "words_to_drop = counts"
   ]
  },
  {
   "cell_type": "code",
   "execution_count": 166,
   "metadata": {},
   "outputs": [
    {
     "data": {
      "text/plain": [
       "75747"
      ]
     },
     "execution_count": 166,
     "metadata": {},
     "output_type": "execute_result"
    }
   ],
   "source": [
    "len(words_to_drop)"
   ]
  },
  {
   "cell_type": "code",
   "execution_count": 169,
   "metadata": {},
   "outputs": [
    {
     "data": {
      "text/plain": [
       "318"
      ]
     },
     "execution_count": 169,
     "metadata": {},
     "output_type": "execute_result"
    }
   ],
   "source": [
    "from sklearn.feature_extraction import text \n",
    "len(text.ENGLISH_STOP_WORDS)"
   ]
  },
  {
   "cell_type": "code",
   "execution_count": 170,
   "metadata": {},
   "outputs": [
    {
     "data": {
      "text/plain": [
       "76065"
      ]
     },
     "execution_count": 170,
     "metadata": {},
     "output_type": "execute_result"
    }
   ],
   "source": [
    "to_drop = text.ENGLISH_STOP_WORDS.union(words_to_drop)\n",
    "len(to_drop)"
   ]
  },
  {
   "cell_type": "code",
   "execution_count": 200,
   "metadata": {},
   "outputs": [
    {
     "data": {
      "text/plain": [
       "\" an EDI Analyst with experience, please read on We are a strong, long standing company looking for an EDI Analyst for our team. You must have + years of EDI experience in a TrustedLink for i environment. Your role will work with our finance department identifying trading partners, work closely with external customers and be the EDI liaison across the company. You will also monitor AS and VAN communications, correct errors and incoming data.What You Need for this PositionRequirements: + years of EDI experience + years of TrustedLink for i Experience, iSeries AS Experience with VAN and AS communicationsWhat's In It for YouWe offer a strong compensation package and benefits Local Candidates ONLY please.So, n EDI Analyst with experience, please apply today Applicants must be authorized to work in the U.S.Please apply directly to by clicking 'Click Here to Apply' with your Word resume Looking forward to receiving your resume and going over the position in more detail with you.- Not a fit for this position Click the link at the bottom of this email to search all of our open positions.Looking forward to receiving your resume CyberCodersCyberCoders, Inc is proud to be an Equal Opportunity EmployerAll qualified applicants will receive consideration for employment without regard to race, color, religion, sex, national origin, disability, protected veteran status, or any other characteristic protected by law.Your Right to Work - In compliance with federal law, all persons hired will be required to verify identity and eligibility to work in the United States and to complete the required employment eligibility verification document form upon hire.Copyright  - . CyberCoders, Inc. All rights reserved. edi trustedlink as van\""
      ]
     },
     "execution_count": 200,
     "metadata": {},
     "output_type": "execute_result"
    }
   ],
   "source": [
    "jobs['text'][0]"
   ]
  },
  {
   "cell_type": "code",
   "execution_count": 207,
   "metadata": {},
   "outputs": [],
   "source": [
    "test = jobs['text'][0]\n",
    "\n",
    "for word in to_drop:\n",
    "    pattern = f'\\s{word}\\s'\n",
    "    \n",
    "    if  in jobs['text'][0]:\n",
    "        test = test.replace(word, ' ')"
   ]
  },
  {
   "cell_type": "code",
   "execution_count": 208,
   "metadata": {},
   "outputs": [
    {
     "data": {
      "text/plain": [
       "\"   EDI An l t   ex  ce,     d   We        , l  st d g  mp y  ok g     EDI An l t     t . You m t   + y    EDI ex  ce     Tr tedL k       n nt. Y  r e   w      f  ce         y g   ng p   , w   sely   e e l c   rs  d   t  EDI l       s t   mp y. You    o m    AS  d VAN  m    ,     e    d   g d t .Wh t You N    t  Pos  R u    : + y    EDI ex  ce + y    Tr tedL k     Ex  ce,  Ser s AS Ex  ce   VAN  d AS  m    Wh t's In It   YouWe  r       mp    p   ge  d b f s L l C d d tes ONLY  .So, n EDI An l t   ex  ce,    p  t  y Appl c ts m t    d   w    t  U.S.Ple se  p    ly     cl   g 'Cl   He    Ap '   y  W  r   L  g fo rd     v g y  r    d g ng  er t        e   l    .- Not   f    t     Cl   t  l k  t t      t  em  l   se  h  ll      n   .L  g fo rd     v g y  r   Cy rC rsCy rC rs, Inc   p         E  l Oppo   y E o rAll   l  d  ppl c ts     ve         y nt w  ut   rd   r ce, c  ,    , sex, n    n, d  b  , p  ted v r  st t ,    y ot r c      p  ted   l w.Y  R     W  - In    ce   fe r l l w,  ll pe   h  d     r u  d     y    y  d el b     w    t  Un ed St tes  d    mp  t  r u  d  y nt el b         cu nt  m   h  .Co r    - . Cy rC rs, Inc. All r    se ed. ed    te nk  s v \""
      ]
     },
     "execution_count": 208,
     "metadata": {},
     "output_type": "execute_result"
    }
   ],
   "source": [
    "test"
   ]
  },
  {
   "cell_type": "code",
   "execution_count": null,
   "metadata": {},
   "outputs": [],
   "source": []
  },
  {
   "cell_type": "code",
   "execution_count": 135,
   "metadata": {},
   "outputs": [
    {
     "data": {
      "text/plain": [
       "444"
      ]
     },
     "execution_count": 135,
     "metadata": {},
     "output_type": "execute_result"
    }
   ],
   "source": [
    "# Lots of 'aa'\n",
    "df['aa'].sum()"
   ]
  },
  {
   "cell_type": "code",
   "execution_count": null,
   "metadata": {},
   "outputs": [],
   "source": []
  }
 ],
 "metadata": {
  "kernelspec": {
   "display_name": "Python 3",
   "language": "python",
   "name": "python3"
  },
  "language_info": {
   "codemirror_mode": {
    "name": "ipython",
    "version": 3
   },
   "file_extension": ".py",
   "mimetype": "text/x-python",
   "name": "python",
   "nbconvert_exporter": "python",
   "pygments_lexer": "ipython3",
   "version": "3.8.5"
  }
 },
 "nbformat": 4,
 "nbformat_minor": 4
}
