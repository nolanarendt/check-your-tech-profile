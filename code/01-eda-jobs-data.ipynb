{
 "cells": [
  {
   "cell_type": "markdown",
   "metadata": {},
   "source": [
    "# EDA"
   ]
  },
  {
   "cell_type": "code",
   "execution_count": 226,
   "metadata": {},
   "outputs": [],
   "source": [
    "import pandas as pd\n",
    "import numpy as np\n",
    "import matplotlib.pyplot as plt\n",
    "import seaborn as sns\n",
    "import re"
   ]
  },
  {
   "cell_type": "code",
   "execution_count": 227,
   "metadata": {},
   "outputs": [],
   "source": [
    "import httpimport\n",
    "url = 'https://raw.githubusercontent.com/zach-brown-18/class-toolkit/main/eda/'\n",
    "with httpimport.remote_repo(['cleaning', 'columns'], url):\n",
    "    import cleaning as c\n",
    "    import columns as cols"
   ]
  },
  {
   "cell_type": "markdown",
   "metadata": {},
   "source": [
    "---"
   ]
  },
  {
   "cell_type": "markdown",
   "metadata": {},
   "source": [
    "# Load and Look at Data"
   ]
  },
  {
   "cell_type": "code",
   "execution_count": 228,
   "metadata": {},
   "outputs": [
    {
     "name": "stdout",
     "output_type": "stream",
     "text": [
      "(21919, 12)\n"
     ]
    }
   ],
   "source": [
    "dice = pd.read_csv('../data/dice.csv', encoding='latin-1')\n",
    "print(dice.shape)"
   ]
  },
  {
   "cell_type": "code",
   "execution_count": 229,
   "metadata": {},
   "outputs": [],
   "source": [
    "# Drop the fluff\n",
    "use_cols = ['date_added', 'job_description', 'job_title', 'job_type', 'location', 'organization', 'sector']\n",
    "dice = dice.loc[:, use_cols]"
   ]
  },
  {
   "cell_type": "code",
   "execution_count": 230,
   "metadata": {},
   "outputs": [
    {
     "name": "stdout",
     "output_type": "stream",
     "text": [
      "(21919, 7)\n"
     ]
    },
    {
     "data": {
      "text/html": [
       "<div>\n",
       "<style scoped>\n",
       "    .dataframe tbody tr th:only-of-type {\n",
       "        vertical-align: middle;\n",
       "    }\n",
       "\n",
       "    .dataframe tbody tr th {\n",
       "        vertical-align: top;\n",
       "    }\n",
       "\n",
       "    .dataframe thead th {\n",
       "        text-align: right;\n",
       "    }\n",
       "</style>\n",
       "<table border=\"1\" class=\"dataframe\">\n",
       "  <thead>\n",
       "    <tr style=\"text-align: right;\">\n",
       "      <th></th>\n",
       "      <th>date_added</th>\n",
       "      <th>job_description</th>\n",
       "      <th>job_title</th>\n",
       "      <th>job_type</th>\n",
       "      <th>location</th>\n",
       "      <th>organization</th>\n",
       "      <th>sector</th>\n",
       "    </tr>\n",
       "  </thead>\n",
       "  <tbody>\n",
       "    <tr>\n",
       "      <th>0</th>\n",
       "      <td>11/11/2016</td>\n",
       "      <td>Minimum Required Skills:EDI, TrustedLink, AS2,...</td>\n",
       "      <td>EDI Analyst</td>\n",
       "      <td>Full Time, Full-time, Employee</td>\n",
       "      <td>Stamford, CT</td>\n",
       "      <td>CyberCoders</td>\n",
       "      <td>EDI, TrustedLink, AS2, VAN - EDI, TrustedLink,...</td>\n",
       "    </tr>\n",
       "    <tr>\n",
       "      <th>1</th>\n",
       "      <td>11/11/2016</td>\n",
       "      <td>InformaticaåÊ/ ETL DeveloperSt, Petersburg, FL...</td>\n",
       "      <td>Informatica ETL Developer</td>\n",
       "      <td>Full Time, Full Time</td>\n",
       "      <td>St Petersburg, FL</td>\n",
       "      <td>TrustMinds</td>\n",
       "      <td>ETL Informatica B2B Data Exchange Netezza Orac...</td>\n",
       "    </tr>\n",
       "  </tbody>\n",
       "</table>\n",
       "</div>"
      ],
      "text/plain": [
       "   date_added                                    job_description  \\\n",
       "0  11/11/2016  Minimum Required Skills:EDI, TrustedLink, AS2,...   \n",
       "1  11/11/2016  InformaticaåÊ/ ETL DeveloperSt, Petersburg, FL...   \n",
       "\n",
       "                   job_title                        job_type  \\\n",
       "0                EDI Analyst  Full Time, Full-time, Employee   \n",
       "1  Informatica ETL Developer            Full Time, Full Time   \n",
       "\n",
       "            location organization  \\\n",
       "0       Stamford, CT  CyberCoders   \n",
       "1  St Petersburg, FL   TrustMinds   \n",
       "\n",
       "                                              sector  \n",
       "0  EDI, TrustedLink, AS2, VAN - EDI, TrustedLink,...  \n",
       "1  ETL Informatica B2B Data Exchange Netezza Orac...  "
      ]
     },
     "execution_count": 230,
     "metadata": {},
     "output_type": "execute_result"
    }
   ],
   "source": [
    "# 7 total columns used\n",
    "print(dice.shape)\n",
    "dice.head(2)"
   ]
  },
  {
   "cell_type": "markdown",
   "metadata": {},
   "source": [
    "---"
   ]
  },
  {
   "cell_type": "markdown",
   "metadata": {},
   "source": [
    "# Cleaning"
   ]
  },
  {
   "cell_type": "markdown",
   "metadata": {},
   "source": [
    "## Functions"
   ]
  },
  {
   "cell_type": "code",
   "execution_count": 231,
   "metadata": {},
   "outputs": [],
   "source": [
    "def remove_duplicate_skills(idx,df):\n",
    "    skills = df.loc[idx, 'sector'].split(' -')[0]\n",
    "    try:\n",
    "        df.loc[idx, 'job_description'] = df.loc[idx, 'job_description'].split(skills)[1]\n",
    "    except:\n",
    "        print(f'{idx} failed.')"
   ]
  },
  {
   "cell_type": "code",
   "execution_count": 232,
   "metadata": {},
   "outputs": [],
   "source": [
    "def remove_unwanted_characters(s):\n",
    "    s = re.sub('\\*', ' ', s)\n",
    "    s = re.sub('/', ' ', s)\n",
    "    s = re.sub('_', ' ', s)\n",
    "    s = re.sub('\\?', ' ', s)\n",
    "    s = re.sub('%', ' ', s)\n",
    "    s = re.sub('@', ' ', s)\n",
    "    s = re.sub('#', ' ', s)\n",
    "    s = re.sub('!', ' ', s)\n",
    "    s = re.sub(',', ' ', s)\n",
    "    s = re.sub('\\+', ' ', s)\n",
    "    s = re.sub('&', ' ', s)\n",
    "    s = re.sub('\\d', ' ', s)\n",
    "    return s"
   ]
  },
  {
   "cell_type": "code",
   "execution_count": 233,
   "metadata": {},
   "outputs": [],
   "source": [
    "def rem_fluff(data):\n",
    "    data = data.replace('please share resume', \" \")\n",
    "    data = data.replace('call me', \" \")\n",
    "    data = data.replace('if you are a', \" \")\n",
    "    data = data.replace('if you are an', \" \")\n",
    "    data = data.replace('job description', \" \")\n",
    "    data = data.replace('if you are', \" \")\n",
    "    data = data.replace('reply', \" \")\n",
    "    data = data.replace(\"please apply today applicants must be authorized to work in the u.s.please apply directly to by clicking 'click here to apply' with your word resume looking forward to receiving your resume and going over the position in more detail with you.- not a fit for this position click the link at the bottom of this email to search all of our open positions.looking forward to receiving your resume cybercoderscybercoders inc is proud to be an equal opportunity employerall qualified applicants will receive consideration for employment without regard to race color religion sex national origin disability protected veteran status or any other characteristic protected by law.your right to work - in compliance with federal law all persons hired will be required to verify identity and eligibility to work in the united states and to complete the required employment eligibility verification document form upon hire.copyright  - . cybercoders inc. all rights reserved.\", ' ')\n",
    "    return data"
   ]
  },
  {
   "cell_type": "code",
   "execution_count": 234,
   "metadata": {},
   "outputs": [],
   "source": [
    "# function to get rid of repeated skills after a '-'\n",
    "def split_skills(data):\n",
    "        x = data\n",
    "        nospace = x.replace(' ', '') # removing spaces\n",
    "        if '-' in nospace:\n",
    "            first_half = nospace.split('-')[0] #first half of string before '-'\n",
    "            second_half = nospace.split('-')[1] # second half of string after '-'\n",
    "            if first_half == second_half:\n",
    "                x = list(x.split('-'))[0].strip() #getting only first half of string to return\n",
    "                return x\n",
    "            else:\n",
    "                return x      \n",
    "        else:\n",
    "            return x"
   ]
  },
  {
   "cell_type": "code",
   "execution_count": 235,
   "metadata": {},
   "outputs": [],
   "source": [
    "def drop_corrupt_rows(df):\n",
    "    df['word_count'] = df['job_description'].map(lambda x: len(x.split()))\n",
    "    \n",
    "    mean_word_count = df['word_count'].mean()\n",
    "    print('Mean word count per post:', round(mean_word_count))\n",
    "    \n",
    "    std_word_count = df['word_count'].std()\n",
    "    print('std word count per post:', round(std_word_count))\n",
    "    \n",
    "    too_short = mean_word_count - 1.5*std_word_count\n",
    "    too_short = 20\n",
    "    \n",
    "    # Drop posts with 20 word or less\n",
    "    print(len(df), 'before dropping')\n",
    "    mask = df['word_count'] > too_short\n",
    "    df = df[mask]\n",
    "    print(len(df), 'after dropping')\n",
    "\n",
    "    df.drop(columns='word_count', inplace=True)\n",
    "    \n",
    "    return df.reset_index(drop=True)"
   ]
  },
  {
   "cell_type": "markdown",
   "metadata": {},
   "source": [
    "---"
   ]
  },
  {
   "cell_type": "markdown",
   "metadata": {},
   "source": [
    "## Cleaning job_description"
   ]
  },
  {
   "cell_type": "code",
   "execution_count": 236,
   "metadata": {},
   "outputs": [
    {
     "name": "stdout",
     "output_type": "stream",
     "text": [
      "Mean word count per post: 340\n",
      "std word count per post: 187\n",
      "21919 before dropping\n",
      "21802 after dropping\n"
     ]
    },
    {
     "name": "stderr",
     "output_type": "stream",
     "text": [
      "/opt/anaconda3/envs/group_project/lib/python3.8/site-packages/pandas/core/frame.py:4167: SettingWithCopyWarning: \n",
      "A value is trying to be set on a copy of a slice from a DataFrame\n",
      "\n",
      "See the caveats in the documentation: https://pandas.pydata.org/pandas-docs/stable/user_guide/indexing.html#returning-a-view-versus-a-copy\n",
      "  return super().drop(\n"
     ]
    },
    {
     "name": "stdout",
     "output_type": "stream",
     "text": [
      "11582 failed.\n",
      "11591 failed.\n",
      "11612 failed.\n",
      "17592 failed.\n",
      "17601 failed.\n",
      "17637 failed.\n",
      "17638 failed.\n",
      "18696 failed.\n"
     ]
    }
   ],
   "source": [
    "# Remove unwanted characters and numbers\n",
    "dice['sector'].fillna('', inplace=True)\n",
    "dice['job_description'] = dice['job_description'].map(remove_unwanted_characters)\n",
    "dice['sector'] = dice['sector'].map(remove_unwanted_characters)\n",
    "\n",
    "# Correct multiple spaces (including \\t and \\n)\n",
    "dice['job_description'] = dice['job_description'].map(lambda x: re.sub('\\s+',' ', x))\n",
    "dice['sector'].fillna('', inplace=True)\n",
    "dice['sector'] = dice['sector'].map(lambda x: re.sub('\\s+',' ', x))\n",
    "\n",
    "# Remove special characters\n",
    "dice['job_description'] = dice['job_description'].map(c.remove_special_chars)\n",
    "dice['sector'] = dice['sector'].map(c.remove_special_chars)\n",
    "\n",
    "# Drop corrupted rows\n",
    "dice = drop_corrupt_rows(dice)\n",
    "\n",
    "# Remove skills repeated in job description and sector\n",
    "skills_repeated = dice['job_description'].map(lambda x: 'Minimum Required Skills' in x)\n",
    "for row in dice.loc[skills_repeated, :].index:\n",
    "    remove_duplicate_skills(row, dice)\n",
    "    \n",
    "# Lowercase job_description\n",
    "dice['job_description'] = dice['job_description'].str.lower()\n",
    "\n",
    "# Remove common phrases\n",
    "dice['job_description'] = dice['job_description'].map(rem_fluff)\n",
    "dice['sector'] = dice['sector'].map(rem_fluff)\n",
    "\n",
    "# Correct multiple spaces (including \\t and \\n)\n",
    "dice['job_description'] = dice['job_description'].map(lambda x: re.sub('\\s+',' ', x))\n",
    "dice['sector'] = dice['sector'].map(lambda x: re.sub('\\s+',' ', x))"
   ]
  },
  {
   "cell_type": "markdown",
   "metadata": {},
   "source": [
    "## Search Duplicate Posts"
   ]
  },
  {
   "cell_type": "code",
   "execution_count": 237,
   "metadata": {},
   "outputs": [
    {
     "data": {
      "text/plain": [
       "3534"
      ]
     },
     "execution_count": 237,
     "metadata": {},
     "output_type": "execute_result"
    }
   ],
   "source": [
    "# Find duplicate posts\n",
    "description_counts = dice['job_description'].value_counts()\n",
    "multiple_posts = description_counts > 1\n",
    "description_counts[multiple_posts].sum()"
   ]
  },
  {
   "cell_type": "code",
   "execution_count": 238,
   "metadata": {},
   "outputs": [
    {
     "data": {
      "text/plain": [
       "CyberCoders               2903\n",
       "TEKsystems                 107\n",
       "Robert Half Technology      56\n",
       "Citrix                      39\n",
       "NORTHROP GRUMMAN            38\n",
       "Name: organization, dtype: int64"
      ]
     },
     "execution_count": 238,
     "metadata": {},
     "output_type": "execute_result"
    }
   ],
   "source": [
    "# CyberCoders are spamming the list\n",
    "repeated_descriptions = description_counts[multiple_posts].index\n",
    "repeated_descriptions = dice['job_description'].map(lambda x: x in repeated_descriptions)\n",
    "\n",
    "dice.loc[repeated_descriptions, :]['organization'].value_counts().head()"
   ]
  },
  {
   "cell_type": "code",
   "execution_count": 239,
   "metadata": {},
   "outputs": [
    {
     "data": {
      "text/plain": [
       "1778"
      ]
     },
     "execution_count": 239,
     "metadata": {},
     "output_type": "execute_result"
    }
   ],
   "source": [
    "# Majority of repeated posts are only repeated once\n",
    "description_counts[description_counts == 2].sum()"
   ]
  },
  {
   "cell_type": "markdown",
   "metadata": {},
   "source": [
    "**Conclusion:** Repeated, identical posts will distort the data pool. If a post is repeated, drop all occurances but one."
   ]
  },
  {
   "cell_type": "markdown",
   "metadata": {},
   "source": [
    "## Drop Duplicate job posts"
   ]
  },
  {
   "cell_type": "code",
   "execution_count": 240,
   "metadata": {},
   "outputs": [
    {
     "name": "stdout",
     "output_type": "stream",
     "text": [
      "21802 job listings before dropping duplicates\n"
     ]
    }
   ],
   "source": [
    "print(f'{dice.shape[0]} job listings before dropping duplicates')"
   ]
  },
  {
   "cell_type": "code",
   "execution_count": 241,
   "metadata": {},
   "outputs": [
    {
     "name": "stdout",
     "output_type": "stream",
     "text": [
      "19651 job listings after dropping duplicates\n"
     ]
    }
   ],
   "source": [
    "# Define duplicate posts as having identical job description, job type and organization.\n",
    "non_duplicates = dice.drop(columns=['date_added', 'location', 'job_title', 'sector']).drop_duplicates().index\n",
    "dice = dice.loc[non_duplicates, :].reset_index(drop=True)\n",
    "\n",
    "print(f'{dice.shape[0]} job listings after dropping duplicates')"
   ]
  },
  {
   "cell_type": "code",
   "execution_count": 242,
   "metadata": {},
   "outputs": [
    {
     "name": "stdout",
     "output_type": "stream",
     "text": [
      "38 duplicates left over\n"
     ]
    }
   ],
   "source": [
    "# Find duplicate posts - still some left over\n",
    "description_counts = dice['job_description'].value_counts()\n",
    "multiple_posts = description_counts > 1\n",
    "print(f'{description_counts[multiple_posts].sum()} duplicates left over')"
   ]
  },
  {
   "cell_type": "markdown",
   "metadata": {},
   "source": [
    "## Remove phone numbers and email addresses"
   ]
  },
  {
   "cell_type": "code",
   "execution_count": 243,
   "metadata": {},
   "outputs": [],
   "source": [
    "# Remove them from the job description\n",
    "dice['job_description'] = dice['job_description'].map(c.remove_phone_numbers)\n",
    "dice['job_description'] = dice['job_description'].map(c.remove_emails)"
   ]
  },
  {
   "cell_type": "code",
   "execution_count": 244,
   "metadata": {},
   "outputs": [],
   "source": [
    "dice.reset_index(drop=True, inplace=True)"
   ]
  },
  {
   "cell_type": "markdown",
   "metadata": {},
   "source": [
    "## Cleaning job_title"
   ]
  },
  {
   "cell_type": "code",
   "execution_count": 245,
   "metadata": {},
   "outputs": [
    {
     "data": {
      "text/html": [
       "<div>\n",
       "<style scoped>\n",
       "    .dataframe tbody tr th:only-of-type {\n",
       "        vertical-align: middle;\n",
       "    }\n",
       "\n",
       "    .dataframe tbody tr th {\n",
       "        vertical-align: top;\n",
       "    }\n",
       "\n",
       "    .dataframe thead th {\n",
       "        text-align: right;\n",
       "    }\n",
       "</style>\n",
       "<table border=\"1\" class=\"dataframe\">\n",
       "  <thead>\n",
       "    <tr style=\"text-align: right;\">\n",
       "      <th></th>\n",
       "      <th>date_added</th>\n",
       "      <th>job_description</th>\n",
       "      <th>job_title</th>\n",
       "      <th>job_type</th>\n",
       "      <th>location</th>\n",
       "      <th>organization</th>\n",
       "      <th>sector</th>\n",
       "    </tr>\n",
       "  </thead>\n",
       "  <tbody>\n",
       "    <tr>\n",
       "      <th>13459</th>\n",
       "      <td>11/4/2016</td>\n",
       "      <td>our end client is seeking technicians with exp...</td>\n",
       "      <td>NaN</td>\n",
       "      <td>NaN</td>\n",
       "      <td>NaN</td>\n",
       "      <td>NaN</td>\n",
       "      <td></td>\n",
       "    </tr>\n",
       "  </tbody>\n",
       "</table>\n",
       "</div>"
      ],
      "text/plain": [
       "      date_added                                    job_description job_title  \\\n",
       "13459  11/4/2016  our end client is seeking technicians with exp...       NaN   \n",
       "\n",
       "      job_type location organization sector  \n",
       "13459      NaN      NaN          NaN         "
      ]
     },
     "execution_count": 245,
     "metadata": {},
     "output_type": "execute_result"
    }
   ],
   "source": [
    "# Finding null values in job_title\n",
    "dice[dice['job_title'].isnull()]"
   ]
  },
  {
   "cell_type": "code",
   "execution_count": 246,
   "metadata": {},
   "outputs": [],
   "source": [
    "# Removing the one null job_title\n",
    "dice = dice.dropna(subset = ['job_title'])"
   ]
  },
  {
   "cell_type": "markdown",
   "metadata": {},
   "source": [
    "### catagorizing job_title"
   ]
  },
  {
   "cell_type": "code",
   "execution_count": 247,
   "metadata": {},
   "outputs": [],
   "source": [
    "dice.loc[dice['job_title'].str.contains('Developer|developer|Dev|dev|Scrum|scrum'), \n",
    "                  'job_title'] = 'Developer'\n",
    "dice.loc[dice['job_title'].str.contains('Analyst|analyst'), \n",
    "                  'job_title'] = 'Analyst'\n",
    "dice.loc[dice['job_title'].str.contains('Programmer|programmer|Programming|programming|Full'),\n",
    "                  'job_title'] = 'Programmer'\n",
    "dice.loc[dice['job_title'].str.contains('Manager|manager|Project Coordinator|Technical Lead'), \n",
    "                  'job_title'] = 'Manager'\n",
    "dice.loc[dice['job_title'].str.contains('Engineer|engineer'), \n",
    "                  'job_title'] = 'Engineer'\n",
    "dice.loc[dice['job_title'].str.contains('Architect|architect'), \n",
    "                  'job_title'] = 'Architect'\n",
    "dice.loc[dice['job_title'].str.contains('Designer|designer'), \n",
    "                  'job_title'] = 'Designer'\n",
    "dice.loc[dice['job_title'].str.contains('Technician|technician'), \n",
    "                  'job_title'] = 'Technician'\n",
    "dice.loc[dice['job_title'].str.contains('Administrator|administrator|Admin|admin'), \n",
    "                  'job_title'] = 'Administrator'\n",
    "dice.loc[dice['job_title'].str.contains('Consulting|consulting|Consultation|consultation|Consultant|consultant'), \n",
    "                  'job_title'] = 'Consulting'\n",
    "dice.loc[dice['job_title'].str.contains('Support|support|Helpdesk'), \n",
    "                  'job_title'] = 'Support'\n",
    "dice.loc[dice['job_title'].str.contains('Director|director|CTO'),\n",
    "                  'job_title'] = 'Director'\n",
    "dice.loc[dice['job_title'].str.contains('Entry'), \n",
    "                  'job_title'] = 'Entry Position'\n",
    "dice.loc[dice['job_title'].str.contains('Data Scientist|SQL DBA|SQL Server DBA|IT'), \n",
    "                  'job_title'] = 'Data Position'"
   ]
  },
  {
   "cell_type": "code",
   "execution_count": 248,
   "metadata": {},
   "outputs": [
    {
     "data": {
      "text/plain": [
       "16753"
      ]
     },
     "execution_count": 248,
     "metadata": {},
     "output_type": "execute_result"
    }
   ],
   "source": [
    "dice['job_title'].value_counts()[0:13].sum()"
   ]
  },
  {
   "cell_type": "code",
   "execution_count": 249,
   "metadata": {},
   "outputs": [],
   "source": [
    "# Creating a list of the top 13 most popular job_titles\n",
    "keep_titles = dice['job_title'].value_counts()[:13].index.tolist()\n",
    "# Only keeping the top 13 job_titles from keep_titles\n",
    "dice = dice[dice['job_title'].isin(keep_titles)]"
   ]
  },
  {
   "cell_type": "code",
   "execution_count": 250,
   "metadata": {},
   "outputs": [
    {
     "data": {
      "text/plain": [
       "Developer        5264\n",
       "Engineer         4150\n",
       "Analyst          1926\n",
       "Manager          1406\n",
       "Administrator     909\n",
       "Architect         833\n",
       "Consulting        584\n",
       "Technician        352\n",
       "Support           346\n",
       "Programmer        325\n",
       "Data Position     288\n",
       "Designer          223\n",
       "Director          147\n",
       "Name: job_title, dtype: int64"
      ]
     },
     "execution_count": 250,
     "metadata": {},
     "output_type": "execute_result"
    }
   ],
   "source": [
    "dice['job_title'].value_counts()"
   ]
  },
  {
   "cell_type": "markdown",
   "metadata": {},
   "source": [
    "## Cleaning location"
   ]
  },
  {
   "cell_type": "markdown",
   "metadata": {},
   "source": [
    "### Catagorizing location"
   ]
  },
  {
   "cell_type": "code",
   "execution_count": 251,
   "metadata": {
    "scrolled": true
   },
   "outputs": [
    {
     "data": {
      "text/html": [
       "<div>\n",
       "<style scoped>\n",
       "    .dataframe tbody tr th:only-of-type {\n",
       "        vertical-align: middle;\n",
       "    }\n",
       "\n",
       "    .dataframe tbody tr th {\n",
       "        vertical-align: top;\n",
       "    }\n",
       "\n",
       "    .dataframe thead th {\n",
       "        text-align: right;\n",
       "    }\n",
       "</style>\n",
       "<table border=\"1\" class=\"dataframe\">\n",
       "  <thead>\n",
       "    <tr style=\"text-align: right;\">\n",
       "      <th></th>\n",
       "      <th>date_added</th>\n",
       "      <th>job_description</th>\n",
       "      <th>job_title</th>\n",
       "      <th>job_type</th>\n",
       "      <th>location</th>\n",
       "      <th>organization</th>\n",
       "      <th>sector</th>\n",
       "    </tr>\n",
       "  </thead>\n",
       "  <tbody>\n",
       "    <tr>\n",
       "      <th>0</th>\n",
       "      <td>11/11/2016</td>\n",
       "      <td>n edi analyst with experience please read on ...</td>\n",
       "      <td>Analyst</td>\n",
       "      <td>Full Time, Full-time, Employee</td>\n",
       "      <td>Northeast United States</td>\n",
       "      <td>CyberCoders</td>\n",
       "      <td>EDI TrustedLink AS VAN - EDI TrustedLink AS VAN</td>\n",
       "    </tr>\n",
       "    <tr>\n",
       "      <th>1</th>\n",
       "      <td>11/11/2016</td>\n",
       "      <td>informatica etl developerst petersburg fl only...</td>\n",
       "      <td>Developer</td>\n",
       "      <td>Full Time, Full Time</td>\n",
       "      <td>Southern United States</td>\n",
       "      <td>TrustMinds</td>\n",
       "      <td>ETL Informatica B B Data Exchange Netezza Orac...</td>\n",
       "    </tr>\n",
       "    <tr>\n",
       "      <th>2</th>\n",
       "      <td>11/12/2016</td>\n",
       "      <td>this nationally recognized microsoft gold part...</td>\n",
       "      <td>Manager</td>\n",
       "      <td>Full Time</td>\n",
       "      <td>Western United States</td>\n",
       "      <td>Nigel Frank International</td>\n",
       "      <td>Microsoft Dynamics AX Project Manager - Toront...</td>\n",
       "    </tr>\n",
       "  </tbody>\n",
       "</table>\n",
       "</div>"
      ],
      "text/plain": [
       "   date_added                                    job_description  job_title  \\\n",
       "0  11/11/2016   n edi analyst with experience please read on ...    Analyst   \n",
       "1  11/11/2016  informatica etl developerst petersburg fl only...  Developer   \n",
       "2  11/12/2016  this nationally recognized microsoft gold part...    Manager   \n",
       "\n",
       "                         job_type                 location  \\\n",
       "0  Full Time, Full-time, Employee  Northeast United States   \n",
       "1            Full Time, Full Time   Southern United States   \n",
       "2                       Full Time    Western United States   \n",
       "\n",
       "                organization  \\\n",
       "0                CyberCoders   \n",
       "1                 TrustMinds   \n",
       "2  Nigel Frank International   \n",
       "\n",
       "                                              sector  \n",
       "0    EDI TrustedLink AS VAN - EDI TrustedLink AS VAN  \n",
       "1  ETL Informatica B B Data Exchange Netezza Orac...  \n",
       "2  Microsoft Dynamics AX Project Manager - Toront...  "
      ]
     },
     "execution_count": 251,
     "metadata": {},
     "output_type": "execute_result"
    }
   ],
   "source": [
    "dice.loc[dice['location'].str.contains('ME|NH|VT|MA|MARYLAND|Laurel|CT|Ct|RI|NY|Ny|PA|NJ|Reading|OTHER|Portsmouth|West Chester'),\n",
    "                  'location'] = 'Northeast United States'\n",
    "\n",
    "dice.loc[dice['location'].str.contains('MI|OH|IN|IL|Il|WI|MN|IA|Ia|MO|Mo|KS|NE|ND|SD|Farmington|Lake County|Ashland'),\n",
    "                  'location'] = 'Midwest United States'\n",
    "\n",
    "dice.loc[dice['location'].str.contains('DE|MD|Md|DC|WV|VA|NC|SC|Anderson|KY|Ky|TN|GA|Ga|MS|AL|AR|OK|TX|Stafford|Austin|LA|La|FL|Boca Raton|South'),\n",
    "                  'location'] = 'Southern United States'\n",
    "\n",
    "dice.loc[dice['location'].str.contains('MT|WY|CO|Co|NM|AZ|UT|ID|Id|NV|CA|Ca|OR|WA|AK|HI|Hi|Pasadena|Redmond|Greenwood Village|San Francisco'),\n",
    "                  'location'] = 'Western United States'\n",
    "\n",
    "dice.loc[dice['location'].str.contains('Hyderabad|London|Bangalore|Dublin|Taguig City|ON|BC|Windsor'),\n",
    "                  'location'] = 'International'\n",
    "\n",
    "dice.loc[dice['location'].str.contains('STATE|City|Satellite Office; North America-us-il-chicago; Nor|United States Of America'),\n",
    "                  'location'] = 'Unknown'\n",
    "dice.head(3)"
   ]
  },
  {
   "cell_type": "code",
   "execution_count": 252,
   "metadata": {},
   "outputs": [],
   "source": [
    "# Creating a list of top 4 locations\n",
    "keep_locations = dice['location'].value_counts()[:4].index.tolist()\n",
    "\n",
    "# Only keeping the top 4 locations from list keep_locations\n",
    "dice = dice[dice['location'].isin(keep_locations)]"
   ]
  },
  {
   "cell_type": "code",
   "execution_count": 253,
   "metadata": {},
   "outputs": [
    {
     "data": {
      "text/plain": [
       "Southern United States     5236\n",
       "Western United States      4463\n",
       "Northeast United States    4187\n",
       "Midwest United States      2736\n",
       "Name: location, dtype: int64"
      ]
     },
     "execution_count": 253,
     "metadata": {},
     "output_type": "execute_result"
    }
   ],
   "source": [
    "dice['location'].value_counts()"
   ]
  },
  {
   "cell_type": "markdown",
   "metadata": {},
   "source": [
    "## Cleaning job_type"
   ]
  },
  {
   "cell_type": "code",
   "execution_count": 254,
   "metadata": {},
   "outputs": [],
   "source": [
    "# Droping 238 rows of data that are null for job_type.\n",
    "dice.dropna(subset = ['job_type'], inplace=True)\n",
    "dice.reset_index(drop=True, inplace=True)"
   ]
  },
  {
   "cell_type": "markdown",
   "metadata": {},
   "source": [
    "### Catagorizing job_type"
   ]
  },
  {
   "cell_type": "code",
   "execution_count": 255,
   "metadata": {},
   "outputs": [
    {
     "data": {
      "text/html": [
       "<div>\n",
       "<style scoped>\n",
       "    .dataframe tbody tr th:only-of-type {\n",
       "        vertical-align: middle;\n",
       "    }\n",
       "\n",
       "    .dataframe tbody tr th {\n",
       "        vertical-align: top;\n",
       "    }\n",
       "\n",
       "    .dataframe thead th {\n",
       "        text-align: right;\n",
       "    }\n",
       "</style>\n",
       "<table border=\"1\" class=\"dataframe\">\n",
       "  <thead>\n",
       "    <tr style=\"text-align: right;\">\n",
       "      <th></th>\n",
       "      <th>date_added</th>\n",
       "      <th>job_description</th>\n",
       "      <th>job_title</th>\n",
       "      <th>job_type</th>\n",
       "      <th>location</th>\n",
       "      <th>organization</th>\n",
       "      <th>sector</th>\n",
       "    </tr>\n",
       "  </thead>\n",
       "  <tbody>\n",
       "    <tr>\n",
       "      <th>0</th>\n",
       "      <td>11/11/2016</td>\n",
       "      <td>n edi analyst with experience please read on ...</td>\n",
       "      <td>Analyst</td>\n",
       "      <td>Full Time</td>\n",
       "      <td>Northeast United States</td>\n",
       "      <td>CyberCoders</td>\n",
       "      <td>EDI TrustedLink AS VAN - EDI TrustedLink AS VAN</td>\n",
       "    </tr>\n",
       "    <tr>\n",
       "      <th>1</th>\n",
       "      <td>11/11/2016</td>\n",
       "      <td>informatica etl developerst petersburg fl only...</td>\n",
       "      <td>Developer</td>\n",
       "      <td>Full Time</td>\n",
       "      <td>Southern United States</td>\n",
       "      <td>TrustMinds</td>\n",
       "      <td>ETL Informatica B B Data Exchange Netezza Orac...</td>\n",
       "    </tr>\n",
       "    <tr>\n",
       "      <th>2</th>\n",
       "      <td>11/12/2016</td>\n",
       "      <td>this nationally recognized microsoft gold part...</td>\n",
       "      <td>Manager</td>\n",
       "      <td>Full Time</td>\n",
       "      <td>Western United States</td>\n",
       "      <td>Nigel Frank International</td>\n",
       "      <td>Microsoft Dynamics AX Project Manager - Toront...</td>\n",
       "    </tr>\n",
       "  </tbody>\n",
       "</table>\n",
       "</div>"
      ],
      "text/plain": [
       "   date_added                                    job_description  job_title  \\\n",
       "0  11/11/2016   n edi analyst with experience please read on ...    Analyst   \n",
       "1  11/11/2016  informatica etl developerst petersburg fl only...  Developer   \n",
       "2  11/12/2016  this nationally recognized microsoft gold part...    Manager   \n",
       "\n",
       "    job_type                 location               organization  \\\n",
       "0  Full Time  Northeast United States                CyberCoders   \n",
       "1  Full Time   Southern United States                 TrustMinds   \n",
       "2  Full Time    Western United States  Nigel Frank International   \n",
       "\n",
       "                                              sector  \n",
       "0    EDI TrustedLink AS VAN - EDI TrustedLink AS VAN  \n",
       "1  ETL Informatica B B Data Exchange Netezza Orac...  \n",
       "2  Microsoft Dynamics AX Project Manager - Toront...  "
      ]
     },
     "execution_count": 255,
     "metadata": {},
     "output_type": "execute_result"
    }
   ],
   "source": [
    "dice.loc[dice['job_type'].str.contains('Full Time|Full-time|per year|per'),\n",
    "                  'job_type'] = 'Full Time'\n",
    "\n",
    "dice.loc[dice['job_type'].str.contains('Contract|contract|C2H'),\n",
    "                  'job_type'] = 'Contract'\n",
    "\n",
    "dice.loc[dice['job_type'].str.contains('Part Time'),\n",
    "                  'job_type'] = 'Part Time'\n",
    "\n",
    "dice.loc[dice['job_type'].str.contains('Market related|Market|Negotiable'),\n",
    "                  'job_type'] = 'Market Dependent'\n",
    "\n",
    "dice.loc[dice['job_type'].str.contains('-|EXPERIENCE|RELOCATION|define'),\n",
    "                  'job_type'] = 'Unknown'\n",
    "\n",
    "dice.head(3)"
   ]
  },
  {
   "cell_type": "code",
   "execution_count": 256,
   "metadata": {},
   "outputs": [
    {
     "data": {
      "text/plain": [
       "Full Time           10223\n",
       "Contract             6039\n",
       "Market Dependent      126\n",
       "Unknown                32\n",
       "Part Time               9\n",
       "Competitive             3\n",
       "Name: job_type, dtype: int64"
      ]
     },
     "execution_count": 256,
     "metadata": {},
     "output_type": "execute_result"
    }
   ],
   "source": [
    "dice['job_type'].value_counts()"
   ]
  },
  {
   "cell_type": "markdown",
   "metadata": {},
   "source": [
    "## Cleaning sector"
   ]
  },
  {
   "cell_type": "code",
   "execution_count": 257,
   "metadata": {},
   "outputs": [],
   "source": [
    "# renaming sector to be more descriptive\n",
    "dice=dice.rename(columns = {'sector':'skills'})"
   ]
  },
  {
   "cell_type": "code",
   "execution_count": 258,
   "metadata": {},
   "outputs": [],
   "source": [
    "# lowercasing skills\n",
    "dice['skills']= dice['skills'].str.lower()"
   ]
  },
  {
   "cell_type": "markdown",
   "metadata": {},
   "source": [
    "### Removing commas, backslashes and extra spaces"
   ]
  },
  {
   "cell_type": "code",
   "execution_count": 259,
   "metadata": {},
   "outputs": [],
   "source": [
    "# making sure no extra spaces. help from : https://stackoverflow.com/questions/43071415/remove-multiple-blanks-in-dataframe\n",
    "dice['skills'] = dice['skills'].replace('\\s+', ' ', regex=True)"
   ]
  },
  {
   "cell_type": "markdown",
   "metadata": {},
   "source": [
    "### Looking at skills string length"
   ]
  },
  {
   "cell_type": "code",
   "execution_count": 260,
   "metadata": {},
   "outputs": [],
   "source": [
    "# creating a new column for skills string length\n",
    "dice['skills_len'] = dice['skills'].str.split().map(lambda x: len(x))"
   ]
  },
  {
   "cell_type": "code",
   "execution_count": 261,
   "metadata": {},
   "outputs": [
    {
     "data": {
      "text/html": [
       "<div>\n",
       "<style scoped>\n",
       "    .dataframe tbody tr th:only-of-type {\n",
       "        vertical-align: middle;\n",
       "    }\n",
       "\n",
       "    .dataframe tbody tr th {\n",
       "        vertical-align: top;\n",
       "    }\n",
       "\n",
       "    .dataframe thead th {\n",
       "        text-align: right;\n",
       "    }\n",
       "</style>\n",
       "<table border=\"1\" class=\"dataframe\">\n",
       "  <thead>\n",
       "    <tr style=\"text-align: right;\">\n",
       "      <th></th>\n",
       "      <th>date_added</th>\n",
       "      <th>job_description</th>\n",
       "      <th>job_title</th>\n",
       "      <th>job_type</th>\n",
       "      <th>location</th>\n",
       "      <th>organization</th>\n",
       "      <th>skills</th>\n",
       "      <th>skills_len</th>\n",
       "    </tr>\n",
       "  </thead>\n",
       "  <tbody>\n",
       "    <tr>\n",
       "      <th>17</th>\n",
       "      <td>11/12/2016</td>\n",
       "      <td>senior java developerlocation: sunnyvalestart ...</td>\n",
       "      <td>Developer</td>\n",
       "      <td>Contract</td>\n",
       "      <td>Western United States</td>\n",
       "      <td>TEKsystems</td>\n",
       "      <td>java developer</td>\n",
       "      <td>2</td>\n",
       "    </tr>\n",
       "    <tr>\n",
       "      <th>29</th>\n",
       "      <td>11/11/2016</td>\n",
       "      <td>client is looking for a \"aem cq developer\" in ...</td>\n",
       "      <td>Developer</td>\n",
       "      <td>Contract</td>\n",
       "      <td>Northeast United States</td>\n",
       "      <td>Nutech Information Systems</td>\n",
       "      <td>aem cq</td>\n",
       "      <td>2</td>\n",
       "    </tr>\n",
       "    <tr>\n",
       "      <th>30</th>\n",
       "      <td>11/12/2016</td>\n",
       "      <td>as the project manager for and hr solutions te...</td>\n",
       "      <td>Manager</td>\n",
       "      <td>Contract</td>\n",
       "      <td>Western United States</td>\n",
       "      <td>TEKsystems</td>\n",
       "      <td>project manager</td>\n",
       "      <td>2</td>\n",
       "    </tr>\n",
       "  </tbody>\n",
       "</table>\n",
       "</div>"
      ],
      "text/plain": [
       "    date_added                                    job_description  job_title  \\\n",
       "17  11/12/2016  senior java developerlocation: sunnyvalestart ...  Developer   \n",
       "29  11/11/2016  client is looking for a \"aem cq developer\" in ...  Developer   \n",
       "30  11/12/2016  as the project manager for and hr solutions te...    Manager   \n",
       "\n",
       "    job_type                 location                organization  \\\n",
       "17  Contract    Western United States                  TEKsystems   \n",
       "29  Contract  Northeast United States  Nutech Information Systems   \n",
       "30  Contract    Western United States                  TEKsystems   \n",
       "\n",
       "             skills  skills_len  \n",
       "17   java developer           2  \n",
       "29          aem cq            2  \n",
       "30  project manager           2  "
      ]
     },
     "execution_count": 261,
     "metadata": {},
     "output_type": "execute_result"
    }
   ],
   "source": [
    "dice[dice['skills_len'] ==2].head(3)"
   ]
  },
  {
   "cell_type": "code",
   "execution_count": 262,
   "metadata": {},
   "outputs": [
    {
     "data": {
      "text/html": [
       "<div>\n",
       "<style scoped>\n",
       "    .dataframe tbody tr th:only-of-type {\n",
       "        vertical-align: middle;\n",
       "    }\n",
       "\n",
       "    .dataframe tbody tr th {\n",
       "        vertical-align: top;\n",
       "    }\n",
       "\n",
       "    .dataframe thead th {\n",
       "        text-align: right;\n",
       "    }\n",
       "</style>\n",
       "<table border=\"1\" class=\"dataframe\">\n",
       "  <thead>\n",
       "    <tr style=\"text-align: right;\">\n",
       "      <th></th>\n",
       "      <th>date_added</th>\n",
       "      <th>job_description</th>\n",
       "      <th>job_title</th>\n",
       "      <th>job_type</th>\n",
       "      <th>location</th>\n",
       "      <th>organization</th>\n",
       "      <th>skills</th>\n",
       "      <th>skills_len</th>\n",
       "    </tr>\n",
       "  </thead>\n",
       "  <tbody>\n",
       "    <tr>\n",
       "      <th>5</th>\n",
       "      <td>11/11/2016</td>\n",
       "      <td>linux system administrator opportunity- with i...</td>\n",
       "      <td>Administrator</td>\n",
       "      <td>Full Time</td>\n",
       "      <td>Northeast United States</td>\n",
       "      <td>Landover Assocates</td>\n",
       "      <td>linux system administrator</td>\n",
       "      <td>3</td>\n",
       "    </tr>\n",
       "    <tr>\n",
       "      <th>33</th>\n",
       "      <td>11/11/2016</td>\n",
       "      <td>the suitable candidate should be familier with...</td>\n",
       "      <td>Architect</td>\n",
       "      <td>Full Time</td>\n",
       "      <td>Southern United States</td>\n",
       "      <td>Sanrose Information Services Inc.</td>\n",
       "      <td>apex data solutions</td>\n",
       "      <td>3</td>\n",
       "    </tr>\n",
       "    <tr>\n",
       "      <th>38</th>\n",
       "      <td>11/12/2016</td>\n",
       "      <td>must have at least year of professional nativ...</td>\n",
       "      <td>Designer</td>\n",
       "      <td>Contract</td>\n",
       "      <td>Western United States</td>\n",
       "      <td>TEKsystems</td>\n",
       "      <td>mobile ux designer</td>\n",
       "      <td>3</td>\n",
       "    </tr>\n",
       "  </tbody>\n",
       "</table>\n",
       "</div>"
      ],
      "text/plain": [
       "    date_added                                    job_description  \\\n",
       "5   11/11/2016  linux system administrator opportunity- with i...   \n",
       "33  11/11/2016  the suitable candidate should be familier with...   \n",
       "38  11/12/2016   must have at least year of professional nativ...   \n",
       "\n",
       "        job_title   job_type                 location  \\\n",
       "5   Administrator  Full Time  Northeast United States   \n",
       "33      Architect  Full Time   Southern United States   \n",
       "38       Designer   Contract    Western United States   \n",
       "\n",
       "                         organization                      skills  skills_len  \n",
       "5                  Landover Assocates  linux system administrator           3  \n",
       "33  Sanrose Information Services Inc.         apex data solutions           3  \n",
       "38                         TEKsystems          mobile ux designer           3  "
      ]
     },
     "execution_count": 262,
     "metadata": {},
     "output_type": "execute_result"
    }
   ],
   "source": [
    "dice[dice['skills_len'] ==3].head(3)"
   ]
  },
  {
   "cell_type": "markdown",
   "metadata": {},
   "source": [
    "We can see that many of the skills are actually just the title of the job or job type. These should be changed to an empty string."
   ]
  },
  {
   "cell_type": "markdown",
   "metadata": {},
   "source": [
    "### Cleaning skills of already described features"
   ]
  },
  {
   "cell_type": "code",
   "execution_count": 263,
   "metadata": {},
   "outputs": [],
   "source": [
    "# if skill is just the job title replace with a empty string\n",
    "dice.loc[(dice['skills'] ==  dice['job_title'].str.lower()), 'skills'] = \"\""
   ]
  },
  {
   "cell_type": "code",
   "execution_count": 264,
   "metadata": {},
   "outputs": [
    {
     "data": {
      "text/plain": [
       "see                                145\n",
       "contract w                          71\n",
       "full time                           56\n",
       "                                    37\n",
       "network engineer                    30\n",
       "please refer to job description     22\n",
       ".net developer                      22\n",
       "project manager                     22\n",
       "business analyst                    20\n",
       "desktop support                     18\n",
       "Name: skills, dtype: int64"
      ]
     },
     "execution_count": 264,
     "metadata": {},
     "output_type": "execute_result"
    }
   ],
   "source": [
    "dice['skills'].value_counts().head(10)"
   ]
  },
  {
   "cell_type": "code",
   "execution_count": 265,
   "metadata": {},
   "outputs": [],
   "source": [
    "# changing additional non-skills to empty strings\n",
    "dice.loc[(dice['skills'] == 'Telecommuting not available Travel not required'.lower()), 'skills'] = ''\n",
    "dice.loc[(dice['skills'] == 'Full Time'.lower()), 'skills'] = ''\n",
    "dice.loc[(dice['skills'] == 'Contract W2'.lower()), 'skills'] = ''\n",
    "dice.loc[(dice['skills'] == 'tad pgs inc. specializes in delivering secure reliable and rapidly implemented workforce solutions to the u.s. federal marketplace including u.s. government agencies and their prime contractors. wi'), 'skills'] = ''\n",
    "dice.loc[(dice['skills'] == 'see job description'), 'skills'] = ''\n",
    "dice.loc[(dice['skills'] == 'please refer to job description'), 'skills'] = ''\n",
    "dice.loc[(dice['skills'] == '(see job description)'), 'skills'] = ''\n",
    "dice.loc[(dice['skills'] == 'refer to job description'), 'skills'] = ''"
   ]
  },
  {
   "cell_type": "markdown",
   "metadata": {},
   "source": [
    "### Dealing with duplicate words"
   ]
  },
  {
   "cell_type": "code",
   "execution_count": 266,
   "metadata": {},
   "outputs": [],
   "source": [
    "# removing duplicate words in a row\n",
    "# help from:https://stackoverflow.com/questions/47316783/python-dataframe-remove-duplicate-words-in-the-same-cell-within-a-column-in-pyt\n",
    "dice['skills'] = dice['skills'].str.replace(r'\\b(\\w+)(\\s+\\1)+\\b', r'\\1')"
   ]
  },
  {
   "cell_type": "code",
   "execution_count": 267,
   "metadata": {},
   "outputs": [],
   "source": [
    "# some postings had repeat word after -\n",
    "# mapping split_skills to whole skills row\n",
    "dice['skills'] = dice['skills'].map(split_skills)"
   ]
  },
  {
   "cell_type": "code",
   "execution_count": 270,
   "metadata": {},
   "outputs": [],
   "source": [
    "# Remove common phrases\n",
    "dice['job_description'] = dice['job_description'].map(rem_fluff)\n",
    "dice['skills'] = dice['skills'].map(rem_fluff)\n",
    "\n",
    "# Correct multiple spaces (including \\t and \\n)\n",
    "dice['job_description'] = dice['job_description'].map(lambda x: re.sub('\\s+',' ', x))\n",
    "dice['skills'] = dice['skills'].map(lambda x: re.sub('\\s+',' ', x))"
   ]
  },
  {
   "cell_type": "markdown",
   "metadata": {},
   "source": [
    "# Final DataFrame"
   ]
  },
  {
   "cell_type": "code",
   "execution_count": 271,
   "metadata": {},
   "outputs": [],
   "source": [
    "dice.reset_index(drop=True, inplace=True)"
   ]
  },
  {
   "cell_type": "code",
   "execution_count": 272,
   "metadata": {},
   "outputs": [
    {
     "data": {
      "text/html": [
       "<div>\n",
       "<style scoped>\n",
       "    .dataframe tbody tr th:only-of-type {\n",
       "        vertical-align: middle;\n",
       "    }\n",
       "\n",
       "    .dataframe tbody tr th {\n",
       "        vertical-align: top;\n",
       "    }\n",
       "\n",
       "    .dataframe thead th {\n",
       "        text-align: right;\n",
       "    }\n",
       "</style>\n",
       "<table border=\"1\" class=\"dataframe\">\n",
       "  <thead>\n",
       "    <tr style=\"text-align: right;\">\n",
       "      <th></th>\n",
       "      <th>date_added</th>\n",
       "      <th>job_description</th>\n",
       "      <th>job_title</th>\n",
       "      <th>job_type</th>\n",
       "      <th>location</th>\n",
       "      <th>organization</th>\n",
       "      <th>skills</th>\n",
       "      <th>skills_len</th>\n",
       "    </tr>\n",
       "  </thead>\n",
       "  <tbody>\n",
       "    <tr>\n",
       "      <th>0</th>\n",
       "      <td>11/11/2016</td>\n",
       "      <td>n edi analyst with experience please read on ...</td>\n",
       "      <td>Analyst</td>\n",
       "      <td>Full Time</td>\n",
       "      <td>Northeast United States</td>\n",
       "      <td>CyberCoders</td>\n",
       "      <td>edi trustedlink as van</td>\n",
       "      <td>9</td>\n",
       "    </tr>\n",
       "    <tr>\n",
       "      <th>1</th>\n",
       "      <td>11/11/2016</td>\n",
       "      <td>informatica etl developerst petersburg fl only...</td>\n",
       "      <td>Developer</td>\n",
       "      <td>Full Time</td>\n",
       "      <td>Southern United States</td>\n",
       "      <td>TrustMinds</td>\n",
       "      <td>etl informatica b data exchange netezza oracle...</td>\n",
       "      <td>9</td>\n",
       "    </tr>\n",
       "    <tr>\n",
       "      <th>2</th>\n",
       "      <td>11/12/2016</td>\n",
       "      <td>this nationally recognized microsoft gold part...</td>\n",
       "      <td>Manager</td>\n",
       "      <td>Full Time</td>\n",
       "      <td>Western United States</td>\n",
       "      <td>Nigel Frank International</td>\n",
       "      <td>microsoft dynamics ax project manager - toront...</td>\n",
       "      <td>11</td>\n",
       "    </tr>\n",
       "    <tr>\n",
       "      <th>3</th>\n",
       "      <td>11/11/2016</td>\n",
       "      <td>.net developer with experience please read on...</td>\n",
       "      <td>Developer</td>\n",
       "      <td>Full Time</td>\n",
       "      <td>Northeast United States</td>\n",
       "      <td>CyberCoders</td>\n",
       "      <td>c asp.net sql javascript mvc</td>\n",
       "      <td>11</td>\n",
       "    </tr>\n",
       "    <tr>\n",
       "      <th>4</th>\n",
       "      <td>11/11/2016</td>\n",
       "      <td>hatstand a global financial consultancy is see...</td>\n",
       "      <td>Developer</td>\n",
       "      <td>Full Time</td>\n",
       "      <td>Northeast United States</td>\n",
       "      <td>Hatstand US</td>\n",
       "      <td>java linux unix sdlc; multi-threaded or concur...</td>\n",
       "      <td>12</td>\n",
       "    </tr>\n",
       "    <tr>\n",
       "      <th>...</th>\n",
       "      <td>...</td>\n",
       "      <td>...</td>\n",
       "      <td>...</td>\n",
       "      <td>...</td>\n",
       "      <td>...</td>\n",
       "      <td>...</td>\n",
       "      <td>...</td>\n",
       "      <td>...</td>\n",
       "    </tr>\n",
       "    <tr>\n",
       "      <th>16427</th>\n",
       "      <td>12/9/2016</td>\n",
       "      <td>jpmorgan chase co. (nyse: jpm) is a leading g...</td>\n",
       "      <td>Developer</td>\n",
       "      <td>Full Time</td>\n",
       "      <td>Northeast United States</td>\n",
       "      <td>JPMorgan Chase</td>\n",
       "      <td>.net architecture developer development git ht...</td>\n",
       "      <td>26</td>\n",
       "    </tr>\n",
       "    <tr>\n",
       "      <th>16428</th>\n",
       "      <td>12/9/2016</td>\n",
       "      <td>seeking jr. systems administrators with experi...</td>\n",
       "      <td>Administrator</td>\n",
       "      <td>Contract</td>\n",
       "      <td>Midwest United States</td>\n",
       "      <td>TEKsystems</td>\n",
       "      <td>jr. linux administrator</td>\n",
       "      <td>3</td>\n",
       "    </tr>\n",
       "    <tr>\n",
       "      <th>16429</th>\n",
       "      <td>12/9/2016</td>\n",
       "      <td>senior lead devops engineer with a desired to...</td>\n",
       "      <td>Developer</td>\n",
       "      <td>Full Time</td>\n",
       "      <td>Midwest United States</td>\n",
       "      <td>CyberCoders</td>\n",
       "      <td>amazon web services linux bash ruby python agile</td>\n",
       "      <td>17</td>\n",
       "    </tr>\n",
       "    <tr>\n",
       "      <th>16430</th>\n",
       "      <td>12/9/2016</td>\n",
       "      <td>headquartered in downtown san francisco ca we ...</td>\n",
       "      <td>Developer</td>\n",
       "      <td>Full Time</td>\n",
       "      <td>Western United States</td>\n",
       "      <td>CyberCoders</td>\n",
       "      <td>javascript react.js golang startup ror iot ana...</td>\n",
       "      <td>23</td>\n",
       "    </tr>\n",
       "    <tr>\n",
       "      <th>16431</th>\n",
       "      <td>12/9/2016</td>\n",
       "      <td>n appsec or hardware security engineer who ha...</td>\n",
       "      <td>Engineer</td>\n",
       "      <td>Full Time</td>\n",
       "      <td>Western United States</td>\n",
       "      <td>CyberCoders</td>\n",
       "      <td>c .net java software application security hard...</td>\n",
       "      <td>21</td>\n",
       "    </tr>\n",
       "  </tbody>\n",
       "</table>\n",
       "<p>16432 rows × 8 columns</p>\n",
       "</div>"
      ],
      "text/plain": [
       "       date_added                                    job_description  \\\n",
       "0      11/11/2016   n edi analyst with experience please read on ...   \n",
       "1      11/11/2016  informatica etl developerst petersburg fl only...   \n",
       "2      11/12/2016  this nationally recognized microsoft gold part...   \n",
       "3      11/11/2016   .net developer with experience please read on...   \n",
       "4      11/11/2016  hatstand a global financial consultancy is see...   \n",
       "...           ...                                                ...   \n",
       "16427   12/9/2016   jpmorgan chase co. (nyse: jpm) is a leading g...   \n",
       "16428   12/9/2016  seeking jr. systems administrators with experi...   \n",
       "16429   12/9/2016   senior lead devops engineer with a desired to...   \n",
       "16430   12/9/2016  headquartered in downtown san francisco ca we ...   \n",
       "16431   12/9/2016   n appsec or hardware security engineer who ha...   \n",
       "\n",
       "           job_title   job_type                 location  \\\n",
       "0            Analyst  Full Time  Northeast United States   \n",
       "1          Developer  Full Time   Southern United States   \n",
       "2            Manager  Full Time    Western United States   \n",
       "3          Developer  Full Time  Northeast United States   \n",
       "4          Developer  Full Time  Northeast United States   \n",
       "...              ...        ...                      ...   \n",
       "16427      Developer  Full Time  Northeast United States   \n",
       "16428  Administrator   Contract    Midwest United States   \n",
       "16429      Developer  Full Time    Midwest United States   \n",
       "16430      Developer  Full Time    Western United States   \n",
       "16431       Engineer  Full Time    Western United States   \n",
       "\n",
       "                    organization  \\\n",
       "0                    CyberCoders   \n",
       "1                     TrustMinds   \n",
       "2      Nigel Frank International   \n",
       "3                    CyberCoders   \n",
       "4                    Hatstand US   \n",
       "...                          ...   \n",
       "16427             JPMorgan Chase   \n",
       "16428                 TEKsystems   \n",
       "16429                CyberCoders   \n",
       "16430                CyberCoders   \n",
       "16431                CyberCoders   \n",
       "\n",
       "                                                  skills  skills_len  \n",
       "0                                 edi trustedlink as van           9  \n",
       "1      etl informatica b data exchange netezza oracle...           9  \n",
       "2      microsoft dynamics ax project manager - toront...          11  \n",
       "3                           c asp.net sql javascript mvc          11  \n",
       "4      java linux unix sdlc; multi-threaded or concur...          12  \n",
       "...                                                  ...         ...  \n",
       "16427  .net architecture developer development git ht...          26  \n",
       "16428                            jr. linux administrator           3  \n",
       "16429   amazon web services linux bash ruby python agile          17  \n",
       "16430  javascript react.js golang startup ror iot ana...          23  \n",
       "16431  c .net java software application security hard...          21  \n",
       "\n",
       "[16432 rows x 8 columns]"
      ]
     },
     "execution_count": 272,
     "metadata": {},
     "output_type": "execute_result"
    }
   ],
   "source": [
    "dice"
   ]
  },
  {
   "cell_type": "code",
   "execution_count": 273,
   "metadata": {},
   "outputs": [],
   "source": [
    "# exporting final dataframe to csv\n",
    "dice.to_csv('../data/job_postings.csv', index=False)"
   ]
  },
  {
   "cell_type": "code",
   "execution_count": null,
   "metadata": {},
   "outputs": [],
   "source": []
  }
 ],
 "metadata": {
  "kernelspec": {
   "display_name": "Python 3",
   "language": "python",
   "name": "python3"
  },
  "language_info": {
   "codemirror_mode": {
    "name": "ipython",
    "version": 3
   },
   "file_extension": ".py",
   "mimetype": "text/x-python",
   "name": "python",
   "nbconvert_exporter": "python",
   "pygments_lexer": "ipython3",
   "version": "3.8.5"
  }
 },
 "nbformat": 4,
 "nbformat_minor": 4
}
