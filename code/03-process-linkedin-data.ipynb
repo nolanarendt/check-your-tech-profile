{
 "cells": [
  {
   "cell_type": "markdown",
   "metadata": {},
   "source": [
    "# Process LinkedIn Data"
   ]
  },
  {
   "cell_type": "code",
   "execution_count": 1,
   "metadata": {},
   "outputs": [],
   "source": [
    "import pandas as pd"
   ]
  },
  {
   "cell_type": "code",
   "execution_count": 2,
   "metadata": {},
   "outputs": [],
   "source": [
    "def import_file(file_name, url):\n",
    "    try:\n",
    "        df = pd.read_csv(url + file_name)\n",
    "        return df\n",
    "    except FileNotFoundError:\n",
    "        print(f\"Missing {file_name} file.\")"
   ]
  },
  {
   "cell_type": "code",
   "execution_count": 3,
   "metadata": {},
   "outputs": [],
   "source": [
    "def linkedin_data(folder_name):\n",
    "    # Loading files\n",
    "    url = f'../data/linkedin/{folder_name}/'\n",
    "    \n",
    "    skills_data = import_file('Skills.csv', url)\n",
    "    positions_data = import_file('Positions.csv', url)\n",
    "    profile_data = import_file('Profile.csv', url)\n",
    "    education_data = import_file('Education.csv', url)\n",
    "    project_data = import_file('Projects.csv', url)\n",
    "    certification_data = import_file('Certifications.csv', url)\n",
    "    \n",
    "    # Extracting information\n",
    "    try:\n",
    "        full_name = profile_data['First Name'] + \" \" + profile_data['Last Name']\n",
    "        summary = profile_data['Summary']\n",
    "    except:\n",
    "        print(\"Profile columns could not be created.\")\n",
    "\n",
    "    try:\n",
    "        position_list = positions_data['Title'].values.tolist()\n",
    "        position_string = ', '.join([str(position) for position in position_list])\n",
    "    except:\n",
    "        print(\"Positions columns could not be created.\")\n",
    "    \n",
    "    try:\n",
    "        skills_list = skills_data.values.tolist()\n",
    "        skills_string = ', '.join([str(skill) for skill in skills_list])\n",
    "        skills_string = skills_string.replace(\"['\", \"\").replace(\"']\", \"\")\n",
    "    except:\n",
    "        print(\"Skills columns could not be created.\")\n",
    "\n",
    "    try:\n",
    "        education_list = education_data['Degree Name'].values.tolist()\n",
    "        education_string = ', '.join([str(education) for education in education_list])\n",
    "    except:\n",
    "        print(\"Education columns could not be created.\")\n",
    "\n",
    "    try:\n",
    "        jobtype_list = jobpref_data['Preferred Job Types'].values.tolist()\n",
    "        jobtype_string = ', '.join([str(jtype) for jtype in jobtype_list])\n",
    "        jobtype_string = jobtype_string.replace(\" | \", \", \")\n",
    "        \n",
    "        prefjob_list = jobpref_data['Job Titles'].values.tolist()\n",
    "        prefjob_string = ', '.join([str(pjob) for pjob in prefjob_list])\n",
    "        prefjob_string = prefjob_string.replace(\" | \", \", \")\n",
    "    except:\n",
    "        print(\"Job preference columns could not be created.\")\n",
    "    \n",
    "    try:\n",
    "        project_title_list = project_data['Title'].values.tolist()\n",
    "        project_title_string = ', '.join([str(project).strip() for project in project_title_list])\n",
    "        project_desc_list = project_data['Description'].values.tolist()\n",
    "        project_desc_string = ', '.join([str(project).strip() for project in project_desc_list])\n",
    "        project_desc_string = ', ' + project_desc_string\n",
    "        project_list = project_title_string + project_desc_string\n",
    "    except:\n",
    "        print(\"Projects column could not be created.\")\n",
    "        \n",
    "    try:\n",
    "        certification_list = certification_data['Name'].values.tolist()\n",
    "        certification_string = ', '.join([str(cert).strip() for cert in certification_list])\n",
    "    except:\n",
    "        print(\"Certification column could not be created.\")\n",
    "    \n",
    "    # Building dataframe\n",
    "    data_df = {}\n",
    "    \n",
    "    try: data_df['Name'] = full_name\n",
    "    except: print('Missing name.')\n",
    "    \n",
    "    try: data_df['Titles'] = position_string\n",
    "    except: print('Missing titles.')\n",
    "    \n",
    "    try: data_df['Skills'] = skills_string\n",
    "    except: print('Missing skills.')\n",
    "    \n",
    "    try: data_df['Summary'] = summary\n",
    "    except: print('Missing summary.')\n",
    "\n",
    "    try: data_df['Education'] = education_string\n",
    "    except: print('Missing education.')\n",
    "\n",
    "    try: data_df['Job Type Preference'] = jobtype_string\n",
    "    except: print('Missing job type preference.')\n",
    "\n",
    "    try: data_df['Preferred Job Title'] = prefjob_string\n",
    "    except: print('Missing preferred job title.')\n",
    "        \n",
    "    try: data_df['Projects'] = project_list\n",
    "    except: print('Missing projects.')\n",
    "        \n",
    "    try: data_df['Certifications'] = certification_string\n",
    "    except: print('Missing certifications.')\n",
    "\n",
    "    # Saving dataframe\n",
    "    try:\n",
    "        test_linked = pd.DataFrame(data=data_df)\n",
    "        test_linked.to_csv(f'../data/linkedin/test-output/{folder_name}.csv', index=False)\n",
    "    except:\n",
    "        print('Failed to save dataframe.')\n",
    "    \n",
    "    return test_linked"
   ]
  },
  {
   "cell_type": "markdown",
   "metadata": {},
   "source": [
    "# Test it out here"
   ]
  },
  {
   "cell_type": "code",
   "execution_count": 4,
   "metadata": {},
   "outputs": [
    {
     "name": "stdout",
     "output_type": "stream",
     "text": [
      "Missing Projects.csv file.\n",
      "Job preference columns could not be created.\n",
      "Projects column could not be created.\n",
      "Missing job type preference.\n",
      "Missing preferred job title.\n",
      "Missing projects.\n"
     ]
    }
   ],
   "source": [
    "df_zach = linkedin_data('Zach_LinkedInData_12-16-2020')"
   ]
  },
  {
   "cell_type": "code",
   "execution_count": 5,
   "metadata": {},
   "outputs": [
    {
     "data": {
      "text/plain": [
       "'Data Science Fellow, Python Developer, Health and Fitness Coach, IT Specialist, Data Analyst, Computational Modeling, Data Analyst'"
      ]
     },
     "execution_count": 5,
     "metadata": {},
     "output_type": "execute_result"
    }
   ],
   "source": [
    "df_zach['Titles'][0]"
   ]
  },
  {
   "cell_type": "code",
   "execution_count": 6,
   "metadata": {},
   "outputs": [
    {
     "name": "stdout",
     "output_type": "stream",
     "text": [
      "Missing Projects.csv file.\n",
      "Missing Certifications.csv file.\n",
      "Job preference columns could not be created.\n",
      "Projects column could not be created.\n",
      "Certification column could not be created.\n",
      "Missing job type preference.\n",
      "Missing preferred job title.\n",
      "Missing projects.\n",
      "Missing certifications.\n"
     ]
    }
   ],
   "source": [
    "df_nolan = linkedin_data('Nolan_LinkedInData_12-16-2020')"
   ]
  },
  {
   "cell_type": "code",
   "execution_count": 7,
   "metadata": {},
   "outputs": [
    {
     "data": {
      "text/plain": [
       "'Data Science Fellow, Painter'"
      ]
     },
     "execution_count": 7,
     "metadata": {},
     "output_type": "execute_result"
    }
   ],
   "source": [
    "df_nolan['Titles'][0]"
   ]
  },
  {
   "cell_type": "code",
   "execution_count": 8,
   "metadata": {},
   "outputs": [
    {
     "name": "stdout",
     "output_type": "stream",
     "text": [
      "Job preference columns could not be created.\n",
      "Missing job type preference.\n",
      "Missing preferred job title.\n"
     ]
    }
   ],
   "source": [
    "df_albert = linkedin_data('Albert_LinkedInData')"
   ]
  },
  {
   "cell_type": "code",
   "execution_count": 9,
   "metadata": {},
   "outputs": [
    {
     "data": {
      "text/html": [
       "<div>\n",
       "<style scoped>\n",
       "    .dataframe tbody tr th:only-of-type {\n",
       "        vertical-align: middle;\n",
       "    }\n",
       "\n",
       "    .dataframe tbody tr th {\n",
       "        vertical-align: top;\n",
       "    }\n",
       "\n",
       "    .dataframe thead th {\n",
       "        text-align: right;\n",
       "    }\n",
       "</style>\n",
       "<table border=\"1\" class=\"dataframe\">\n",
       "  <thead>\n",
       "    <tr style=\"text-align: right;\">\n",
       "      <th></th>\n",
       "      <th>Name</th>\n",
       "      <th>Titles</th>\n",
       "      <th>Skills</th>\n",
       "      <th>Summary</th>\n",
       "      <th>Education</th>\n",
       "      <th>Projects</th>\n",
       "      <th>Certifications</th>\n",
       "    </tr>\n",
       "  </thead>\n",
       "  <tbody>\n",
       "    <tr>\n",
       "      <th>0</th>\n",
       "      <td>Albert Frantz</td>\n",
       "      <td>Data Science Fellow, Assistant Teacher, Classr...</td>\n",
       "      <td>R, Python, Data Analysis, Econometrics, Projec...</td>\n",
       "      <td>I am a detail-oriented data scientist that use...</td>\n",
       "      <td>Bachelor of Arts - BA, nan, nan</td>\n",
       "      <td>Identifying the Relationship Between Bike Lane...</td>\n",
       "      <td>Tableau 2020 A-Z: Hands-On Tableau Training fo...</td>\n",
       "    </tr>\n",
       "  </tbody>\n",
       "</table>\n",
       "</div>"
      ],
      "text/plain": [
       "            Name                                             Titles  \\\n",
       "0  Albert Frantz  Data Science Fellow, Assistant Teacher, Classr...   \n",
       "\n",
       "                                              Skills  \\\n",
       "0  R, Python, Data Analysis, Econometrics, Projec...   \n",
       "\n",
       "                                             Summary  \\\n",
       "0  I am a detail-oriented data scientist that use...   \n",
       "\n",
       "                         Education  \\\n",
       "0  Bachelor of Arts - BA, nan, nan   \n",
       "\n",
       "                                            Projects  \\\n",
       "0  Identifying the Relationship Between Bike Lane...   \n",
       "\n",
       "                                      Certifications  \n",
       "0  Tableau 2020 A-Z: Hands-On Tableau Training fo...  "
      ]
     },
     "execution_count": 9,
     "metadata": {},
     "output_type": "execute_result"
    }
   ],
   "source": [
    "df_albert"
   ]
  },
  {
   "cell_type": "code",
   "execution_count": null,
   "metadata": {},
   "outputs": [],
   "source": []
  }
 ],
 "metadata": {
  "kernelspec": {
   "display_name": "Python 3",
   "language": "python",
   "name": "python3"
  },
  "language_info": {
   "codemirror_mode": {
    "name": "ipython",
    "version": 3
   },
   "file_extension": ".py",
   "mimetype": "text/x-python",
   "name": "python",
   "nbconvert_exporter": "python",
   "pygments_lexer": "ipython3",
   "version": "3.8.5"
  }
 },
 "nbformat": 4,
 "nbformat_minor": 4
}
