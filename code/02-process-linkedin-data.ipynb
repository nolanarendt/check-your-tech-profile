{
 "cells": [
  {
   "cell_type": "markdown",
   "metadata": {},
   "source": [
    "# Process LinkedIn Data"
   ]
  },
  {
   "cell_type": "code",
   "execution_count": 1,
   "metadata": {},
   "outputs": [],
   "source": [
    "import pandas as pd\n",
    "import re"
   ]
  },
  {
   "cell_type": "code",
   "execution_count": 2,
   "metadata": {},
   "outputs": [],
   "source": [
    "import httpimport\n",
    "url = 'https://raw.githubusercontent.com/zach-brown-18/class-toolkit/main/eda/'\n",
    "with httpimport.remote_repo(['cleaning', 'columns'], url):\n",
    "    import cleaning as c\n",
    "    import columns as cols"
   ]
  },
  {
   "cell_type": "code",
   "execution_count": 3,
   "metadata": {},
   "outputs": [],
   "source": [
    "def remove_unwanted_characters(s):\n",
    "    s = re.sub('\\*', ' ', s)\n",
    "    s = re.sub('/', ' ', s)\n",
    "    s = re.sub('_', ' ', s)\n",
    "    s = re.sub('\\?', ' ', s)\n",
    "    s = re.sub('%', ' ', s)\n",
    "    s = re.sub('@', ' ', s)\n",
    "    s = re.sub('#', ' ', s)\n",
    "    s = re.sub('!', ' ', s)\n",
    "    s = re.sub(',', ' ', s)\n",
    "    s = re.sub('\\+', ' ', s)\n",
    "    s = re.sub('&', ' ', s)\n",
    "    s = re.sub('\\d', ' ', s)\n",
    "    return s"
   ]
  },
  {
   "cell_type": "code",
   "execution_count": 4,
   "metadata": {},
   "outputs": [],
   "source": [
    "def clean_linkedin_data(df):\n",
    "    for col in df:\n",
    "        df[col] = df[col].map(remove_unwanted_characters)\n",
    "        df[col] = df[col].map(c.remove_special_chars)\n",
    "        df[col] = df[col].str.lower()\n",
    "    return df"
   ]
  },
  {
   "cell_type": "code",
   "execution_count": 5,
   "metadata": {},
   "outputs": [],
   "source": [
    "def import_file(file_name, url):\n",
    "    try:\n",
    "        df = pd.read_csv(url + file_name)\n",
    "        return df\n",
    "    except FileNotFoundError:\n",
    "        print(f\"Missing {file_name} file.\")"
   ]
  },
  {
   "cell_type": "code",
   "execution_count": 6,
   "metadata": {},
   "outputs": [],
   "source": [
    "def linkedin_data(folder_name):\n",
    "    # Loading files\n",
    "    url = f'../data/linkedin/{folder_name}/'\n",
    "    \n",
    "    skills_data = import_file('Skills.csv', url)\n",
    "    positions_data = import_file('Positions.csv', url)\n",
    "    profile_data = import_file('Profile.csv', url)\n",
    "    education_data = import_file('Education.csv', url)\n",
    "    project_data = import_file('Projects.csv', url)\n",
    "    certification_data = import_file('Certifications.csv', url)\n",
    "    \n",
    "    # Extracting information\n",
    "    try:\n",
    "        full_name = profile_data['First Name'] + \" \" + profile_data['Last Name']\n",
    "        summary = profile_data['Summary']\n",
    "    except:\n",
    "        print(\"Profile columns could not be created.\")\n",
    "\n",
    "    try:\n",
    "        position_list = positions_data['Title'].values.tolist()\n",
    "        position_string = ', '.join([str(position) for position in position_list])\n",
    "    except:\n",
    "        print(\"Positions columns could not be created.\")\n",
    "    \n",
    "    try:\n",
    "        skills_list = skills_data.values.tolist()\n",
    "        skills_string = ', '.join([str(skill) for skill in skills_list])\n",
    "        skills_string = skills_string.replace(\"['\", \"\").replace(\"']\", \"\")\n",
    "    except:\n",
    "        print(\"Skills columns could not be created.\")\n",
    "\n",
    "    try:\n",
    "        education_list = education_data['Degree Name'].values.tolist()\n",
    "        education_string = ', '.join([str(education) for education in education_list])\n",
    "    except:\n",
    "        print(\"Education columns could not be created.\")\n",
    "\n",
    "    try:\n",
    "        jobtype_list = jobpref_data['Preferred Job Types'].values.tolist()\n",
    "        jobtype_string = ', '.join([str(jtype) for jtype in jobtype_list])\n",
    "        jobtype_string = jobtype_string.replace(\" | \", \", \")\n",
    "        \n",
    "        prefjob_list = jobpref_data['Job Titles'].values.tolist()\n",
    "        prefjob_string = ', '.join([str(pjob) for pjob in prefjob_list])\n",
    "        prefjob_string = prefjob_string.replace(\" | \", \", \")\n",
    "    except:\n",
    "        print(\"Job preference columns could not be created.\")\n",
    "    \n",
    "    try:\n",
    "        project_title_list = project_data['Title'].values.tolist()\n",
    "        project_title_string = ', '.join([str(project).strip() for project in project_title_list])\n",
    "        project_desc_list = project_data['Description'].values.tolist()\n",
    "        project_desc_string = ', '.join([str(project).strip() for project in project_desc_list])\n",
    "        project_desc_string = ', ' + project_desc_string\n",
    "        project_list = project_title_string + project_desc_string\n",
    "    except:\n",
    "        print(\"Projects column could not be created.\")\n",
    "        \n",
    "    try:\n",
    "        certification_list = certification_data['Name'].values.tolist()\n",
    "        certification_string = ', '.join([str(cert).strip() for cert in certification_list])\n",
    "    except:\n",
    "        print(\"Certification column could not be created.\")\n",
    "    \n",
    "    # Building dataframe\n",
    "    data_df = {}\n",
    "    \n",
    "    try: data_df['Name'] = full_name\n",
    "    except: print('Missing name.')\n",
    "    \n",
    "    try: data_df['Titles'] = position_string\n",
    "    except: print('Missing titles.')\n",
    "    \n",
    "    try: data_df['Skills'] = skills_string\n",
    "    except: print('Missing skills.')\n",
    "    \n",
    "    try: data_df['Summary'] = summary\n",
    "    except: print('Missing summary.')\n",
    "\n",
    "    try: data_df['Education'] = education_string\n",
    "    except: print('Missing education.')\n",
    "\n",
    "    try: data_df['Job Type Preference'] = jobtype_string\n",
    "    except: print('Missing job type preference.')\n",
    "\n",
    "    try: data_df['Preferred Job Title'] = prefjob_string\n",
    "    except: print('Missing preferred job title.')\n",
    "        \n",
    "    try: data_df['Projects'] = project_list\n",
    "    except: print('Missing projects.')\n",
    "        \n",
    "    try: data_df['Certifications'] = certification_string\n",
    "    except: print('Missing certifications.')\n",
    "\n",
    "    # Saving dataframe\n",
    "    try:\n",
    "        df = pd.DataFrame(data=data_df)\n",
    "        df = clean_linkedin_data(df)\n",
    "        df.to_csv(f'../data/linkedin/test-output/{folder_name}.csv', index=False)\n",
    "    except:\n",
    "        print('Failed to save dataframe.')\n",
    "    \n",
    "    return df"
   ]
  },
  {
   "cell_type": "markdown",
   "metadata": {},
   "source": [
    "# Test it out here"
   ]
  },
  {
   "cell_type": "code",
   "execution_count": 39,
   "metadata": {},
   "outputs": [
    {
     "name": "stdout",
     "output_type": "stream",
     "text": [
      "Missing Projects.csv file.\n",
      "Job preference columns could not be created.\n",
      "Projects column could not be created.\n",
      "Missing job type preference.\n",
      "Missing preferred job title.\n",
      "Missing projects.\n"
     ]
    }
   ],
   "source": [
    "df_zach = linkedin_data('Zach_LinkedInData_12-16-2020')"
   ]
  },
  {
   "cell_type": "code",
   "execution_count": 40,
   "metadata": {},
   "outputs": [
    {
     "data": {
      "text/html": [
       "<div>\n",
       "<style scoped>\n",
       "    .dataframe tbody tr th:only-of-type {\n",
       "        vertical-align: middle;\n",
       "    }\n",
       "\n",
       "    .dataframe tbody tr th {\n",
       "        vertical-align: top;\n",
       "    }\n",
       "\n",
       "    .dataframe thead th {\n",
       "        text-align: right;\n",
       "    }\n",
       "</style>\n",
       "<table border=\"1\" class=\"dataframe\">\n",
       "  <thead>\n",
       "    <tr style=\"text-align: right;\">\n",
       "      <th></th>\n",
       "      <th>Name</th>\n",
       "      <th>Titles</th>\n",
       "      <th>Skills</th>\n",
       "      <th>Summary</th>\n",
       "      <th>Education</th>\n",
       "      <th>Certifications</th>\n",
       "    </tr>\n",
       "  </thead>\n",
       "  <tbody>\n",
       "    <tr>\n",
       "      <th>0</th>\n",
       "      <td>zachary brown</td>\n",
       "      <td>data science fellow  python developer  health ...</td>\n",
       "      <td>data analysis  python (programming language)  ...</td>\n",
       "      <td>i bridge the gap between data and climate poli...</td>\n",
       "      <td>data science intensive  bachelor's of science</td>\n",
       "      <td>microsoft certified: azure data scientist asso...</td>\n",
       "    </tr>\n",
       "  </tbody>\n",
       "</table>\n",
       "</div>"
      ],
      "text/plain": [
       "            Name                                             Titles  \\\n",
       "0  zachary brown  data science fellow  python developer  health ...   \n",
       "\n",
       "                                              Skills  \\\n",
       "0  data analysis  python (programming language)  ...   \n",
       "\n",
       "                                             Summary  \\\n",
       "0  i bridge the gap between data and climate poli...   \n",
       "\n",
       "                                       Education  \\\n",
       "0  data science intensive  bachelor's of science   \n",
       "\n",
       "                                      Certifications  \n",
       "0  microsoft certified: azure data scientist asso...  "
      ]
     },
     "execution_count": 40,
     "metadata": {},
     "output_type": "execute_result"
    }
   ],
   "source": [
    "df_zach"
   ]
  },
  {
   "cell_type": "code",
   "execution_count": 41,
   "metadata": {},
   "outputs": [
    {
     "name": "stdout",
     "output_type": "stream",
     "text": [
      "Missing Projects.csv file.\n",
      "Missing Certifications.csv file.\n",
      "Job preference columns could not be created.\n",
      "Projects column could not be created.\n",
      "Certification column could not be created.\n",
      "Missing job type preference.\n",
      "Missing preferred job title.\n",
      "Missing projects.\n",
      "Missing certifications.\n"
     ]
    }
   ],
   "source": [
    "df_nolan = linkedin_data('Nolan_LinkedInData_12-16-2020')"
   ]
  },
  {
   "cell_type": "code",
   "execution_count": 42,
   "metadata": {},
   "outputs": [
    {
     "data": {
      "text/html": [
       "<div>\n",
       "<style scoped>\n",
       "    .dataframe tbody tr th:only-of-type {\n",
       "        vertical-align: middle;\n",
       "    }\n",
       "\n",
       "    .dataframe tbody tr th {\n",
       "        vertical-align: top;\n",
       "    }\n",
       "\n",
       "    .dataframe thead th {\n",
       "        text-align: right;\n",
       "    }\n",
       "</style>\n",
       "<table border=\"1\" class=\"dataframe\">\n",
       "  <thead>\n",
       "    <tr style=\"text-align: right;\">\n",
       "      <th></th>\n",
       "      <th>Name</th>\n",
       "      <th>Titles</th>\n",
       "      <th>Skills</th>\n",
       "      <th>Summary</th>\n",
       "      <th>Education</th>\n",
       "    </tr>\n",
       "  </thead>\n",
       "  <tbody>\n",
       "    <tr>\n",
       "      <th>0</th>\n",
       "      <td>nolan arendt</td>\n",
       "      <td>data science fellow  painter</td>\n",
       "      <td>data science  python  data analysis  data mana...</td>\n",
       "      <td>an innovative data scientist who is passionate...</td>\n",
       "      <td>bachelor's degree  software boot camp certificate</td>\n",
       "    </tr>\n",
       "  </tbody>\n",
       "</table>\n",
       "</div>"
      ],
      "text/plain": [
       "           Name                        Titles  \\\n",
       "0  nolan arendt  data science fellow  painter   \n",
       "\n",
       "                                              Skills  \\\n",
       "0  data science  python  data analysis  data mana...   \n",
       "\n",
       "                                             Summary  \\\n",
       "0  an innovative data scientist who is passionate...   \n",
       "\n",
       "                                           Education  \n",
       "0  bachelor's degree  software boot camp certificate  "
      ]
     },
     "execution_count": 42,
     "metadata": {},
     "output_type": "execute_result"
    }
   ],
   "source": [
    "df_nolan"
   ]
  },
  {
   "cell_type": "code",
   "execution_count": 43,
   "metadata": {},
   "outputs": [
    {
     "name": "stdout",
     "output_type": "stream",
     "text": [
      "Job preference columns could not be created.\n",
      "Missing job type preference.\n",
      "Missing preferred job title.\n"
     ]
    }
   ],
   "source": [
    "df_albert = linkedin_data('Albert_LinkedInData')"
   ]
  },
  {
   "cell_type": "code",
   "execution_count": 44,
   "metadata": {},
   "outputs": [
    {
     "data": {
      "text/html": [
       "<div>\n",
       "<style scoped>\n",
       "    .dataframe tbody tr th:only-of-type {\n",
       "        vertical-align: middle;\n",
       "    }\n",
       "\n",
       "    .dataframe tbody tr th {\n",
       "        vertical-align: top;\n",
       "    }\n",
       "\n",
       "    .dataframe thead th {\n",
       "        text-align: right;\n",
       "    }\n",
       "</style>\n",
       "<table border=\"1\" class=\"dataframe\">\n",
       "  <thead>\n",
       "    <tr style=\"text-align: right;\">\n",
       "      <th></th>\n",
       "      <th>Name</th>\n",
       "      <th>Titles</th>\n",
       "      <th>Skills</th>\n",
       "      <th>Summary</th>\n",
       "      <th>Education</th>\n",
       "      <th>Projects</th>\n",
       "      <th>Certifications</th>\n",
       "    </tr>\n",
       "  </thead>\n",
       "  <tbody>\n",
       "    <tr>\n",
       "      <th>0</th>\n",
       "      <td>albert frantz</td>\n",
       "      <td>data science fellow  assistant teacher  classr...</td>\n",
       "      <td>r  python  data analysis  econometrics  projec...</td>\n",
       "      <td>i am a detail-oriented data scientist that use...</td>\n",
       "      <td>bachelor of arts - ba  nan  nan</td>\n",
       "      <td>identifying the relationship between bike lane...</td>\n",
       "      <td>tableau      a-z: hands-on tableau training fo...</td>\n",
       "    </tr>\n",
       "  </tbody>\n",
       "</table>\n",
       "</div>"
      ],
      "text/plain": [
       "            Name                                             Titles  \\\n",
       "0  albert frantz  data science fellow  assistant teacher  classr...   \n",
       "\n",
       "                                              Skills  \\\n",
       "0  r  python  data analysis  econometrics  projec...   \n",
       "\n",
       "                                             Summary  \\\n",
       "0  i am a detail-oriented data scientist that use...   \n",
       "\n",
       "                         Education  \\\n",
       "0  bachelor of arts - ba  nan  nan   \n",
       "\n",
       "                                            Projects  \\\n",
       "0  identifying the relationship between bike lane...   \n",
       "\n",
       "                                      Certifications  \n",
       "0  tableau      a-z: hands-on tableau training fo...  "
      ]
     },
     "execution_count": 44,
     "metadata": {},
     "output_type": "execute_result"
    }
   ],
   "source": [
    "df_albert"
   ]
  },
  {
   "cell_type": "code",
   "execution_count": 7,
   "metadata": {},
   "outputs": [
    {
     "name": "stdout",
     "output_type": "stream",
     "text": [
      "Job preference columns could not be created.\n",
      "Missing job type preference.\n",
      "Missing preferred job title.\n"
     ]
    }
   ],
   "source": [
    "df_ye = linkedin_data('Ye_LinkedInData')"
   ]
  },
  {
   "cell_type": "code",
   "execution_count": 8,
   "metadata": {},
   "outputs": [
    {
     "data": {
      "text/html": [
       "<div>\n",
       "<style scoped>\n",
       "    .dataframe tbody tr th:only-of-type {\n",
       "        vertical-align: middle;\n",
       "    }\n",
       "\n",
       "    .dataframe tbody tr th {\n",
       "        vertical-align: top;\n",
       "    }\n",
       "\n",
       "    .dataframe thead th {\n",
       "        text-align: right;\n",
       "    }\n",
       "</style>\n",
       "<table border=\"1\" class=\"dataframe\">\n",
       "  <thead>\n",
       "    <tr style=\"text-align: right;\">\n",
       "      <th></th>\n",
       "      <th>Name</th>\n",
       "      <th>Titles</th>\n",
       "      <th>Skills</th>\n",
       "      <th>Summary</th>\n",
       "      <th>Education</th>\n",
       "      <th>Projects</th>\n",
       "      <th>Certifications</th>\n",
       "    </tr>\n",
       "  </thead>\n",
       "  <tbody>\n",
       "    <tr>\n",
       "      <th>0</th>\n",
       "      <td>kerry ye wang</td>\n",
       "      <td>attorney  co-founder  summer associate  ip ass...</td>\n",
       "      <td>legal research  patent litigation  trade secre...</td>\n",
       "      <td>honesty  perseverance  self-awareness  super p...</td>\n",
       "      <td>doctor of law - jd  juris master  bachelor of ...</td>\n",
       "      <td>lowell milken institute-sandler prize for new ...</td>\n",
       "      <td>prc bar  prc patent agent      professional re...</td>\n",
       "    </tr>\n",
       "  </tbody>\n",
       "</table>\n",
       "</div>"
      ],
      "text/plain": [
       "            Name                                             Titles  \\\n",
       "0  kerry ye wang  attorney  co-founder  summer associate  ip ass...   \n",
       "\n",
       "                                              Skills  \\\n",
       "0  legal research  patent litigation  trade secre...   \n",
       "\n",
       "                                             Summary  \\\n",
       "0  honesty  perseverance  self-awareness  super p...   \n",
       "\n",
       "                                           Education  \\\n",
       "0  doctor of law - jd  juris master  bachelor of ...   \n",
       "\n",
       "                                            Projects  \\\n",
       "0  lowell milken institute-sandler prize for new ...   \n",
       "\n",
       "                                      Certifications  \n",
       "0  prc bar  prc patent agent      professional re...  "
      ]
     },
     "execution_count": 8,
     "metadata": {},
     "output_type": "execute_result"
    }
   ],
   "source": [
    "df_ye"
   ]
  },
  {
   "cell_type": "code",
   "execution_count": null,
   "metadata": {},
   "outputs": [],
   "source": []
  }
 ],
 "metadata": {
  "kernelspec": {
   "display_name": "Python 3",
   "language": "python",
   "name": "python3"
  },
  "language_info": {
   "codemirror_mode": {
    "name": "ipython",
    "version": 3
   },
   "file_extension": ".py",
   "mimetype": "text/x-python",
   "name": "python",
   "nbconvert_exporter": "python",
   "pygments_lexer": "ipython3",
   "version": "3.8.5"
  }
 },
 "nbformat": 4,
 "nbformat_minor": 4
}
