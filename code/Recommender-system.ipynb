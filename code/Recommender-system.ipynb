{
 "cells": [
  {
   "cell_type": "markdown",
   "metadata": {},
   "source": [
    "# Recommender System"
   ]
  },
  {
   "cell_type": "code",
   "execution_count": 1,
   "metadata": {},
   "outputs": [],
   "source": [
    "import pandas as pd\n",
    "import numpy as np\n",
    "import spacy"
   ]
  },
  {
   "cell_type": "markdown",
   "metadata": {},
   "source": [
    "---"
   ]
  },
  {
   "cell_type": "code",
   "execution_count": 5,
   "metadata": {},
   "outputs": [],
   "source": [
    "jobs = pd.read_csv('../data/job_postings.csv')"
   ]
  },
  {
   "cell_type": "code",
   "execution_count": 7,
   "metadata": {},
   "outputs": [
    {
     "data": {
      "text/html": [
       "<div>\n",
       "<style scoped>\n",
       "    .dataframe tbody tr th:only-of-type {\n",
       "        vertical-align: middle;\n",
       "    }\n",
       "\n",
       "    .dataframe tbody tr th {\n",
       "        vertical-align: top;\n",
       "    }\n",
       "\n",
       "    .dataframe thead th {\n",
       "        text-align: right;\n",
       "    }\n",
       "</style>\n",
       "<table border=\"1\" class=\"dataframe\">\n",
       "  <thead>\n",
       "    <tr style=\"text-align: right;\">\n",
       "      <th></th>\n",
       "      <th>Unnamed: 0</th>\n",
       "      <th>date_added</th>\n",
       "      <th>job_description</th>\n",
       "      <th>job_title</th>\n",
       "      <th>job_type</th>\n",
       "      <th>location</th>\n",
       "      <th>organization</th>\n",
       "      <th>skills</th>\n",
       "      <th>has_email</th>\n",
       "      <th>has_phone_number</th>\n",
       "      <th>skills_len</th>\n",
       "    </tr>\n",
       "  </thead>\n",
       "  <tbody>\n",
       "    <tr>\n",
       "      <th>0</th>\n",
       "      <td>0</td>\n",
       "      <td>11/11/2016</td>\n",
       "      <td>If you are an EDI Analyst with experience, ple...</td>\n",
       "      <td>Analyst</td>\n",
       "      <td>Full Time</td>\n",
       "      <td>Northeast United States</td>\n",
       "      <td>CyberCoders</td>\n",
       "      <td>edi trustedlink as2 van</td>\n",
       "      <td>0.0</td>\n",
       "      <td>0.0</td>\n",
       "      <td>9.0</td>\n",
       "    </tr>\n",
       "  </tbody>\n",
       "</table>\n",
       "</div>"
      ],
      "text/plain": [
       "   Unnamed: 0  date_added                                    job_description  \\\n",
       "0           0  11/11/2016  If you are an EDI Analyst with experience, ple...   \n",
       "\n",
       "  job_title   job_type                 location organization  \\\n",
       "0   Analyst  Full Time  Northeast United States  CyberCoders   \n",
       "\n",
       "                    skills  has_email  has_phone_number  skills_len  \n",
       "0  edi trustedlink as2 van        0.0               0.0         9.0  "
      ]
     },
     "execution_count": 7,
     "metadata": {},
     "output_type": "execute_result"
    }
   ],
   "source": [
    "jobs.head(1)"
   ]
  },
  {
   "cell_type": "code",
   "execution_count": 20,
   "metadata": {},
   "outputs": [],
   "source": [
    "jobs = jobs.drop(columns=['Unnamed: 0', 'date_added', 'organization', 'has_email', 'has_phone_number', 'skills_len', 'job_type'])"
   ]
  },
  {
   "cell_type": "code",
   "execution_count": 2,
   "metadata": {},
   "outputs": [],
   "source": [
    "nlp = spacy.load(\"en_core_web_sm\")"
   ]
  },
  {
   "cell_type": "code",
   "execution_count": 21,
   "metadata": {},
   "outputs": [
    {
     "data": {
      "text/plain": [
       "25"
      ]
     },
     "execution_count": 21,
     "metadata": {},
     "output_type": "execute_result"
    }
   ],
   "source": [
    "# We've lost the proper alignmnet at some point during the data cleaning\n",
    "jobs['job_description'].isna().sum()"
   ]
  },
  {
   "cell_type": "code",
   "execution_count": 22,
   "metadata": {},
   "outputs": [
    {
     "data": {
      "text/html": [
       "<div>\n",
       "<style scoped>\n",
       "    .dataframe tbody tr th:only-of-type {\n",
       "        vertical-align: middle;\n",
       "    }\n",
       "\n",
       "    .dataframe tbody tr th {\n",
       "        vertical-align: top;\n",
       "    }\n",
       "\n",
       "    .dataframe thead th {\n",
       "        text-align: right;\n",
       "    }\n",
       "</style>\n",
       "<table border=\"1\" class=\"dataframe\">\n",
       "  <thead>\n",
       "    <tr style=\"text-align: right;\">\n",
       "      <th></th>\n",
       "      <th>job_description</th>\n",
       "      <th>job_title</th>\n",
       "      <th>location</th>\n",
       "      <th>skills</th>\n",
       "    </tr>\n",
       "  </thead>\n",
       "  <tbody>\n",
       "    <tr>\n",
       "      <th>902</th>\n",
       "      <td>NaN</td>\n",
       "      <td>Engineer</td>\n",
       "      <td>Northeast United States</td>\n",
       "      <td>c++ access business intelligence data structur...</td>\n",
       "    </tr>\n",
       "    <tr>\n",
       "      <th>4220</th>\n",
       "      <td>NaN</td>\n",
       "      <td>Developer</td>\n",
       "      <td>Northeast United States</td>\n",
       "      <td>.net access amazon android aws business intell...</td>\n",
       "    </tr>\n",
       "    <tr>\n",
       "      <th>4299</th>\n",
       "      <td>NaN</td>\n",
       "      <td>NaN</td>\n",
       "      <td>NaN</td>\n",
       "      <td>NaN</td>\n",
       "    </tr>\n",
       "    <tr>\n",
       "      <th>6758</th>\n",
       "      <td>NaN</td>\n",
       "      <td>NaN</td>\n",
       "      <td>NaN</td>\n",
       "      <td>NaN</td>\n",
       "    </tr>\n",
       "    <tr>\n",
       "      <th>9551</th>\n",
       "      <td>NaN</td>\n",
       "      <td>NaN</td>\n",
       "      <td>NaN</td>\n",
       "      <td>NaN</td>\n",
       "    </tr>\n",
       "    <tr>\n",
       "      <th>9991</th>\n",
       "      <td>NaN</td>\n",
       "      <td>NaN</td>\n",
       "      <td>NaN</td>\n",
       "      <td>NaN</td>\n",
       "    </tr>\n",
       "    <tr>\n",
       "      <th>10453</th>\n",
       "      <td>NaN</td>\n",
       "      <td>NaN</td>\n",
       "      <td>NaN</td>\n",
       "      <td>NaN</td>\n",
       "    </tr>\n",
       "    <tr>\n",
       "      <th>10785</th>\n",
       "      <td>NaN</td>\n",
       "      <td>NaN</td>\n",
       "      <td>NaN</td>\n",
       "      <td>NaN</td>\n",
       "    </tr>\n",
       "    <tr>\n",
       "      <th>10789</th>\n",
       "      <td>NaN</td>\n",
       "      <td>NaN</td>\n",
       "      <td>NaN</td>\n",
       "      <td>NaN</td>\n",
       "    </tr>\n",
       "    <tr>\n",
       "      <th>10951</th>\n",
       "      <td>NaN</td>\n",
       "      <td>NaN</td>\n",
       "      <td>NaN</td>\n",
       "      <td>NaN</td>\n",
       "    </tr>\n",
       "    <tr>\n",
       "      <th>11386</th>\n",
       "      <td>NaN</td>\n",
       "      <td>NaN</td>\n",
       "      <td>NaN</td>\n",
       "      <td>NaN</td>\n",
       "    </tr>\n",
       "    <tr>\n",
       "      <th>11398</th>\n",
       "      <td>NaN</td>\n",
       "      <td>NaN</td>\n",
       "      <td>NaN</td>\n",
       "      <td>NaN</td>\n",
       "    </tr>\n",
       "    <tr>\n",
       "      <th>11400</th>\n",
       "      <td>NaN</td>\n",
       "      <td>NaN</td>\n",
       "      <td>NaN</td>\n",
       "      <td>NaN</td>\n",
       "    </tr>\n",
       "    <tr>\n",
       "      <th>11473</th>\n",
       "      <td>NaN</td>\n",
       "      <td>NaN</td>\n",
       "      <td>NaN</td>\n",
       "      <td>NaN</td>\n",
       "    </tr>\n",
       "    <tr>\n",
       "      <th>11563</th>\n",
       "      <td>NaN</td>\n",
       "      <td>NaN</td>\n",
       "      <td>NaN</td>\n",
       "      <td>NaN</td>\n",
       "    </tr>\n",
       "    <tr>\n",
       "      <th>12392</th>\n",
       "      <td>NaN</td>\n",
       "      <td>NaN</td>\n",
       "      <td>NaN</td>\n",
       "      <td>NaN</td>\n",
       "    </tr>\n",
       "    <tr>\n",
       "      <th>12661</th>\n",
       "      <td>NaN</td>\n",
       "      <td>NaN</td>\n",
       "      <td>NaN</td>\n",
       "      <td>NaN</td>\n",
       "    </tr>\n",
       "    <tr>\n",
       "      <th>13177</th>\n",
       "      <td>NaN</td>\n",
       "      <td>Developer</td>\n",
       "      <td>Western United States</td>\n",
       "      <td>java backend developer junit</td>\n",
       "    </tr>\n",
       "    <tr>\n",
       "      <th>13884</th>\n",
       "      <td>NaN</td>\n",
       "      <td>Analyst</td>\n",
       "      <td>Northeast United States</td>\n",
       "      <td>knowledge of windows 7 office 2013 and ticketi...</td>\n",
       "    </tr>\n",
       "    <tr>\n",
       "      <th>14652</th>\n",
       "      <td>NaN</td>\n",
       "      <td>NaN</td>\n",
       "      <td>NaN</td>\n",
       "      <td>NaN</td>\n",
       "    </tr>\n",
       "    <tr>\n",
       "      <th>14979</th>\n",
       "      <td>NaN</td>\n",
       "      <td>Manager</td>\n",
       "      <td>Southern United States</td>\n",
       "      <td>it project management curam cash assistance cu...</td>\n",
       "    </tr>\n",
       "    <tr>\n",
       "      <th>15022</th>\n",
       "      <td>NaN</td>\n",
       "      <td>Developer</td>\n",
       "      <td>Southern United States</td>\n",
       "      <td>it architecture curam cash assistance curam ou...</td>\n",
       "    </tr>\n",
       "    <tr>\n",
       "      <th>15118</th>\n",
       "      <td>NaN</td>\n",
       "      <td>NaN</td>\n",
       "      <td>NaN</td>\n",
       "      <td>NaN</td>\n",
       "    </tr>\n",
       "    <tr>\n",
       "      <th>15802</th>\n",
       "      <td>NaN</td>\n",
       "      <td>NaN</td>\n",
       "      <td>NaN</td>\n",
       "      <td>NaN</td>\n",
       "    </tr>\n",
       "    <tr>\n",
       "      <th>16130</th>\n",
       "      <td>NaN</td>\n",
       "      <td>NaN</td>\n",
       "      <td>NaN</td>\n",
       "      <td>NaN</td>\n",
       "    </tr>\n",
       "  </tbody>\n",
       "</table>\n",
       "</div>"
      ],
      "text/plain": [
       "      job_description  job_title                 location  \\\n",
       "902               NaN   Engineer  Northeast United States   \n",
       "4220              NaN  Developer  Northeast United States   \n",
       "4299              NaN        NaN                      NaN   \n",
       "6758              NaN        NaN                      NaN   \n",
       "9551              NaN        NaN                      NaN   \n",
       "9991              NaN        NaN                      NaN   \n",
       "10453             NaN        NaN                      NaN   \n",
       "10785             NaN        NaN                      NaN   \n",
       "10789             NaN        NaN                      NaN   \n",
       "10951             NaN        NaN                      NaN   \n",
       "11386             NaN        NaN                      NaN   \n",
       "11398             NaN        NaN                      NaN   \n",
       "11400             NaN        NaN                      NaN   \n",
       "11473             NaN        NaN                      NaN   \n",
       "11563             NaN        NaN                      NaN   \n",
       "12392             NaN        NaN                      NaN   \n",
       "12661             NaN        NaN                      NaN   \n",
       "13177             NaN  Developer    Western United States   \n",
       "13884             NaN    Analyst  Northeast United States   \n",
       "14652             NaN        NaN                      NaN   \n",
       "14979             NaN    Manager   Southern United States   \n",
       "15022             NaN  Developer   Southern United States   \n",
       "15118             NaN        NaN                      NaN   \n",
       "15802             NaN        NaN                      NaN   \n",
       "16130             NaN        NaN                      NaN   \n",
       "\n",
       "                                                  skills  \n",
       "902    c++ access business intelligence data structur...  \n",
       "4220   .net access amazon android aws business intell...  \n",
       "4299                                                 NaN  \n",
       "6758                                                 NaN  \n",
       "9551                                                 NaN  \n",
       "9991                                                 NaN  \n",
       "10453                                                NaN  \n",
       "10785                                                NaN  \n",
       "10789                                                NaN  \n",
       "10951                                                NaN  \n",
       "11386                                                NaN  \n",
       "11398                                                NaN  \n",
       "11400                                                NaN  \n",
       "11473                                                NaN  \n",
       "11563                                                NaN  \n",
       "12392                                                NaN  \n",
       "12661                                                NaN  \n",
       "13177                       java backend developer junit  \n",
       "13884  knowledge of windows 7 office 2013 and ticketi...  \n",
       "14652                                                NaN  \n",
       "14979  it project management curam cash assistance cu...  \n",
       "15022  it architecture curam cash assistance curam ou...  \n",
       "15118                                                NaN  \n",
       "15802                                                NaN  \n",
       "16130                                                NaN  "
      ]
     },
     "execution_count": 22,
     "metadata": {},
     "output_type": "execute_result"
    }
   ],
   "source": [
    "jobs[jobs['job_description'].isna()]"
   ]
  },
  {
   "cell_type": "code",
   "execution_count": 23,
   "metadata": {},
   "outputs": [
    {
     "data": {
      "text/plain": [
       "job_description     25\n",
       "job_title           19\n",
       "location            19\n",
       "skills             390\n",
       "dtype: int64"
      ]
     },
     "execution_count": 23,
     "metadata": {},
     "output_type": "execute_result"
    }
   ],
   "source": [
    "jobs.isna().sum()"
   ]
  },
  {
   "cell_type": "code",
   "execution_count": 24,
   "metadata": {},
   "outputs": [],
   "source": [
    "jobs.dropna(inplace=True)\n",
    "jobs.reset_index(drop=True, inplace=True)"
   ]
  },
  {
   "cell_type": "code",
   "execution_count": 30,
   "metadata": {},
   "outputs": [],
   "source": [
    "list_docs = []\n",
    "for i in range(len(jobs)):\n",
    "    if jobs['job_description'][i]:\n",
    "        doc = nlp(\"u'\" + jobs['job_description'][i] + \"'\")\n",
    "        list_docs.append(doc)"
   ]
  },
  {
   "cell_type": "code",
   "execution_count": 31,
   "metadata": {},
   "outputs": [],
   "source": [
    "def calculate_sim_with_spacy(nlp, df, user_text, n=6):\n",
    "    list_sim = []\n",
    "    doc1 = nlp(\"u'\" + user_text + \"'\")\n",
    "    for i in df.index:\n",
    "        try:\n",
    "            doc2 = list_docs[i]\n",
    "            score = doc1.similarity(doc2)\n",
    "            list_sim.append((doc1, doc2, score))\n",
    "        except:\n",
    "            continue\n",
    "    return list_sim"
   ]
  },
  {
   "cell_type": "code",
   "execution_count": 36,
   "metadata": {},
   "outputs": [
    {
     "data": {
      "text/plain": [
       "u'If you are an EDI Analyst with experience, please read on!We are a strong, long standing company looking for an EDI Analyst for our team. You must have 3+ years of EDI experience in a TrustedLink for i environment. Your role will work with our finance department identifying trading partners, work closely with external customers and be the EDI liaison across the company. You will also monitor AS2 and VAN communications, correct errors and incoming data.What You Need for this PositionRequirements:3+ years of EDI experience3+ years of TrustedLink for i Experience, iSeries/AS400Experience with VAN and AS2 communicationsWhat's In It for YouWe offer a strong compensation package and benefits!Local Candidates ONLY please.So, if you are an EDI Analyst with experience, please apply today!Applicants must be authorized to work in the U.S.Please apply directly to by clicking 'Click Here to Apply' with your Word resume!Looking forward to receiving your resume and going over the position in more detail with you.- Not a fit for this position? Click the link at the bottom of this email to search all of our open positions.Looking forward to receiving your resume!CyberCodersCyberCoders, Inc is proud to be an Equal Opportunity EmployerAll qualified applicants will receive consideration for employment without regard to race, color, religion, sex, national origin, disability, protected veteran status, or any other characteristic protected by law.Your Right to Work - In compliance with federal law, all persons hired will be required to verify identity and eligibility to work in the United States and to complete the required employment eligibility verification document form upon hire.Copyright  1999 - 2016 . CyberCoders, Inc. All rights reserved.'"
      ]
     },
     "execution_count": 36,
     "metadata": {},
     "output_type": "execute_result"
    }
   ],
   "source": [
    "list_docs[0]"
   ]
  },
  {
   "cell_type": "code",
   "execution_count": 40,
   "metadata": {},
   "outputs": [
    {
     "name": "stderr",
     "output_type": "stream",
     "text": [
      "<ipython-input-31-4bb41cda221f>:7: UserWarning: [W007] The model you're using has no word vectors loaded, so the result of the Doc.similarity method will be based on the tagger, parser and NER, which may not give useful similarity judgements. This may happen if you're using one of the small models, e.g. `en_core_web_sm`, which don't ship with word vectors and only use context-sensitive tensors. You can always add your own word vectors, or use one of the larger models instead if available.\n",
      "  score = doc1.similarity(doc2)\n"
     ]
    }
   ],
   "source": [
    "sim = calculate_sim_with_spacy(nlp, jobs['job_description'], 'java developer')"
   ]
  },
  {
   "cell_type": "code",
   "execution_count": 50,
   "metadata": {},
   "outputs": [],
   "source": [
    "sims = [(s[1],s[2]) for s in sim]"
   ]
  },
  {
   "cell_type": "code",
   "execution_count": 58,
   "metadata": {},
   "outputs": [],
   "source": [
    "df = pd.DataFrame(sims).sort_values(by=1).reset_index(drop=True)"
   ]
  },
  {
   "cell_type": "code",
   "execution_count": 59,
   "metadata": {},
   "outputs": [
    {
     "data": {
      "text/html": [
       "<div>\n",
       "<style scoped>\n",
       "    .dataframe tbody tr th:only-of-type {\n",
       "        vertical-align: middle;\n",
       "    }\n",
       "\n",
       "    .dataframe tbody tr th {\n",
       "        vertical-align: top;\n",
       "    }\n",
       "\n",
       "    .dataframe thead th {\n",
       "        text-align: right;\n",
       "    }\n",
       "</style>\n",
       "<table border=\"1\" class=\"dataframe\">\n",
       "  <thead>\n",
       "    <tr style=\"text-align: right;\">\n",
       "      <th></th>\n",
       "      <th>0</th>\n",
       "      <th>1</th>\n",
       "    </tr>\n",
       "  </thead>\n",
       "  <tbody>\n",
       "    <tr>\n",
       "      <th>0</th>\n",
       "      <td>(u'Please, share, resume, to,  , or, Call, me,...</td>\n",
       "      <td>0.030524</td>\n",
       "    </tr>\n",
       "    <tr>\n",
       "      <th>1</th>\n",
       "      <td>(u'Job, Summary, :, The, Manager, of, Informat...</td>\n",
       "      <td>0.031012</td>\n",
       "    </tr>\n",
       "    <tr>\n",
       "      <th>2</th>\n",
       "      <td>(u'E*Pro, Consulting, service, offerings, incl...</td>\n",
       "      <td>0.062507</td>\n",
       "    </tr>\n",
       "    <tr>\n",
       "      <th>3</th>\n",
       "      <td>(u'Role, :, Team, center, PLM, developerLocati...</td>\n",
       "      <td>0.072988</td>\n",
       "    </tr>\n",
       "    <tr>\n",
       "      <th>4</th>\n",
       "      <td>(u'US, citizens, and, those, authorized, to, w...</td>\n",
       "      <td>0.104845</td>\n",
       "    </tr>\n",
       "  </tbody>\n",
       "</table>\n",
       "</div>"
      ],
      "text/plain": [
       "                                                   0         1\n",
       "0  (u'Please, share, resume, to,  , or, Call, me,...  0.030524\n",
       "1  (u'Job, Summary, :, The, Manager, of, Informat...  0.031012\n",
       "2  (u'E*Pro, Consulting, service, offerings, incl...  0.062507\n",
       "3  (u'Role, :, Team, center, PLM, developerLocati...  0.072988\n",
       "4  (u'US, citizens, and, those, authorized, to, w...  0.104845"
      ]
     },
     "execution_count": 59,
     "metadata": {},
     "output_type": "execute_result"
    }
   ],
   "source": [
    "df.head(5)"
   ]
  },
  {
   "cell_type": "code",
   "execution_count": 79,
   "metadata": {},
   "outputs": [
    {
     "data": {
      "text/html": [
       "<div>\n",
       "<style scoped>\n",
       "    .dataframe tbody tr th:only-of-type {\n",
       "        vertical-align: middle;\n",
       "    }\n",
       "\n",
       "    .dataframe tbody tr th {\n",
       "        vertical-align: top;\n",
       "    }\n",
       "\n",
       "    .dataframe thead th {\n",
       "        text-align: right;\n",
       "    }\n",
       "</style>\n",
       "<table border=\"1\" class=\"dataframe\">\n",
       "  <thead>\n",
       "    <tr style=\"text-align: right;\">\n",
       "      <th></th>\n",
       "      <th>0</th>\n",
       "      <th>1</th>\n",
       "    </tr>\n",
       "  </thead>\n",
       "  <tbody>\n",
       "    <tr>\n",
       "      <th>16255</th>\n",
       "      <td>(u'Software, Architect, 6, MonthsDearborn, ,, ...</td>\n",
       "      <td>0.545974</td>\n",
       "    </tr>\n",
       "    <tr>\n",
       "      <th>16256</th>\n",
       "      <td>(u'PHP, Developer, ')</td>\n",
       "      <td>0.549071</td>\n",
       "    </tr>\n",
       "    <tr>\n",
       "      <th>16257</th>\n",
       "      <td>(u'Liferay, Website, hosted, on, version, 6.2L...</td>\n",
       "      <td>0.550896</td>\n",
       "    </tr>\n",
       "    <tr>\n",
       "      <th>16258</th>\n",
       "      <td>(u'5, years, experience, working, on, Middlewa...</td>\n",
       "      <td>0.573112</td>\n",
       "    </tr>\n",
       "    <tr>\n",
       "      <th>16259</th>\n",
       "      <td>(u'\"MusthavepriorDataconversionexperienceproje...</td>\n",
       "      <td>0.577609</td>\n",
       "    </tr>\n",
       "    <tr>\n",
       "      <th>16260</th>\n",
       "      <td>(u'Network, Storage, Engineer6, monthsAustin, ...</td>\n",
       "      <td>0.579050</td>\n",
       "    </tr>\n",
       "    <tr>\n",
       "      <th>16261</th>\n",
       "      <td>(u'SR, Android, Developer, ')</td>\n",
       "      <td>0.601328</td>\n",
       "    </tr>\n",
       "    <tr>\n",
       "      <th>16262</th>\n",
       "      <td>(u'Java, and, Liferay, ')</td>\n",
       "      <td>0.622916</td>\n",
       "    </tr>\n",
       "    <tr>\n",
       "      <th>16263</th>\n",
       "      <td>(u'systems, engineer, RF, communica, Design, t...</td>\n",
       "      <td>0.690385</td>\n",
       "    </tr>\n",
       "    <tr>\n",
       "      <th>16264</th>\n",
       "      <td>(u'Java, planner, ')</td>\n",
       "      <td>0.750848</td>\n",
       "    </tr>\n",
       "  </tbody>\n",
       "</table>\n",
       "</div>"
      ],
      "text/plain": [
       "                                                       0         1\n",
       "16255  (u'Software, Architect, 6, MonthsDearborn, ,, ...  0.545974\n",
       "16256                              (u'PHP, Developer, ')  0.549071\n",
       "16257  (u'Liferay, Website, hosted, on, version, 6.2L...  0.550896\n",
       "16258  (u'5, years, experience, working, on, Middlewa...  0.573112\n",
       "16259  (u'\"MusthavepriorDataconversionexperienceproje...  0.577609\n",
       "16260  (u'Network, Storage, Engineer6, monthsAustin, ...  0.579050\n",
       "16261                      (u'SR, Android, Developer, ')  0.601328\n",
       "16262                          (u'Java, and, Liferay, ')  0.622916\n",
       "16263  (u'systems, engineer, RF, communica, Design, t...  0.690385\n",
       "16264                               (u'Java, planner, ')  0.750848"
      ]
     },
     "execution_count": 79,
     "metadata": {},
     "output_type": "execute_result"
    }
   ],
   "source": [
    "df.tail(10)"
   ]
  },
  {
   "cell_type": "code",
   "execution_count": 80,
   "metadata": {},
   "outputs": [
    {
     "data": {
      "text/plain": [
       "u'\"MusthavepriorDataconversionexperienceprojects;beabletounderstandgeneralprocesses.RequiresSFDCknowledgeforconverstionofSFDCtoanothertechn ology.Mustbefamiliarwithstandardvs.non-standarddatatablesinSFDCandcommunicatetotheprojectteamwhatcustomizationsareinplace.\"'"
      ]
     },
     "execution_count": 80,
     "metadata": {},
     "output_type": "execute_result"
    }
   ],
   "source": [
    "df.tail(10).loc[16259, 0]"
   ]
  },
  {
   "cell_type": "code",
   "execution_count": null,
   "metadata": {},
   "outputs": [],
   "source": []
  }
 ],
 "metadata": {
  "kernelspec": {
   "display_name": "Python 3",
   "language": "python",
   "name": "python3"
  },
  "language_info": {
   "codemirror_mode": {
    "name": "ipython",
    "version": 3
   },
   "file_extension": ".py",
   "mimetype": "text/x-python",
   "name": "python",
   "nbconvert_exporter": "python",
   "pygments_lexer": "ipython3",
   "version": "3.8.5"
  }
 },
 "nbformat": 4,
 "nbformat_minor": 4
}
