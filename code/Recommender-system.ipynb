{
 "cells": [
  {
   "cell_type": "markdown",
   "metadata": {},
   "source": [
    "# Recommender System"
   ]
  },
  {
   "cell_type": "markdown",
   "metadata": {},
   "source": [
    "# Things to fix in eda:\n",
    "    1) wordsstucktogether\n",
    "    2) _________\n",
    "    3) ??????????\n",
    "    4) **********\n",
    "    5) random numbers"
   ]
  },
  {
   "cell_type": "code",
   "execution_count": 147,
   "metadata": {},
   "outputs": [],
   "source": [
    "import pandas as pd\n",
    "import numpy as np\n",
    "import re\n",
    "from sklearn.feature_extraction.text import TfidfVectorizer\n",
    "from sklearn.metrics.pairwise import linear_kernel\n",
    "import spacy"
   ]
  },
  {
   "cell_type": "markdown",
   "metadata": {},
   "source": [
    "---"
   ]
  },
  {
   "cell_type": "code",
   "execution_count": 148,
   "metadata": {},
   "outputs": [],
   "source": [
    "jobs = pd.read_csv('../data/job_postings.csv')\n",
    "jobs = jobs.drop(columns=['date_added', 'organization', 'skills_len', 'job_type'])"
   ]
  },
  {
   "cell_type": "code",
   "execution_count": 149,
   "metadata": {},
   "outputs": [
    {
     "data": {
      "text/html": [
       "<div>\n",
       "<style scoped>\n",
       "    .dataframe tbody tr th:only-of-type {\n",
       "        vertical-align: middle;\n",
       "    }\n",
       "\n",
       "    .dataframe tbody tr th {\n",
       "        vertical-align: top;\n",
       "    }\n",
       "\n",
       "    .dataframe thead th {\n",
       "        text-align: right;\n",
       "    }\n",
       "</style>\n",
       "<table border=\"1\" class=\"dataframe\">\n",
       "  <thead>\n",
       "    <tr style=\"text-align: right;\">\n",
       "      <th></th>\n",
       "      <th>job_description</th>\n",
       "      <th>job_title</th>\n",
       "      <th>location</th>\n",
       "      <th>skills</th>\n",
       "    </tr>\n",
       "  </thead>\n",
       "  <tbody>\n",
       "    <tr>\n",
       "      <th>0</th>\n",
       "      <td>If you are an EDI Analyst with experience, ple...</td>\n",
       "      <td>Analyst</td>\n",
       "      <td>Northeast United States</td>\n",
       "      <td>edi trustedlink as2 van</td>\n",
       "    </tr>\n",
       "    <tr>\n",
       "      <th>1</th>\n",
       "      <td>Informatica/ ETL DeveloperSt, Petersburg, FL O...</td>\n",
       "      <td>Developer</td>\n",
       "      <td>Southern United States</td>\n",
       "      <td>etl informatica b2b data exchange netezza orac...</td>\n",
       "    </tr>\n",
       "    <tr>\n",
       "      <th>2</th>\n",
       "      <td>Sunnyvale , CAANGULARJSdeveloperswithhibernat...</td>\n",
       "      <td>Developer</td>\n",
       "      <td>Western United States</td>\n",
       "      <td>angular</td>\n",
       "    </tr>\n",
       "    <tr>\n",
       "      <th>3</th>\n",
       "      <td>This nationally recognized Microsoft Gold Part...</td>\n",
       "      <td>Manager</td>\n",
       "      <td>Western United States</td>\n",
       "      <td>microsoft dynamics ax project manager - toront...</td>\n",
       "    </tr>\n",
       "    <tr>\n",
       "      <th>4</th>\n",
       "      <td>If you are a .NET Developer with experience, p...</td>\n",
       "      <td>Developer</td>\n",
       "      <td>Northeast United States</td>\n",
       "      <td>c# asp.net sql javascript mvc</td>\n",
       "    </tr>\n",
       "  </tbody>\n",
       "</table>\n",
       "</div>"
      ],
      "text/plain": [
       "                                     job_description  job_title  \\\n",
       "0  If you are an EDI Analyst with experience, ple...    Analyst   \n",
       "1  Informatica/ ETL DeveloperSt, Petersburg, FL O...  Developer   \n",
       "2   Sunnyvale , CAANGULARJSdeveloperswithhibernat...  Developer   \n",
       "3  This nationally recognized Microsoft Gold Part...    Manager   \n",
       "4  If you are a .NET Developer with experience, p...  Developer   \n",
       "\n",
       "                  location                                             skills  \n",
       "0  Northeast United States                            edi trustedlink as2 van  \n",
       "1   Southern United States  etl informatica b2b data exchange netezza orac...  \n",
       "2    Western United States                                            angular  \n",
       "3    Western United States  microsoft dynamics ax project manager - toront...  \n",
       "4  Northeast United States                      c# asp.net sql javascript mvc  "
      ]
     },
     "execution_count": 149,
     "metadata": {},
     "output_type": "execute_result"
    }
   ],
   "source": [
    "jobs.head(5)"
   ]
  },
  {
   "cell_type": "code",
   "execution_count": 150,
   "metadata": {},
   "outputs": [
    {
     "data": {
      "text/plain": [
       "job_description      6\n",
       "job_title            0\n",
       "location             0\n",
       "skills             390\n",
       "dtype: int64"
      ]
     },
     "execution_count": 150,
     "metadata": {},
     "output_type": "execute_result"
    }
   ],
   "source": [
    "jobs.isna().sum()"
   ]
  },
  {
   "cell_type": "code",
   "execution_count": 151,
   "metadata": {},
   "outputs": [],
   "source": [
    "# Replace nan's with empty string\n",
    "jobs.fillna('', inplace=True)"
   ]
  },
  {
   "cell_type": "code",
   "execution_count": 152,
   "metadata": {},
   "outputs": [],
   "source": [
    "# Combine job description and text into a single column\n",
    "jobs['text'] = jobs['job_description'] + ' ' + jobs['skills']"
   ]
  },
  {
   "cell_type": "markdown",
   "metadata": {},
   "source": [
    "# Tf-Idf\n",
    "https://www.datacamp.com/community/tutorials/recommender-systems-python"
   ]
  },
  {
   "cell_type": "code",
   "execution_count": 34,
   "metadata": {},
   "outputs": [
    {
     "data": {
      "text/plain": [
       "(16661, 94943)"
      ]
     },
     "execution_count": 34,
     "metadata": {},
     "output_type": "execute_result"
    }
   ],
   "source": [
    "# Vectorize the training data\n",
    "tfidf = TfidfVectorizer(stop_words='english')\n",
    "\n",
    "tfidf_matrix = tfidf.fit_transform(jobs['text'])\n",
    "\n",
    "tfidf_matrix.shape"
   ]
  },
  {
   "cell_type": "code",
   "execution_count": 44,
   "metadata": {},
   "outputs": [
    {
     "data": {
      "text/plain": [
       "matrix([[0., 0., 0., ..., 0., 0., 0.],\n",
       "        [0., 0., 0., ..., 0., 0., 0.],\n",
       "        [0., 0., 0., ..., 0., 0., 0.],\n",
       "        ...,\n",
       "        [0., 0., 0., ..., 0., 0., 0.],\n",
       "        [0., 0., 0., ..., 0., 0., 0.],\n",
       "        [0., 0., 0., ..., 0., 0., 0.]])"
      ]
     },
     "execution_count": 44,
     "metadata": {},
     "output_type": "execute_result"
    }
   ],
   "source": [
    "# Reminder of what this looks like\n",
    "tfidf_matrix.todense()"
   ]
  },
  {
   "cell_type": "code",
   "execution_count": 42,
   "metadata": {},
   "outputs": [
    {
     "data": {
      "text/plain": [
       "['businesstrain',\n",
       " 'businesstranslates',\n",
       " 'businesstroubleshoot',\n",
       " 'businesstypically',\n",
       " 'businessunderstand',\n",
       " 'businessweb',\n",
       " 'businessweek',\n",
       " 'businesswhat',\n",
       " 'businesswillingness',\n",
       " 'businessworked']"
      ]
     },
     "execution_count": 42,
     "metadata": {},
     "output_type": "execute_result"
    }
   ],
   "source": [
    "# Looking at the 'words' that show up in the training data\n",
    "tfidf.get_feature_names()[15000:15010]"
   ]
  },
  {
   "cell_type": "code",
   "execution_count": 50,
   "metadata": {},
   "outputs": [
    {
     "data": {
      "text/plain": [
       "(1, 2)"
      ]
     },
     "execution_count": 50,
     "metadata": {},
     "output_type": "execute_result"
    }
   ],
   "source": [
    "# Vectorize the user's profile\n",
    "tfidf_user = TfidfVectorizer(stop_words='english')\n",
    "\n",
    "user_input_tfidf = tfidf_user.fit_transform(['java developer'])\n",
    "\n",
    "user_input_tfidf.shape"
   ]
  },
  {
   "cell_type": "code",
   "execution_count": 53,
   "metadata": {},
   "outputs": [],
   "source": [
    "# Calculate the cosine similarity\n",
    "# cosine_sim = linear_kernel(tfidf_matrix, user_input_tfidf)"
   ]
  },
  {
   "cell_type": "code",
   "execution_count": null,
   "metadata": {},
   "outputs": [],
   "source": []
  },
  {
   "cell_type": "markdown",
   "metadata": {},
   "source": [
    "# Spacy\n",
    "https://spacy.io/usage/spacy-101"
   ]
  },
  {
   "cell_type": "code",
   "execution_count": 153,
   "metadata": {},
   "outputs": [],
   "source": [
    "# Load one of the larger models for a better similarity score\n",
    "nlp = spacy.load(\"en_core_web_lg\")"
   ]
  },
  {
   "cell_type": "code",
   "execution_count": 154,
   "metadata": {},
   "outputs": [
    {
     "name": "stdout",
     "output_type": "stream",
     "text": [
      "dog dog 1.0\n",
      "dog cat 0.8016855\n",
      "dog banana 0.24327648\n",
      "cat dog 0.8016855\n",
      "cat cat 1.0\n",
      "cat banana 0.28154367\n",
      "banana dog 0.24327648\n",
      "banana cat 0.28154367\n",
      "banana banana 1.0\n"
     ]
    }
   ],
   "source": [
    "# How to use .similarity function\n",
    "tokens = nlp(\"dog cat banana\")\n",
    "\n",
    "for token1 in tokens:\n",
    "    for token2 in tokens:\n",
    "        print(token1.text, token2.text, token1.similarity(token2))"
   ]
  },
  {
   "cell_type": "code",
   "execution_count": 155,
   "metadata": {},
   "outputs": [
    {
     "name": "stdout",
     "output_type": "stream",
     "text": [
      "1.0\n",
      "0.8016855517329495\n",
      "0.24327647954195658\n"
     ]
    }
   ],
   "source": [
    "# Some more examples\n",
    "print(nlp(\"dog\").similarity(nlp(\"dog\")))\n",
    "print(nlp(\"dog\").similarity(nlp(\"cat\")))\n",
    "print(nlp(\"dog\").similarity(nlp(\"banana\")))"
   ]
  },
  {
   "cell_type": "code",
   "execution_count": 156,
   "metadata": {},
   "outputs": [
    {
     "name": "stdout",
     "output_type": "stream",
     "text": [
      "dog True 7.0336733 False\n",
      "cat True 6.6808186 False\n",
      "banana True 6.700014 False\n",
      "afskfsd False 0.0 True\n"
     ]
    }
   ],
   "source": [
    "# Displaying some attributes of an nlp object\n",
    "tokens = nlp(\"dog cat banana afskfsd\")\n",
    "\n",
    "for token in tokens:\n",
    "    print(token.text, token.has_vector, token.vector_norm, token.is_oov)"
   ]
  },
  {
   "cell_type": "markdown",
   "metadata": {},
   "source": [
    "---\n",
    "## Using our jobs data"
   ]
  },
  {
   "cell_type": "code",
   "execution_count": 157,
   "metadata": {},
   "outputs": [],
   "source": [
    "titles_and_docs = jobs[['job_title']].copy()\n",
    "titles_and_docs['doc'] = jobs['text'].map(nlp)"
   ]
  },
  {
   "cell_type": "code",
   "execution_count": 158,
   "metadata": {},
   "outputs": [
    {
     "data": {
      "text/html": [
       "<div>\n",
       "<style scoped>\n",
       "    .dataframe tbody tr th:only-of-type {\n",
       "        vertical-align: middle;\n",
       "    }\n",
       "\n",
       "    .dataframe tbody tr th {\n",
       "        vertical-align: top;\n",
       "    }\n",
       "\n",
       "    .dataframe thead th {\n",
       "        text-align: right;\n",
       "    }\n",
       "</style>\n",
       "<table border=\"1\" class=\"dataframe\">\n",
       "  <thead>\n",
       "    <tr style=\"text-align: right;\">\n",
       "      <th></th>\n",
       "      <th>job_title</th>\n",
       "      <th>doc</th>\n",
       "    </tr>\n",
       "  </thead>\n",
       "  <tbody>\n",
       "    <tr>\n",
       "      <th>0</th>\n",
       "      <td>Analyst</td>\n",
       "      <td>(If, you, are, an, EDI, Analyst, with, experie...</td>\n",
       "    </tr>\n",
       "    <tr>\n",
       "      <th>1</th>\n",
       "      <td>Developer</td>\n",
       "      <td>(Informatica/, ETL, DeveloperSt, ,, Petersburg...</td>\n",
       "    </tr>\n",
       "    <tr>\n",
       "      <th>2</th>\n",
       "      <td>Developer</td>\n",
       "      <td>( , Sunnyvale, ,, CAANGULARJSdeveloperswithhib...</td>\n",
       "    </tr>\n",
       "    <tr>\n",
       "      <th>3</th>\n",
       "      <td>Manager</td>\n",
       "      <td>(This, nationally, recognized, Microsoft, Gold...</td>\n",
       "    </tr>\n",
       "    <tr>\n",
       "      <th>4</th>\n",
       "      <td>Developer</td>\n",
       "      <td>(If, you, are, a, .NET, Developer, with, exper...</td>\n",
       "    </tr>\n",
       "    <tr>\n",
       "      <th>...</th>\n",
       "      <td>...</td>\n",
       "      <td>...</td>\n",
       "    </tr>\n",
       "    <tr>\n",
       "      <th>16656</th>\n",
       "      <td>Developer</td>\n",
       "      <td>(Job, Description,  , JPMorgan, Chase, &amp;, Co.,...</td>\n",
       "    </tr>\n",
       "    <tr>\n",
       "      <th>16657</th>\n",
       "      <td>Administrator</td>\n",
       "      <td>(Seeking, Jr., Systems, Administrators, with, ...</td>\n",
       "    </tr>\n",
       "    <tr>\n",
       "      <th>16658</th>\n",
       "      <td>Developer</td>\n",
       "      <td>(If, you, are, a, Senior, /, Lead, Devops, Eng...</td>\n",
       "    </tr>\n",
       "    <tr>\n",
       "      <th>16659</th>\n",
       "      <td>Developer</td>\n",
       "      <td>(Headquartered, in, downtown, San, Francisco, ...</td>\n",
       "    </tr>\n",
       "    <tr>\n",
       "      <th>16660</th>\n",
       "      <td>Engineer</td>\n",
       "      <td>(If, you, are, an, AppSec, or, Hardware, Secur...</td>\n",
       "    </tr>\n",
       "  </tbody>\n",
       "</table>\n",
       "<p>16661 rows × 2 columns</p>\n",
       "</div>"
      ],
      "text/plain": [
       "           job_title                                                doc\n",
       "0            Analyst  (If, you, are, an, EDI, Analyst, with, experie...\n",
       "1          Developer  (Informatica/, ETL, DeveloperSt, ,, Petersburg...\n",
       "2          Developer  ( , Sunnyvale, ,, CAANGULARJSdeveloperswithhib...\n",
       "3            Manager  (This, nationally, recognized, Microsoft, Gold...\n",
       "4          Developer  (If, you, are, a, .NET, Developer, with, exper...\n",
       "...              ...                                                ...\n",
       "16656      Developer  (Job, Description,  , JPMorgan, Chase, &, Co.,...\n",
       "16657  Administrator  (Seeking, Jr., Systems, Administrators, with, ...\n",
       "16658      Developer  (If, you, are, a, Senior, /, Lead, Devops, Eng...\n",
       "16659      Developer  (Headquartered, in, downtown, San, Francisco, ...\n",
       "16660       Engineer  (If, you, are, an, AppSec, or, Hardware, Secur...\n",
       "\n",
       "[16661 rows x 2 columns]"
      ]
     },
     "execution_count": 158,
     "metadata": {},
     "output_type": "execute_result"
    }
   ],
   "source": [
    "titles_and_docs"
   ]
  },
  {
   "cell_type": "code",
   "execution_count": 175,
   "metadata": {},
   "outputs": [
    {
     "data": {
      "text/plain": [
       "0.5141672540267872"
      ]
     },
     "execution_count": 175,
     "metadata": {},
     "output_type": "execute_result"
    }
   ],
   "source": [
    "# Comparing job postings to the single word 'Analyst'\n",
    "# Highest similarity score in the first 2000 posts is .514\n",
    "doc = nlp('Analyst')\n",
    "\n",
    "max(titles_and_docs['doc'][:2000].map(lambda x: x.similarity(doc)))"
   ]
  },
  {
   "cell_type": "code",
   "execution_count": 187,
   "metadata": {},
   "outputs": [
    {
     "data": {
      "text/plain": [
       "\"Data Science Fellow, Python Developer, Health and Fitness Coach, IT Specialist, Data Analyst, Computational Modeling, Data Analyst Data Analysis, Python (Programming Language), Git, Data Visualization, Statistics, Machine Learning, Microsoft Excel, Microsoft Office, SQL, GitHub, Microsoft Azure, Team Leadership I bridge the gap between data and climate policy as a data scientist.  I work with climate scientists and the data they collect to extract insights and ensure appropriate action is taken by policy makers. My favorite activity is an ocean plunge, any time, any weather. This motivates me to inform and guide decision making towards a healthy relationship with our natural world.  Skills: Python, machine learning, SQL, data cleaning and preprocessing, ETL, Microsoft Azure, dashboard reporting, web application development. Data Science Intensive, Bachelor's of Science\""
      ]
     },
     "execution_count": 187,
     "metadata": {},
     "output_type": "execute_result"
    }
   ],
   "source": [
    "# Load in profile data to test the similarity score\n",
    "profile_data_zach = pd.read_csv('../data/linkedin/test-output/Zach_LinkedInData_12-16-2020.csv')\n",
    "\n",
    "profile_data_zach['text'] = profile_data_zach['Titles'] + ' ' \\\n",
    "                        + profile_data_zach['Skills'] + ' ' \\\n",
    "                        + profile_data_zach['Summary'] + ' ' \\\n",
    "                        + profile_data_zach['Education']\n",
    "\n",
    "profile_data_zach['text'][0]"
   ]
  },
  {
   "cell_type": "code",
   "execution_count": 188,
   "metadata": {},
   "outputs": [
    {
     "data": {
      "text/plain": [
       "0     0.909253\n",
       "1     0.910925\n",
       "2     0.704195\n",
       "3     0.925627\n",
       "4     0.925101\n",
       "        ...   \n",
       "95    0.905330\n",
       "96    0.942924\n",
       "97    0.940148\n",
       "98    0.919232\n",
       "99    0.910125\n",
       "Name: doc, Length: 100, dtype: float64"
      ]
     },
     "execution_count": 188,
     "metadata": {},
     "output_type": "execute_result"
    }
   ],
   "source": [
    "# Zach's profile\n",
    "profile_text_zach = profile_data_zach['text'][0]\n",
    "profile_doc_zach = nlp(profile_text_zach)\n",
    "\n",
    "# First similarity scores for first 100 job postings\n",
    "titles_and_docs['doc'][:100].map(lambda x: x.similarity(profile_doc_zach))"
   ]
  },
  {
   "cell_type": "code",
   "execution_count": 197,
   "metadata": {},
   "outputs": [],
   "source": [
    "# Calculate all similarity scores\n",
    "zach_scores = jobs[['job_title']].copy()\n",
    "zach_scores['sim_score'] = titles_and_docs['doc'].map(lambda x: x.similarity(profile_doc_zach))"
   ]
  },
  {
   "cell_type": "code",
   "execution_count": 198,
   "metadata": {},
   "outputs": [
    {
     "data": {
      "text/html": [
       "<div>\n",
       "<style scoped>\n",
       "    .dataframe tbody tr th:only-of-type {\n",
       "        vertical-align: middle;\n",
       "    }\n",
       "\n",
       "    .dataframe tbody tr th {\n",
       "        vertical-align: top;\n",
       "    }\n",
       "\n",
       "    .dataframe thead th {\n",
       "        text-align: right;\n",
       "    }\n",
       "</style>\n",
       "<table border=\"1\" class=\"dataframe\">\n",
       "  <thead>\n",
       "    <tr style=\"text-align: right;\">\n",
       "      <th></th>\n",
       "      <th>count</th>\n",
       "      <th>mean</th>\n",
       "    </tr>\n",
       "    <tr>\n",
       "      <th>job_title</th>\n",
       "      <th></th>\n",
       "      <th></th>\n",
       "    </tr>\n",
       "  </thead>\n",
       "  <tbody>\n",
       "    <tr>\n",
       "      <th>Data Position</th>\n",
       "      <td>283</td>\n",
       "      <td>0.926926</td>\n",
       "    </tr>\n",
       "    <tr>\n",
       "      <th>Analyst</th>\n",
       "      <td>1900</td>\n",
       "      <td>0.925358</td>\n",
       "    </tr>\n",
       "    <tr>\n",
       "      <th>Engineer</th>\n",
       "      <td>4118</td>\n",
       "      <td>0.924823</td>\n",
       "    </tr>\n",
       "    <tr>\n",
       "      <th>Architect</th>\n",
       "      <td>831</td>\n",
       "      <td>0.923081</td>\n",
       "    </tr>\n",
       "    <tr>\n",
       "      <th>Programmer</th>\n",
       "      <td>321</td>\n",
       "      <td>0.920916</td>\n",
       "    </tr>\n",
       "    <tr>\n",
       "      <th>Director</th>\n",
       "      <td>146</td>\n",
       "      <td>0.920628</td>\n",
       "    </tr>\n",
       "    <tr>\n",
       "      <th>Administrator</th>\n",
       "      <td>899</td>\n",
       "      <td>0.920092</td>\n",
       "    </tr>\n",
       "    <tr>\n",
       "      <th>Developer</th>\n",
       "      <td>5274</td>\n",
       "      <td>0.919908</td>\n",
       "    </tr>\n",
       "    <tr>\n",
       "      <th>Manager</th>\n",
       "      <td>1390</td>\n",
       "      <td>0.918922</td>\n",
       "    </tr>\n",
       "    <tr>\n",
       "      <th>Support</th>\n",
       "      <td>343</td>\n",
       "      <td>0.918392</td>\n",
       "    </tr>\n",
       "    <tr>\n",
       "      <th>Designer</th>\n",
       "      <td>221</td>\n",
       "      <td>0.917210</td>\n",
       "    </tr>\n",
       "    <tr>\n",
       "      <th>Technician</th>\n",
       "      <td>343</td>\n",
       "      <td>0.915486</td>\n",
       "    </tr>\n",
       "    <tr>\n",
       "      <th>Consulting</th>\n",
       "      <td>592</td>\n",
       "      <td>0.908626</td>\n",
       "    </tr>\n",
       "  </tbody>\n",
       "</table>\n",
       "</div>"
      ],
      "text/plain": [
       "               count      mean\n",
       "job_title                     \n",
       "Data Position    283  0.926926\n",
       "Analyst         1900  0.925358\n",
       "Engineer        4118  0.924823\n",
       "Architect        831  0.923081\n",
       "Programmer       321  0.920916\n",
       "Director         146  0.920628\n",
       "Administrator    899  0.920092\n",
       "Developer       5274  0.919908\n",
       "Manager         1390  0.918922\n",
       "Support          343  0.918392\n",
       "Designer         221  0.917210\n",
       "Technician       343  0.915486\n",
       "Consulting       592  0.908626"
      ]
     },
     "execution_count": 198,
     "metadata": {},
     "output_type": "execute_result"
    }
   ],
   "source": [
    "# Zach's results\n",
    "zach_scores.groupby('job_title').agg(['count', 'mean'])['sim_score'].sort_values('mean', ascending=False)"
   ]
  },
  {
   "cell_type": "code",
   "execution_count": 193,
   "metadata": {},
   "outputs": [
    {
     "data": {
      "text/plain": [
       "\"Data Science Fellow, Painter Data Science, Python, Data Analysis, Data Management, Business Intelligence (BI), Analytical Skills, Web Development, Business Analytics, Wireframing, Pivot Tables, Identifying New Opportunities, Data Visualization, Machine Learning, SQL, Microsoft Excel, HTML, Tableau, JavaScript, Microsoft PowerPoint, Microsoft Word, Windows, SQL Server Management Studio, Tenable Nessus, Microsoft Office, Microsoft SQL Server, GitHub, Git, Organizational Leadership, Interpersonal Communication, Collaborative Problem Solving, Data Cleaning, Online Social Networking, Wireshark, NetWitness, Predictive Modeling, Command Line, Web Scraping An innovative Data Scientist who is passionate about constructing programs that are more efficient utilizing functions for automation. With a background in management information systems I bring an analytical, calculated process to any organization.  Technologies: SQL | HTML5 | Javascript | AWS EC2 | Jupyter Notebooks | Github | Git | Excel | Word | PowerPoint | Python | Tableau | Visual Basic | Bootstrap  Skills: Data analysis, Macro Programming, Spreadsheet Engineering, Linear Programming and Optimization, Data Visualization, Sensitivity Analysis, Web Scraping, Natural Language Processing, Regression Modeling, Machine Learning  Python Libraries: Pandas | NumPy | Matplotlib | Seaborn | Scikit-Learn | BeautifulSoup  Bachelor's degree, Software Boot Camp Certificate\""
      ]
     },
     "execution_count": 193,
     "metadata": {},
     "output_type": "execute_result"
    }
   ],
   "source": [
    "# Load in profile data to test the similarity score\n",
    "profile_data_nolan = pd.read_csv('../data/linkedin/test-output/Nolan_LinkedInData_12-16-2020.csv')\n",
    "\n",
    "profile_data_nolan['text'] = profile_data_nolan['Titles'] + ' ' \\\n",
    "                        + profile_data_nolan['Skills'] + ' ' \\\n",
    "                        + profile_data_nolan['Summary'] + ' ' \\\n",
    "                        + profile_data_nolan['Education']\n",
    "\n",
    "profile_data_nolan['text'][0]"
   ]
  },
  {
   "cell_type": "code",
   "execution_count": 194,
   "metadata": {},
   "outputs": [
    {
     "data": {
      "text/plain": [
       "0     0.799030\n",
       "1     0.926522\n",
       "2     0.657546\n",
       "3     0.828865\n",
       "4     0.828454\n",
       "        ...   \n",
       "95    0.794983\n",
       "96    0.879577\n",
       "97    0.855071\n",
       "98    0.841373\n",
       "99    0.809794\n",
       "Name: doc, Length: 100, dtype: float64"
      ]
     },
     "execution_count": 194,
     "metadata": {},
     "output_type": "execute_result"
    }
   ],
   "source": [
    "# Nolan's profile\n",
    "profile_text_nolan = profile_data_nolan['text'][0]\n",
    "profile_doc_nolan = nlp(profile_text_nolan)\n",
    "\n",
    "# First similarity scores for first 100 job postings\n",
    "titles_and_docs['doc'][:100].map(lambda x: x.similarity(profile_doc_nolan))"
   ]
  },
  {
   "cell_type": "code",
   "execution_count": 195,
   "metadata": {},
   "outputs": [],
   "source": [
    "# Calculate all similarity scores\n",
    "nolan_scores = jobs[['job_title']].copy()\n",
    "nolan_scores['sim_score'] = titles_and_docs['doc'].map(lambda x: x.similarity(profile_doc_nolan))"
   ]
  },
  {
   "cell_type": "code",
   "execution_count": 196,
   "metadata": {},
   "outputs": [
    {
     "data": {
      "text/html": [
       "<div>\n",
       "<style scoped>\n",
       "    .dataframe tbody tr th:only-of-type {\n",
       "        vertical-align: middle;\n",
       "    }\n",
       "\n",
       "    .dataframe tbody tr th {\n",
       "        vertical-align: top;\n",
       "    }\n",
       "\n",
       "    .dataframe thead th {\n",
       "        text-align: right;\n",
       "    }\n",
       "</style>\n",
       "<table border=\"1\" class=\"dataframe\">\n",
       "  <thead>\n",
       "    <tr style=\"text-align: right;\">\n",
       "      <th></th>\n",
       "      <th>count</th>\n",
       "      <th>mean</th>\n",
       "    </tr>\n",
       "    <tr>\n",
       "      <th>job_title</th>\n",
       "      <th></th>\n",
       "      <th></th>\n",
       "    </tr>\n",
       "  </thead>\n",
       "  <tbody>\n",
       "    <tr>\n",
       "      <th>Administrator</th>\n",
       "      <td>899</td>\n",
       "      <td>0.854444</td>\n",
       "    </tr>\n",
       "    <tr>\n",
       "      <th>Architect</th>\n",
       "      <td>831</td>\n",
       "      <td>0.853405</td>\n",
       "    </tr>\n",
       "    <tr>\n",
       "      <th>Data Position</th>\n",
       "      <td>283</td>\n",
       "      <td>0.850451</td>\n",
       "    </tr>\n",
       "    <tr>\n",
       "      <th>Developer</th>\n",
       "      <td>5274</td>\n",
       "      <td>0.849798</td>\n",
       "    </tr>\n",
       "    <tr>\n",
       "      <th>Programmer</th>\n",
       "      <td>321</td>\n",
       "      <td>0.848576</td>\n",
       "    </tr>\n",
       "    <tr>\n",
       "      <th>Analyst</th>\n",
       "      <td>1900</td>\n",
       "      <td>0.845167</td>\n",
       "    </tr>\n",
       "    <tr>\n",
       "      <th>Consulting</th>\n",
       "      <td>592</td>\n",
       "      <td>0.844738</td>\n",
       "    </tr>\n",
       "    <tr>\n",
       "      <th>Engineer</th>\n",
       "      <td>4118</td>\n",
       "      <td>0.844079</td>\n",
       "    </tr>\n",
       "    <tr>\n",
       "      <th>Designer</th>\n",
       "      <td>221</td>\n",
       "      <td>0.838389</td>\n",
       "    </tr>\n",
       "    <tr>\n",
       "      <th>Support</th>\n",
       "      <td>343</td>\n",
       "      <td>0.837141</td>\n",
       "    </tr>\n",
       "    <tr>\n",
       "      <th>Manager</th>\n",
       "      <td>1390</td>\n",
       "      <td>0.832759</td>\n",
       "    </tr>\n",
       "    <tr>\n",
       "      <th>Director</th>\n",
       "      <td>146</td>\n",
       "      <td>0.831094</td>\n",
       "    </tr>\n",
       "    <tr>\n",
       "      <th>Technician</th>\n",
       "      <td>343</td>\n",
       "      <td>0.828307</td>\n",
       "    </tr>\n",
       "  </tbody>\n",
       "</table>\n",
       "</div>"
      ],
      "text/plain": [
       "               count      mean\n",
       "job_title                     \n",
       "Administrator    899  0.854444\n",
       "Architect        831  0.853405\n",
       "Data Position    283  0.850451\n",
       "Developer       5274  0.849798\n",
       "Programmer       321  0.848576\n",
       "Analyst         1900  0.845167\n",
       "Consulting       592  0.844738\n",
       "Engineer        4118  0.844079\n",
       "Designer         221  0.838389\n",
       "Support          343  0.837141\n",
       "Manager         1390  0.832759\n",
       "Director         146  0.831094\n",
       "Technician       343  0.828307"
      ]
     },
     "execution_count": 196,
     "metadata": {},
     "output_type": "execute_result"
    }
   ],
   "source": [
    "# Nolan's results\n",
    "nolan_scores.groupby('job_title').agg(['count', 'mean'])['sim_score'].sort_values('mean', ascending=False)"
   ]
  },
  {
   "cell_type": "code",
   "execution_count": 202,
   "metadata": {},
   "outputs": [
    {
     "data": {
      "text/html": [
       "<div>\n",
       "<style scoped>\n",
       "    .dataframe tbody tr th:only-of-type {\n",
       "        vertical-align: middle;\n",
       "    }\n",
       "\n",
       "    .dataframe tbody tr th {\n",
       "        vertical-align: top;\n",
       "    }\n",
       "\n",
       "    .dataframe thead th {\n",
       "        text-align: right;\n",
       "    }\n",
       "</style>\n",
       "<table border=\"1\" class=\"dataframe\">\n",
       "  <thead>\n",
       "    <tr style=\"text-align: right;\">\n",
       "      <th></th>\n",
       "      <th>mean</th>\n",
       "    </tr>\n",
       "    <tr>\n",
       "      <th>job_title</th>\n",
       "      <th></th>\n",
       "    </tr>\n",
       "  </thead>\n",
       "  <tbody>\n",
       "    <tr>\n",
       "      <th>Data Position</th>\n",
       "      <td>0.926926</td>\n",
       "    </tr>\n",
       "    <tr>\n",
       "      <th>Analyst</th>\n",
       "      <td>0.925358</td>\n",
       "    </tr>\n",
       "    <tr>\n",
       "      <th>Engineer</th>\n",
       "      <td>0.924823</td>\n",
       "    </tr>\n",
       "  </tbody>\n",
       "</table>\n",
       "</div>"
      ],
      "text/plain": [
       "                   mean\n",
       "job_title              \n",
       "Data Position  0.926926\n",
       "Analyst        0.925358\n",
       "Engineer       0.924823"
      ]
     },
     "execution_count": 202,
     "metadata": {},
     "output_type": "execute_result"
    }
   ],
   "source": [
    "# Comparison\n",
    "zach_scores.groupby('job_title').agg(['mean'])['sim_score'].sort_values('mean', ascending=False).head(3)"
   ]
  },
  {
   "cell_type": "code",
   "execution_count": 204,
   "metadata": {},
   "outputs": [
    {
     "data": {
      "text/html": [
       "<div>\n",
       "<style scoped>\n",
       "    .dataframe tbody tr th:only-of-type {\n",
       "        vertical-align: middle;\n",
       "    }\n",
       "\n",
       "    .dataframe tbody tr th {\n",
       "        vertical-align: top;\n",
       "    }\n",
       "\n",
       "    .dataframe thead th {\n",
       "        text-align: right;\n",
       "    }\n",
       "</style>\n",
       "<table border=\"1\" class=\"dataframe\">\n",
       "  <thead>\n",
       "    <tr style=\"text-align: right;\">\n",
       "      <th></th>\n",
       "      <th>mean</th>\n",
       "    </tr>\n",
       "    <tr>\n",
       "      <th>job_title</th>\n",
       "      <th></th>\n",
       "    </tr>\n",
       "  </thead>\n",
       "  <tbody>\n",
       "    <tr>\n",
       "      <th>Administrator</th>\n",
       "      <td>0.854444</td>\n",
       "    </tr>\n",
       "    <tr>\n",
       "      <th>Architect</th>\n",
       "      <td>0.853405</td>\n",
       "    </tr>\n",
       "    <tr>\n",
       "      <th>Data Position</th>\n",
       "      <td>0.850451</td>\n",
       "    </tr>\n",
       "  </tbody>\n",
       "</table>\n",
       "</div>"
      ],
      "text/plain": [
       "                   mean\n",
       "job_title              \n",
       "Administrator  0.854444\n",
       "Architect      0.853405\n",
       "Data Position  0.850451"
      ]
     },
     "execution_count": 204,
     "metadata": {},
     "output_type": "execute_result"
    }
   ],
   "source": [
    "nolan_scores.groupby('job_title').agg(['mean'])['sim_score'].sort_values('mean', ascending=False).head(3)"
   ]
  },
  {
   "cell_type": "markdown",
   "metadata": {},
   "source": [
    "---\n",
    "**Approach from medium article**  \n",
    "https://medium.com/@armandj.olivares/building-nlp-content-based-recommender-systems-b104a709c042"
   ]
  },
  {
   "cell_type": "code",
   "execution_count": 30,
   "metadata": {},
   "outputs": [],
   "source": [
    "list_docs = []\n",
    "for i in range(len(jobs)):\n",
    "    if jobs['job_description'][i]:\n",
    "        doc = nlp(jobs['job_description'][i])\n",
    "        list_docs.append(doc)"
   ]
  },
  {
   "cell_type": "code",
   "execution_count": 31,
   "metadata": {},
   "outputs": [],
   "source": [
    "def calculate_sim_with_spacy(nlp, df, user_text, n=6):\n",
    "    list_sim = []\n",
    "    doc1 = nlp(\"user_text\")\n",
    "    for i in df.index:\n",
    "        try:\n",
    "            doc2 = list_docs[i]\n",
    "            score = doc1.similarity(doc2)\n",
    "            list_sim.append((doc1, doc2, score))\n",
    "        except:\n",
    "            continue\n",
    "    return list_sim"
   ]
  },
  {
   "cell_type": "markdown",
   "metadata": {},
   "source": [
    "---"
   ]
  },
  {
   "cell_type": "code",
   "execution_count": 36,
   "metadata": {},
   "outputs": [
    {
     "data": {
      "text/plain": [
       "u'If you are an EDI Analyst with experience, please read on!We are a strong, long standing company looking for an EDI Analyst for our team. You must have 3+ years of EDI experience in a TrustedLink for i environment. Your role will work with our finance department identifying trading partners, work closely with external customers and be the EDI liaison across the company. You will also monitor AS2 and VAN communications, correct errors and incoming data.What You Need for this PositionRequirements:3+ years of EDI experience3+ years of TrustedLink for i Experience, iSeries/AS400Experience with VAN and AS2 communicationsWhat's In It for YouWe offer a strong compensation package and benefits!Local Candidates ONLY please.So, if you are an EDI Analyst with experience, please apply today!Applicants must be authorized to work in the U.S.Please apply directly to by clicking 'Click Here to Apply' with your Word resume!Looking forward to receiving your resume and going over the position in more detail with you.- Not a fit for this position? Click the link at the bottom of this email to search all of our open positions.Looking forward to receiving your resume!CyberCodersCyberCoders, Inc is proud to be an Equal Opportunity EmployerAll qualified applicants will receive consideration for employment without regard to race, color, religion, sex, national origin, disability, protected veteran status, or any other characteristic protected by law.Your Right to Work - In compliance with federal law, all persons hired will be required to verify identity and eligibility to work in the United States and to complete the required employment eligibility verification document form upon hire.Copyright  1999 - 2016 . CyberCoders, Inc. All rights reserved.'"
      ]
     },
     "execution_count": 36,
     "metadata": {},
     "output_type": "execute_result"
    }
   ],
   "source": [
    "list_docs[0]"
   ]
  },
  {
   "cell_type": "code",
   "execution_count": 40,
   "metadata": {},
   "outputs": [
    {
     "name": "stderr",
     "output_type": "stream",
     "text": [
      "<ipython-input-31-4bb41cda221f>:7: UserWarning: [W007] The model you're using has no word vectors loaded, so the result of the Doc.similarity method will be based on the tagger, parser and NER, which may not give useful similarity judgements. This may happen if you're using one of the small models, e.g. `en_core_web_sm`, which don't ship with word vectors and only use context-sensitive tensors. You can always add your own word vectors, or use one of the larger models instead if available.\n",
      "  score = doc1.similarity(doc2)\n"
     ]
    }
   ],
   "source": [
    "sim = calculate_sim_with_spacy(nlp, jobs['job_description'], 'java developer')"
   ]
  },
  {
   "cell_type": "code",
   "execution_count": 50,
   "metadata": {},
   "outputs": [],
   "source": [
    "sims = [(s[1],s[2]) for s in sim]"
   ]
  },
  {
   "cell_type": "code",
   "execution_count": 58,
   "metadata": {},
   "outputs": [],
   "source": [
    "df = pd.DataFrame(sims).sort_values(by=1).reset_index(drop=True)"
   ]
  },
  {
   "cell_type": "code",
   "execution_count": 59,
   "metadata": {},
   "outputs": [
    {
     "data": {
      "text/html": [
       "<div>\n",
       "<style scoped>\n",
       "    .dataframe tbody tr th:only-of-type {\n",
       "        vertical-align: middle;\n",
       "    }\n",
       "\n",
       "    .dataframe tbody tr th {\n",
       "        vertical-align: top;\n",
       "    }\n",
       "\n",
       "    .dataframe thead th {\n",
       "        text-align: right;\n",
       "    }\n",
       "</style>\n",
       "<table border=\"1\" class=\"dataframe\">\n",
       "  <thead>\n",
       "    <tr style=\"text-align: right;\">\n",
       "      <th></th>\n",
       "      <th>0</th>\n",
       "      <th>1</th>\n",
       "    </tr>\n",
       "  </thead>\n",
       "  <tbody>\n",
       "    <tr>\n",
       "      <th>0</th>\n",
       "      <td>(u'Please, share, resume, to,  , or, Call, me,...</td>\n",
       "      <td>0.030524</td>\n",
       "    </tr>\n",
       "    <tr>\n",
       "      <th>1</th>\n",
       "      <td>(u'Job, Summary, :, The, Manager, of, Informat...</td>\n",
       "      <td>0.031012</td>\n",
       "    </tr>\n",
       "    <tr>\n",
       "      <th>2</th>\n",
       "      <td>(u'E*Pro, Consulting, service, offerings, incl...</td>\n",
       "      <td>0.062507</td>\n",
       "    </tr>\n",
       "    <tr>\n",
       "      <th>3</th>\n",
       "      <td>(u'Role, :, Team, center, PLM, developerLocati...</td>\n",
       "      <td>0.072988</td>\n",
       "    </tr>\n",
       "    <tr>\n",
       "      <th>4</th>\n",
       "      <td>(u'US, citizens, and, those, authorized, to, w...</td>\n",
       "      <td>0.104845</td>\n",
       "    </tr>\n",
       "  </tbody>\n",
       "</table>\n",
       "</div>"
      ],
      "text/plain": [
       "                                                   0         1\n",
       "0  (u'Please, share, resume, to,  , or, Call, me,...  0.030524\n",
       "1  (u'Job, Summary, :, The, Manager, of, Informat...  0.031012\n",
       "2  (u'E*Pro, Consulting, service, offerings, incl...  0.062507\n",
       "3  (u'Role, :, Team, center, PLM, developerLocati...  0.072988\n",
       "4  (u'US, citizens, and, those, authorized, to, w...  0.104845"
      ]
     },
     "execution_count": 59,
     "metadata": {},
     "output_type": "execute_result"
    }
   ],
   "source": [
    "df.head(5)"
   ]
  },
  {
   "cell_type": "code",
   "execution_count": 79,
   "metadata": {},
   "outputs": [
    {
     "data": {
      "text/html": [
       "<div>\n",
       "<style scoped>\n",
       "    .dataframe tbody tr th:only-of-type {\n",
       "        vertical-align: middle;\n",
       "    }\n",
       "\n",
       "    .dataframe tbody tr th {\n",
       "        vertical-align: top;\n",
       "    }\n",
       "\n",
       "    .dataframe thead th {\n",
       "        text-align: right;\n",
       "    }\n",
       "</style>\n",
       "<table border=\"1\" class=\"dataframe\">\n",
       "  <thead>\n",
       "    <tr style=\"text-align: right;\">\n",
       "      <th></th>\n",
       "      <th>0</th>\n",
       "      <th>1</th>\n",
       "    </tr>\n",
       "  </thead>\n",
       "  <tbody>\n",
       "    <tr>\n",
       "      <th>16255</th>\n",
       "      <td>(u'Software, Architect, 6, MonthsDearborn, ,, ...</td>\n",
       "      <td>0.545974</td>\n",
       "    </tr>\n",
       "    <tr>\n",
       "      <th>16256</th>\n",
       "      <td>(u'PHP, Developer, ')</td>\n",
       "      <td>0.549071</td>\n",
       "    </tr>\n",
       "    <tr>\n",
       "      <th>16257</th>\n",
       "      <td>(u'Liferay, Website, hosted, on, version, 6.2L...</td>\n",
       "      <td>0.550896</td>\n",
       "    </tr>\n",
       "    <tr>\n",
       "      <th>16258</th>\n",
       "      <td>(u'5, years, experience, working, on, Middlewa...</td>\n",
       "      <td>0.573112</td>\n",
       "    </tr>\n",
       "    <tr>\n",
       "      <th>16259</th>\n",
       "      <td>(u'\"MusthavepriorDataconversionexperienceproje...</td>\n",
       "      <td>0.577609</td>\n",
       "    </tr>\n",
       "    <tr>\n",
       "      <th>16260</th>\n",
       "      <td>(u'Network, Storage, Engineer6, monthsAustin, ...</td>\n",
       "      <td>0.579050</td>\n",
       "    </tr>\n",
       "    <tr>\n",
       "      <th>16261</th>\n",
       "      <td>(u'SR, Android, Developer, ')</td>\n",
       "      <td>0.601328</td>\n",
       "    </tr>\n",
       "    <tr>\n",
       "      <th>16262</th>\n",
       "      <td>(u'Java, and, Liferay, ')</td>\n",
       "      <td>0.622916</td>\n",
       "    </tr>\n",
       "    <tr>\n",
       "      <th>16263</th>\n",
       "      <td>(u'systems, engineer, RF, communica, Design, t...</td>\n",
       "      <td>0.690385</td>\n",
       "    </tr>\n",
       "    <tr>\n",
       "      <th>16264</th>\n",
       "      <td>(u'Java, planner, ')</td>\n",
       "      <td>0.750848</td>\n",
       "    </tr>\n",
       "  </tbody>\n",
       "</table>\n",
       "</div>"
      ],
      "text/plain": [
       "                                                       0         1\n",
       "16255  (u'Software, Architect, 6, MonthsDearborn, ,, ...  0.545974\n",
       "16256                              (u'PHP, Developer, ')  0.549071\n",
       "16257  (u'Liferay, Website, hosted, on, version, 6.2L...  0.550896\n",
       "16258  (u'5, years, experience, working, on, Middlewa...  0.573112\n",
       "16259  (u'\"MusthavepriorDataconversionexperienceproje...  0.577609\n",
       "16260  (u'Network, Storage, Engineer6, monthsAustin, ...  0.579050\n",
       "16261                      (u'SR, Android, Developer, ')  0.601328\n",
       "16262                          (u'Java, and, Liferay, ')  0.622916\n",
       "16263  (u'systems, engineer, RF, communica, Design, t...  0.690385\n",
       "16264                               (u'Java, planner, ')  0.750848"
      ]
     },
     "execution_count": 79,
     "metadata": {},
     "output_type": "execute_result"
    }
   ],
   "source": [
    "df.tail(10)"
   ]
  },
  {
   "cell_type": "code",
   "execution_count": null,
   "metadata": {},
   "outputs": [],
   "source": []
  }
 ],
 "metadata": {
  "kernelspec": {
   "display_name": "Python 3",
   "language": "python",
   "name": "python3"
  },
  "language_info": {
   "codemirror_mode": {
    "name": "ipython",
    "version": 3
   },
   "file_extension": ".py",
   "mimetype": "text/x-python",
   "name": "python",
   "nbconvert_exporter": "python",
   "pygments_lexer": "ipython3",
   "version": "3.8.5"
  }
 },
 "nbformat": 4,
 "nbformat_minor": 4
}
