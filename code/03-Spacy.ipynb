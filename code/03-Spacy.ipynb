{
 "cells": [
  {
   "cell_type": "markdown",
   "metadata": {},
   "source": [
    "# SpaCy"
   ]
  },
  {
   "source": [
    "### Overview\n",
    "Here we use a pre-trained model from the SpaCy package (\"en_core_web_lg\") to build a recommender system. The SpaCy model is able to process word context, meaning, and sentence structure when calculating similarity scores. SpaCy allows for a deeper analysis into each body of text as compared to the CountVectorizer, Tf-Idf Vectorizer and KNN models. We had high expectations for this model, however as you will see, the model fails to make accurate recommendations in this project."
   ],
   "cell_type": "markdown",
   "metadata": {}
  },
  {
   "cell_type": "code",
   "execution_count": 9,
   "metadata": {},
   "outputs": [],
   "source": [
    "import pandas as pd\n",
    "import numpy as np\n",
    "import re\n",
    "from sklearn.feature_extraction.text import TfidfVectorizer\n",
    "from sklearn.metrics.pairwise import linear_kernel\n",
    "import spacy\n",
    "from IPython.display import display_html\n",
    "from sklearn.feature_extraction import text"
   ]
  },
  {
   "cell_type": "markdown",
   "metadata": {},
   "source": [
    "---"
   ]
  },
  {
   "cell_type": "code",
   "execution_count": 3,
   "metadata": {},
   "outputs": [],
   "source": [
    "jobs = pd.read_csv('../data/job_postings.csv')\n",
    "jobs = jobs.drop(columns=['date_added', 'organization', 'skills_len', 'job_type'])"
   ]
  },
  {
   "cell_type": "code",
   "execution_count": 43,
   "metadata": {},
   "outputs": [
    {
     "data": {
      "text/plain": [
       "array(['Analyst', 'Developer', 'Manager', 'Administrator', 'Support',\n",
       "       'Technician', 'Consulting', 'Engineer', 'Architect', 'Designer',\n",
       "       'Programmer', 'Data Position', 'Director'], dtype=object)"
      ]
     },
     "execution_count": 43,
     "metadata": {},
     "output_type": "execute_result"
    }
   ],
   "source": [
    "jobs['job_title'].unique()"
   ]
  },
  {
   "cell_type": "code",
   "execution_count": 4,
   "metadata": {},
   "outputs": [
    {
     "data": {
      "text/html": [
       "<div>\n",
       "<style scoped>\n",
       "    .dataframe tbody tr th:only-of-type {\n",
       "        vertical-align: middle;\n",
       "    }\n",
       "\n",
       "    .dataframe tbody tr th {\n",
       "        vertical-align: top;\n",
       "    }\n",
       "\n",
       "    .dataframe thead th {\n",
       "        text-align: right;\n",
       "    }\n",
       "</style>\n",
       "<table border=\"1\" class=\"dataframe\">\n",
       "  <thead>\n",
       "    <tr style=\"text-align: right;\">\n",
       "      <th></th>\n",
       "      <th>job_description</th>\n",
       "      <th>job_title</th>\n",
       "      <th>location</th>\n",
       "      <th>skills</th>\n",
       "    </tr>\n",
       "  </thead>\n",
       "  <tbody>\n",
       "    <tr>\n",
       "      <th>0</th>\n",
       "      <td>n edi analyst with experience please read on ...</td>\n",
       "      <td>Analyst</td>\n",
       "      <td>Northeast United States</td>\n",
       "      <td>edi trustedlink as van</td>\n",
       "    </tr>\n",
       "    <tr>\n",
       "      <th>1</th>\n",
       "      <td>informatica etl developerst petersburg fl only...</td>\n",
       "      <td>Developer</td>\n",
       "      <td>Southern United States</td>\n",
       "      <td>etl informatica b data exchange netezza oracle...</td>\n",
       "    </tr>\n",
       "    <tr>\n",
       "      <th>2</th>\n",
       "      <td>this nationally recognized microsoft gold part...</td>\n",
       "      <td>Manager</td>\n",
       "      <td>Western United States</td>\n",
       "      <td>microsoft dynamics ax project manager - toront...</td>\n",
       "    </tr>\n",
       "    <tr>\n",
       "      <th>3</th>\n",
       "      <td>.net developer with experience please read on...</td>\n",
       "      <td>Developer</td>\n",
       "      <td>Northeast United States</td>\n",
       "      <td>c asp.net sql javascript mvc</td>\n",
       "    </tr>\n",
       "    <tr>\n",
       "      <th>4</th>\n",
       "      <td>hatstand a global financial consultancy is see...</td>\n",
       "      <td>Developer</td>\n",
       "      <td>Northeast United States</td>\n",
       "      <td>java linux unix sdlc; multi-threaded or concur...</td>\n",
       "    </tr>\n",
       "  </tbody>\n",
       "</table>\n",
       "</div>"
      ],
      "text/plain": [
       "                                     job_description  job_title  \\\n",
       "0   n edi analyst with experience please read on ...    Analyst   \n",
       "1  informatica etl developerst petersburg fl only...  Developer   \n",
       "2  this nationally recognized microsoft gold part...    Manager   \n",
       "3   .net developer with experience please read on...  Developer   \n",
       "4  hatstand a global financial consultancy is see...  Developer   \n",
       "\n",
       "                  location                                             skills  \n",
       "0  Northeast United States                             edi trustedlink as van  \n",
       "1   Southern United States  etl informatica b data exchange netezza oracle...  \n",
       "2    Western United States  microsoft dynamics ax project manager - toront...  \n",
       "3  Northeast United States                       c asp.net sql javascript mvc  \n",
       "4  Northeast United States  java linux unix sdlc; multi-threaded or concur...  "
      ]
     },
     "execution_count": 4,
     "metadata": {},
     "output_type": "execute_result"
    }
   ],
   "source": [
    "jobs.head(5)"
   ]
  },
  {
   "cell_type": "code",
   "execution_count": 5,
   "metadata": {},
   "outputs": [
    {
     "data": {
      "text/plain": [
       "job_description      0\n",
       "job_title            0\n",
       "location             0\n",
       "skills             170\n",
       "dtype: int64"
      ]
     },
     "execution_count": 5,
     "metadata": {},
     "output_type": "execute_result"
    }
   ],
   "source": [
    "jobs.isna().sum()"
   ]
  },
  {
   "cell_type": "code",
   "execution_count": 6,
   "metadata": {},
   "outputs": [],
   "source": [
    "# Replace nan's with empty string\n",
    "jobs.fillna('', inplace=True)"
   ]
  },
  {
   "cell_type": "code",
   "execution_count": 7,
   "metadata": {},
   "outputs": [],
   "source": [
    "# Combine job description and text into a single column\n",
    "jobs['text'] = jobs['job_description'] + ' ' + jobs['skills']"
   ]
  },
  {
   "cell_type": "code",
   "execution_count": 22,
   "metadata": {},
   "outputs": [],
   "source": [
    "def remove_stopwords(lst):\n",
    "    for word in lst:\n",
    "        if word in text.ENGLISH_STOP_WORDS:\n",
    "            lst.remove(word)\n",
    "    return lst"
   ]
  },
  {
   "cell_type": "code",
   "execution_count": 31,
   "metadata": {},
   "outputs": [],
   "source": [
    "text_split = jobs['text'].map(lambda x: x.split())\n",
    "text_split_no_stopwords = text_split.map(remove_stopwords)\n",
    "text_no_stopwords = text_split_no_stopwords.map(lambda x: ' '.join(x))"
   ]
  },
  {
   "cell_type": "code",
   "execution_count": 32,
   "metadata": {},
   "outputs": [],
   "source": [
    "jobs['text'] = text_no_stopwords"
   ]
  },
  {
   "cell_type": "markdown",
   "metadata": {},
   "source": [
    "# Spacy\n",
    "https://spacy.io/usage/spacy-101"
   ]
  },
  {
   "cell_type": "code",
   "execution_count": 15,
   "metadata": {},
   "outputs": [],
   "source": [
    "# Load one of the larger models for a better similarity score\n",
    "nlp = spacy.load(\"en_core_web_lg\")"
   ]
  },
  {
   "cell_type": "code",
   "execution_count": 33,
   "metadata": {},
   "outputs": [],
   "source": [
    "# Create spacy documents for each job post\n",
    "titles_and_docs = jobs[['job_title']].copy()\n",
    "titles_and_docs['doc'] = jobs['text'].map(nlp)"
   ]
  },
  {
   "cell_type": "code",
   "execution_count": 34,
   "metadata": {},
   "outputs": [
    {
     "data": {
      "text/html": [
       "<div>\n",
       "<style scoped>\n",
       "    .dataframe tbody tr th:only-of-type {\n",
       "        vertical-align: middle;\n",
       "    }\n",
       "\n",
       "    .dataframe tbody tr th {\n",
       "        vertical-align: top;\n",
       "    }\n",
       "\n",
       "    .dataframe thead th {\n",
       "        text-align: right;\n",
       "    }\n",
       "</style>\n",
       "<table border=\"1\" class=\"dataframe\">\n",
       "  <thead>\n",
       "    <tr style=\"text-align: right;\">\n",
       "      <th></th>\n",
       "      <th>job_title</th>\n",
       "      <th>doc</th>\n",
       "    </tr>\n",
       "  </thead>\n",
       "  <tbody>\n",
       "    <tr>\n",
       "      <th>0</th>\n",
       "      <td>Analyst</td>\n",
       "      <td>(n, edi, analyst, experience, read, we, strong...</td>\n",
       "    </tr>\n",
       "    <tr>\n",
       "      <th>1</th>\n",
       "      <td>Developer</td>\n",
       "      <td>(informatica, etl, developerst, petersburg, fl...</td>\n",
       "    </tr>\n",
       "    <tr>\n",
       "      <th>2</th>\n",
       "      <td>Manager</td>\n",
       "      <td>(nationally, recognized, microsoft, gold, part...</td>\n",
       "    </tr>\n",
       "    <tr>\n",
       "      <th>3</th>\n",
       "      <td>Developer</td>\n",
       "      <td>(.net, developer, experience, read, what, will...</td>\n",
       "    </tr>\n",
       "    <tr>\n",
       "      <th>4</th>\n",
       "      <td>Developer</td>\n",
       "      <td>(hatstand, global, financial, consultancy, see...</td>\n",
       "    </tr>\n",
       "    <tr>\n",
       "      <th>...</th>\n",
       "      <td>...</td>\n",
       "      <td>...</td>\n",
       "    </tr>\n",
       "    <tr>\n",
       "      <th>16427</th>\n",
       "      <td>Developer</td>\n",
       "      <td>(jpmorgan, chase, co., (, nyse, :, jpm, ), lea...</td>\n",
       "    </tr>\n",
       "    <tr>\n",
       "      <th>16428</th>\n",
       "      <td>Administrator</td>\n",
       "      <td>(seeking, jr, ., systems, administrators, expe...</td>\n",
       "    </tr>\n",
       "    <tr>\n",
       "      <th>16429</th>\n",
       "      <td>Developer</td>\n",
       "      <td>(senior, lead, devops, engineer, desired, set,...</td>\n",
       "    </tr>\n",
       "    <tr>\n",
       "      <th>16430</th>\n",
       "      <td>Developer</td>\n",
       "      <td>(headquartered, downtown, san, francisco, ca, ...</td>\n",
       "    </tr>\n",
       "    <tr>\n",
       "      <th>16431</th>\n",
       "      <td>Engineer</td>\n",
       "      <td>(n, appsec, hardware, security, engineer, has,...</td>\n",
       "    </tr>\n",
       "  </tbody>\n",
       "</table>\n",
       "<p>16432 rows × 2 columns</p>\n",
       "</div>"
      ],
      "text/plain": [
       "           job_title                                                doc\n",
       "0            Analyst  (n, edi, analyst, experience, read, we, strong...\n",
       "1          Developer  (informatica, etl, developerst, petersburg, fl...\n",
       "2            Manager  (nationally, recognized, microsoft, gold, part...\n",
       "3          Developer  (.net, developer, experience, read, what, will...\n",
       "4          Developer  (hatstand, global, financial, consultancy, see...\n",
       "...              ...                                                ...\n",
       "16427      Developer  (jpmorgan, chase, co., (, nyse, :, jpm, ), lea...\n",
       "16428  Administrator  (seeking, jr, ., systems, administrators, expe...\n",
       "16429      Developer  (senior, lead, devops, engineer, desired, set,...\n",
       "16430      Developer  (headquartered, downtown, san, francisco, ca, ...\n",
       "16431       Engineer  (n, appsec, hardware, security, engineer, has,...\n",
       "\n",
       "[16432 rows x 2 columns]"
      ]
     },
     "execution_count": 34,
     "metadata": {},
     "output_type": "execute_result"
    }
   ],
   "source": [
    "titles_and_docs"
   ]
  },
  {
   "cell_type": "code",
   "execution_count": 35,
   "metadata": {},
   "outputs": [],
   "source": [
    "def gather_profile_data(file_path):\n",
    "    profile_data = pd.read_csv(file_path)\n",
    "    profile_data['text'] = profile_data['Titles'] + ' ' \\\n",
    "                            + profile_data['Skills'] + ' ' \\\n",
    "                            + profile_data['Summary'] + ' ' \\\n",
    "                            + profile_data['Education']\n",
    "    try: profile_data['text'] += ' ' + profile_data['Certifications']\n",
    "    except: pass\n",
    "    \n",
    "    try: profile_data['text'] += ' ' + profile_data['Projects']\n",
    "    except: pass\n",
    "    \n",
    "    return profile_data"
   ]
  },
  {
   "cell_type": "code",
   "execution_count": 36,
   "metadata": {},
   "outputs": [],
   "source": [
    "def get_recommendations(profile_data):\n",
    "    # Create nlp doc from profile\n",
    "    profile_text = profile_data['text'][0]\n",
    "    profile_doc = nlp(profile_text)\n",
    "    \n",
    "    # Calculate scores\n",
    "    scores = jobs[['job_title']].copy()\n",
    "    scores['sim_score'] = titles_and_docs['doc'].map(lambda x: x.similarity(profile_doc))\n",
    "    \n",
    "    return scores"
   ]
  },
  {
   "cell_type": "code",
   "execution_count": 37,
   "metadata": {},
   "outputs": [],
   "source": [
    "# Reading in linkedin profile data.\n",
    "profile_data_zach = gather_profile_data('../data/linkedin/test-output/Zach_LinkedInData_12-16-2020.csv')\n",
    "profile_data_nolan = gather_profile_data('../data/linkedin/test-output/Nolan_LinkedInData_12-16-2020.csv')\n",
    "profile_data_albert = gather_profile_data('../data/linkedin/test-output/Albert_LinkedInData.csv')\n",
    "profile_data_ye = gather_profile_data('../data/linkedin/test-output/Ye_LinkedInData.csv')"
   ]
  },
  {
   "cell_type": "code",
   "execution_count": 38,
   "metadata": {},
   "outputs": [
    {
     "name": "stdout",
     "output_type": "stream",
     "text": [
      "Zach: 933\n",
      "Nolan: 1432\n",
      "Albert: 3426\n",
      "Ye: 1255\n"
     ]
    }
   ],
   "source": [
    "# How much text is in each of our profiles?\n",
    "print('Zach:', len(profile_data_zach['text'][0]))\n",
    "print('Nolan:', len(profile_data_nolan['text'][0]))\n",
    "print('Albert:', len(profile_data_albert['text'][0]))\n",
    "print('Ye:', len(profile_data_ye['text'][0]))"
   ]
  },
  {
   "cell_type": "code",
   "execution_count": 39,
   "metadata": {},
   "outputs": [],
   "source": [
    "# Calculate scores\n",
    "zach_scores = get_recommendations(profile_data_zach)\n",
    "nolan_scores = get_recommendations(profile_data_nolan)\n",
    "albert_scores = get_recommendations(profile_data_albert)\n",
    "ye_scores = get_recommendations(profile_data_ye)"
   ]
  },
  {
   "cell_type": "code",
   "execution_count": 40,
   "metadata": {},
   "outputs": [],
   "source": [
    "# Group by job title\n",
    "zachs_recommendations = zach_scores.groupby('job_title').mean().sort_values('sim_score', ascending=False)\n",
    "nolans_recommendations = nolan_scores.groupby('job_title').mean().sort_values('sim_score', ascending=False)\n",
    "alberts_recommendations = albert_scores.groupby('job_title').mean().sort_values('sim_score', ascending=False)\n",
    "yes_recommendations = ye_scores.groupby('job_title').mean().sort_values('sim_score', ascending=False)"
   ]
  },
  {
   "cell_type": "code",
   "execution_count": 41,
   "metadata": {},
   "outputs": [
    {
     "data": {
      "text/html": [
       "<style  type=\"text/css\" >\n",
       "</style><table id=\"T_97f58868_43f1_11eb_ba23_a4d18cca390a\" style='display:inline'><caption>Zach</caption><thead>    <tr>        <th class=\"blank level0\" ></th>        <th class=\"col_heading level0 col0\" >sim_score</th>    </tr>    <tr>        <th class=\"index_name level0\" >job_title</th>        <th class=\"blank\" ></th>    </tr></thead><tbody>\n",
       "                <tr>\n",
       "                        <th id=\"T_97f58868_43f1_11eb_ba23_a4d18cca390alevel0_row0\" class=\"row_heading level0 row0\" >Analyst</th>\n",
       "                        <td id=\"T_97f58868_43f1_11eb_ba23_a4d18cca390arow0_col0\" class=\"data row0 col0\" >0.915819</td>\n",
       "            </tr>\n",
       "            <tr>\n",
       "                        <th id=\"T_97f58868_43f1_11eb_ba23_a4d18cca390alevel0_row1\" class=\"row_heading level0 row1\" >Data Position</th>\n",
       "                        <td id=\"T_97f58868_43f1_11eb_ba23_a4d18cca390arow1_col0\" class=\"data row1 col0\" >0.915598</td>\n",
       "            </tr>\n",
       "            <tr>\n",
       "                        <th id=\"T_97f58868_43f1_11eb_ba23_a4d18cca390alevel0_row2\" class=\"row_heading level0 row2\" >Engineer</th>\n",
       "                        <td id=\"T_97f58868_43f1_11eb_ba23_a4d18cca390arow2_col0\" class=\"data row2 col0\" >0.912122</td>\n",
       "            </tr>\n",
       "            <tr>\n",
       "                        <th id=\"T_97f58868_43f1_11eb_ba23_a4d18cca390alevel0_row3\" class=\"row_heading level0 row3\" >Director</th>\n",
       "                        <td id=\"T_97f58868_43f1_11eb_ba23_a4d18cca390arow3_col0\" class=\"data row3 col0\" >0.910046</td>\n",
       "            </tr>\n",
       "            <tr>\n",
       "                        <th id=\"T_97f58868_43f1_11eb_ba23_a4d18cca390alevel0_row4\" class=\"row_heading level0 row4\" >Programmer</th>\n",
       "                        <td id=\"T_97f58868_43f1_11eb_ba23_a4d18cca390arow4_col0\" class=\"data row4 col0\" >0.908521</td>\n",
       "            </tr>\n",
       "            <tr>\n",
       "                        <th id=\"T_97f58868_43f1_11eb_ba23_a4d18cca390alevel0_row5\" class=\"row_heading level0 row5\" >Architect</th>\n",
       "                        <td id=\"T_97f58868_43f1_11eb_ba23_a4d18cca390arow5_col0\" class=\"data row5 col0\" >0.908135</td>\n",
       "            </tr>\n",
       "            <tr>\n",
       "                        <th id=\"T_97f58868_43f1_11eb_ba23_a4d18cca390alevel0_row6\" class=\"row_heading level0 row6\" >Manager</th>\n",
       "                        <td id=\"T_97f58868_43f1_11eb_ba23_a4d18cca390arow6_col0\" class=\"data row6 col0\" >0.908016</td>\n",
       "            </tr>\n",
       "            <tr>\n",
       "                        <th id=\"T_97f58868_43f1_11eb_ba23_a4d18cca390alevel0_row7\" class=\"row_heading level0 row7\" >Developer</th>\n",
       "                        <td id=\"T_97f58868_43f1_11eb_ba23_a4d18cca390arow7_col0\" class=\"data row7 col0\" >0.907839</td>\n",
       "            </tr>\n",
       "            <tr>\n",
       "                        <th id=\"T_97f58868_43f1_11eb_ba23_a4d18cca390alevel0_row8\" class=\"row_heading level0 row8\" >Support</th>\n",
       "                        <td id=\"T_97f58868_43f1_11eb_ba23_a4d18cca390arow8_col0\" class=\"data row8 col0\" >0.907560</td>\n",
       "            </tr>\n",
       "            <tr>\n",
       "                        <th id=\"T_97f58868_43f1_11eb_ba23_a4d18cca390alevel0_row9\" class=\"row_heading level0 row9\" >Technician</th>\n",
       "                        <td id=\"T_97f58868_43f1_11eb_ba23_a4d18cca390arow9_col0\" class=\"data row9 col0\" >0.901770</td>\n",
       "            </tr>\n",
       "            <tr>\n",
       "                        <th id=\"T_97f58868_43f1_11eb_ba23_a4d18cca390alevel0_row10\" class=\"row_heading level0 row10\" >Administrator</th>\n",
       "                        <td id=\"T_97f58868_43f1_11eb_ba23_a4d18cca390arow10_col0\" class=\"data row10 col0\" >0.900899</td>\n",
       "            </tr>\n",
       "            <tr>\n",
       "                        <th id=\"T_97f58868_43f1_11eb_ba23_a4d18cca390alevel0_row11\" class=\"row_heading level0 row11\" >Designer</th>\n",
       "                        <td id=\"T_97f58868_43f1_11eb_ba23_a4d18cca390arow11_col0\" class=\"data row11 col0\" >0.899982</td>\n",
       "            </tr>\n",
       "            <tr>\n",
       "                        <th id=\"T_97f58868_43f1_11eb_ba23_a4d18cca390alevel0_row12\" class=\"row_heading level0 row12\" >Consulting</th>\n",
       "                        <td id=\"T_97f58868_43f1_11eb_ba23_a4d18cca390arow12_col0\" class=\"data row12 col0\" >0.890338</td>\n",
       "            </tr>\n",
       "    </tbody></table>     <style  type=\"text/css\" >\n",
       "</style><table id=\"T_97f64fb4_43f1_11eb_ba23_a4d18cca390a\" style='display:inline'><caption>Nolan</caption><thead>    <tr>        <th class=\"blank level0\" ></th>        <th class=\"col_heading level0 col0\" >sim_score</th>    </tr>    <tr>        <th class=\"index_name level0\" >job_title</th>        <th class=\"blank\" ></th>    </tr></thead><tbody>\n",
       "                <tr>\n",
       "                        <th id=\"T_97f64fb4_43f1_11eb_ba23_a4d18cca390alevel0_row0\" class=\"row_heading level0 row0\" >Developer</th>\n",
       "                        <td id=\"T_97f64fb4_43f1_11eb_ba23_a4d18cca390arow0_col0\" class=\"data row0 col0\" >0.861498</td>\n",
       "            </tr>\n",
       "            <tr>\n",
       "                        <th id=\"T_97f64fb4_43f1_11eb_ba23_a4d18cca390alevel0_row1\" class=\"row_heading level0 row1\" >Programmer</th>\n",
       "                        <td id=\"T_97f64fb4_43f1_11eb_ba23_a4d18cca390arow1_col0\" class=\"data row1 col0\" >0.860427</td>\n",
       "            </tr>\n",
       "            <tr>\n",
       "                        <th id=\"T_97f64fb4_43f1_11eb_ba23_a4d18cca390alevel0_row2\" class=\"row_heading level0 row2\" >Architect</th>\n",
       "                        <td id=\"T_97f64fb4_43f1_11eb_ba23_a4d18cca390arow2_col0\" class=\"data row2 col0\" >0.859831</td>\n",
       "            </tr>\n",
       "            <tr>\n",
       "                        <th id=\"T_97f64fb4_43f1_11eb_ba23_a4d18cca390alevel0_row3\" class=\"row_heading level0 row3\" >Data Position</th>\n",
       "                        <td id=\"T_97f64fb4_43f1_11eb_ba23_a4d18cca390arow3_col0\" class=\"data row3 col0\" >0.856976</td>\n",
       "            </tr>\n",
       "            <tr>\n",
       "                        <th id=\"T_97f64fb4_43f1_11eb_ba23_a4d18cca390alevel0_row4\" class=\"row_heading level0 row4\" >Administrator</th>\n",
       "                        <td id=\"T_97f64fb4_43f1_11eb_ba23_a4d18cca390arow4_col0\" class=\"data row4 col0\" >0.855542</td>\n",
       "            </tr>\n",
       "            <tr>\n",
       "                        <th id=\"T_97f64fb4_43f1_11eb_ba23_a4d18cca390alevel0_row5\" class=\"row_heading level0 row5\" >Engineer</th>\n",
       "                        <td id=\"T_97f64fb4_43f1_11eb_ba23_a4d18cca390arow5_col0\" class=\"data row5 col0\" >0.851969</td>\n",
       "            </tr>\n",
       "            <tr>\n",
       "                        <th id=\"T_97f64fb4_43f1_11eb_ba23_a4d18cca390alevel0_row6\" class=\"row_heading level0 row6\" >Analyst</th>\n",
       "                        <td id=\"T_97f64fb4_43f1_11eb_ba23_a4d18cca390arow6_col0\" class=\"data row6 col0\" >0.849719</td>\n",
       "            </tr>\n",
       "            <tr>\n",
       "                        <th id=\"T_97f64fb4_43f1_11eb_ba23_a4d18cca390alevel0_row7\" class=\"row_heading level0 row7\" >Consulting</th>\n",
       "                        <td id=\"T_97f64fb4_43f1_11eb_ba23_a4d18cca390arow7_col0\" class=\"data row7 col0\" >0.845425</td>\n",
       "            </tr>\n",
       "            <tr>\n",
       "                        <th id=\"T_97f64fb4_43f1_11eb_ba23_a4d18cca390alevel0_row8\" class=\"row_heading level0 row8\" >Designer</th>\n",
       "                        <td id=\"T_97f64fb4_43f1_11eb_ba23_a4d18cca390arow8_col0\" class=\"data row8 col0\" >0.843528</td>\n",
       "            </tr>\n",
       "            <tr>\n",
       "                        <th id=\"T_97f64fb4_43f1_11eb_ba23_a4d18cca390alevel0_row9\" class=\"row_heading level0 row9\" >Support</th>\n",
       "                        <td id=\"T_97f64fb4_43f1_11eb_ba23_a4d18cca390arow9_col0\" class=\"data row9 col0\" >0.837432</td>\n",
       "            </tr>\n",
       "            <tr>\n",
       "                        <th id=\"T_97f64fb4_43f1_11eb_ba23_a4d18cca390alevel0_row10\" class=\"row_heading level0 row10\" >Director</th>\n",
       "                        <td id=\"T_97f64fb4_43f1_11eb_ba23_a4d18cca390arow10_col0\" class=\"data row10 col0\" >0.834800</td>\n",
       "            </tr>\n",
       "            <tr>\n",
       "                        <th id=\"T_97f64fb4_43f1_11eb_ba23_a4d18cca390alevel0_row11\" class=\"row_heading level0 row11\" >Manager</th>\n",
       "                        <td id=\"T_97f64fb4_43f1_11eb_ba23_a4d18cca390arow11_col0\" class=\"data row11 col0\" >0.833859</td>\n",
       "            </tr>\n",
       "            <tr>\n",
       "                        <th id=\"T_97f64fb4_43f1_11eb_ba23_a4d18cca390alevel0_row12\" class=\"row_heading level0 row12\" >Technician</th>\n",
       "                        <td id=\"T_97f64fb4_43f1_11eb_ba23_a4d18cca390arow12_col0\" class=\"data row12 col0\" >0.820651</td>\n",
       "            </tr>\n",
       "    </tbody></table>     <style  type=\"text/css\" >\n",
       "</style><table id=\"T_97f69226_43f1_11eb_ba23_a4d18cca390a\" style='display:inline'><caption>Albert</caption><thead>    <tr>        <th class=\"blank level0\" ></th>        <th class=\"col_heading level0 col0\" >sim_score</th>    </tr>    <tr>        <th class=\"index_name level0\" >job_title</th>        <th class=\"blank\" ></th>    </tr></thead><tbody>\n",
       "                <tr>\n",
       "                        <th id=\"T_97f69226_43f1_11eb_ba23_a4d18cca390alevel0_row0\" class=\"row_heading level0 row0\" >Director</th>\n",
       "                        <td id=\"T_97f69226_43f1_11eb_ba23_a4d18cca390arow0_col0\" class=\"data row0 col0\" >0.914719</td>\n",
       "            </tr>\n",
       "            <tr>\n",
       "                        <th id=\"T_97f69226_43f1_11eb_ba23_a4d18cca390alevel0_row1\" class=\"row_heading level0 row1\" >Manager</th>\n",
       "                        <td id=\"T_97f69226_43f1_11eb_ba23_a4d18cca390arow1_col0\" class=\"data row1 col0\" >0.912253</td>\n",
       "            </tr>\n",
       "            <tr>\n",
       "                        <th id=\"T_97f69226_43f1_11eb_ba23_a4d18cca390alevel0_row2\" class=\"row_heading level0 row2\" >Analyst</th>\n",
       "                        <td id=\"T_97f69226_43f1_11eb_ba23_a4d18cca390arow2_col0\" class=\"data row2 col0\" >0.910727</td>\n",
       "            </tr>\n",
       "            <tr>\n",
       "                        <th id=\"T_97f69226_43f1_11eb_ba23_a4d18cca390alevel0_row3\" class=\"row_heading level0 row3\" >Technician</th>\n",
       "                        <td id=\"T_97f69226_43f1_11eb_ba23_a4d18cca390arow3_col0\" class=\"data row3 col0\" >0.909855</td>\n",
       "            </tr>\n",
       "            <tr>\n",
       "                        <th id=\"T_97f69226_43f1_11eb_ba23_a4d18cca390alevel0_row4\" class=\"row_heading level0 row4\" >Support</th>\n",
       "                        <td id=\"T_97f69226_43f1_11eb_ba23_a4d18cca390arow4_col0\" class=\"data row4 col0\" >0.909721</td>\n",
       "            </tr>\n",
       "            <tr>\n",
       "                        <th id=\"T_97f69226_43f1_11eb_ba23_a4d18cca390alevel0_row5\" class=\"row_heading level0 row5\" >Designer</th>\n",
       "                        <td id=\"T_97f69226_43f1_11eb_ba23_a4d18cca390arow5_col0\" class=\"data row5 col0\" >0.908678</td>\n",
       "            </tr>\n",
       "            <tr>\n",
       "                        <th id=\"T_97f69226_43f1_11eb_ba23_a4d18cca390alevel0_row6\" class=\"row_heading level0 row6\" >Engineer</th>\n",
       "                        <td id=\"T_97f69226_43f1_11eb_ba23_a4d18cca390arow6_col0\" class=\"data row6 col0\" >0.908100</td>\n",
       "            </tr>\n",
       "            <tr>\n",
       "                        <th id=\"T_97f69226_43f1_11eb_ba23_a4d18cca390alevel0_row7\" class=\"row_heading level0 row7\" >Data Position</th>\n",
       "                        <td id=\"T_97f69226_43f1_11eb_ba23_a4d18cca390arow7_col0\" class=\"data row7 col0\" >0.906248</td>\n",
       "            </tr>\n",
       "            <tr>\n",
       "                        <th id=\"T_97f69226_43f1_11eb_ba23_a4d18cca390alevel0_row8\" class=\"row_heading level0 row8\" >Programmer</th>\n",
       "                        <td id=\"T_97f69226_43f1_11eb_ba23_a4d18cca390arow8_col0\" class=\"data row8 col0\" >0.900293</td>\n",
       "            </tr>\n",
       "            <tr>\n",
       "                        <th id=\"T_97f69226_43f1_11eb_ba23_a4d18cca390alevel0_row9\" class=\"row_heading level0 row9\" >Developer</th>\n",
       "                        <td id=\"T_97f69226_43f1_11eb_ba23_a4d18cca390arow9_col0\" class=\"data row9 col0\" >0.899605</td>\n",
       "            </tr>\n",
       "            <tr>\n",
       "                        <th id=\"T_97f69226_43f1_11eb_ba23_a4d18cca390alevel0_row10\" class=\"row_heading level0 row10\" >Architect</th>\n",
       "                        <td id=\"T_97f69226_43f1_11eb_ba23_a4d18cca390arow10_col0\" class=\"data row10 col0\" >0.895463</td>\n",
       "            </tr>\n",
       "            <tr>\n",
       "                        <th id=\"T_97f69226_43f1_11eb_ba23_a4d18cca390alevel0_row11\" class=\"row_heading level0 row11\" >Administrator</th>\n",
       "                        <td id=\"T_97f69226_43f1_11eb_ba23_a4d18cca390arow11_col0\" class=\"data row11 col0\" >0.883164</td>\n",
       "            </tr>\n",
       "            <tr>\n",
       "                        <th id=\"T_97f69226_43f1_11eb_ba23_a4d18cca390alevel0_row12\" class=\"row_heading level0 row12\" >Consulting</th>\n",
       "                        <td id=\"T_97f69226_43f1_11eb_ba23_a4d18cca390arow12_col0\" class=\"data row12 col0\" >0.878136</td>\n",
       "            </tr>\n",
       "    </tbody></table>     <style  type=\"text/css\" >\n",
       "</style><table id=\"T_97f6d9b6_43f1_11eb_ba23_a4d18cca390a\" style='display:inline'><caption>Ye</caption><thead>    <tr>        <th class=\"blank level0\" ></th>        <th class=\"col_heading level0 col0\" >sim_score</th>    </tr>    <tr>        <th class=\"index_name level0\" >job_title</th>        <th class=\"blank\" ></th>    </tr></thead><tbody>\n",
       "                <tr>\n",
       "                        <th id=\"T_97f6d9b6_43f1_11eb_ba23_a4d18cca390alevel0_row0\" class=\"row_heading level0 row0\" >Director</th>\n",
       "                        <td id=\"T_97f6d9b6_43f1_11eb_ba23_a4d18cca390arow0_col0\" class=\"data row0 col0\" >0.853864</td>\n",
       "            </tr>\n",
       "            <tr>\n",
       "                        <th id=\"T_97f6d9b6_43f1_11eb_ba23_a4d18cca390alevel0_row1\" class=\"row_heading level0 row1\" >Manager</th>\n",
       "                        <td id=\"T_97f6d9b6_43f1_11eb_ba23_a4d18cca390arow1_col0\" class=\"data row1 col0\" >0.852047</td>\n",
       "            </tr>\n",
       "            <tr>\n",
       "                        <th id=\"T_97f6d9b6_43f1_11eb_ba23_a4d18cca390alevel0_row2\" class=\"row_heading level0 row2\" >Analyst</th>\n",
       "                        <td id=\"T_97f6d9b6_43f1_11eb_ba23_a4d18cca390arow2_col0\" class=\"data row2 col0\" >0.848565</td>\n",
       "            </tr>\n",
       "            <tr>\n",
       "                        <th id=\"T_97f6d9b6_43f1_11eb_ba23_a4d18cca390alevel0_row3\" class=\"row_heading level0 row3\" >Technician</th>\n",
       "                        <td id=\"T_97f6d9b6_43f1_11eb_ba23_a4d18cca390arow3_col0\" class=\"data row3 col0\" >0.844154</td>\n",
       "            </tr>\n",
       "            <tr>\n",
       "                        <th id=\"T_97f6d9b6_43f1_11eb_ba23_a4d18cca390alevel0_row4\" class=\"row_heading level0 row4\" >Support</th>\n",
       "                        <td id=\"T_97f6d9b6_43f1_11eb_ba23_a4d18cca390arow4_col0\" class=\"data row4 col0\" >0.843433</td>\n",
       "            </tr>\n",
       "            <tr>\n",
       "                        <th id=\"T_97f6d9b6_43f1_11eb_ba23_a4d18cca390alevel0_row5\" class=\"row_heading level0 row5\" >Data Position</th>\n",
       "                        <td id=\"T_97f6d9b6_43f1_11eb_ba23_a4d18cca390arow5_col0\" class=\"data row5 col0\" >0.835049</td>\n",
       "            </tr>\n",
       "            <tr>\n",
       "                        <th id=\"T_97f6d9b6_43f1_11eb_ba23_a4d18cca390alevel0_row6\" class=\"row_heading level0 row6\" >Engineer</th>\n",
       "                        <td id=\"T_97f6d9b6_43f1_11eb_ba23_a4d18cca390arow6_col0\" class=\"data row6 col0\" >0.835037</td>\n",
       "            </tr>\n",
       "            <tr>\n",
       "                        <th id=\"T_97f6d9b6_43f1_11eb_ba23_a4d18cca390alevel0_row7\" class=\"row_heading level0 row7\" >Designer</th>\n",
       "                        <td id=\"T_97f6d9b6_43f1_11eb_ba23_a4d18cca390arow7_col0\" class=\"data row7 col0\" >0.826644</td>\n",
       "            </tr>\n",
       "            <tr>\n",
       "                        <th id=\"T_97f6d9b6_43f1_11eb_ba23_a4d18cca390alevel0_row8\" class=\"row_heading level0 row8\" >Architect</th>\n",
       "                        <td id=\"T_97f6d9b6_43f1_11eb_ba23_a4d18cca390arow8_col0\" class=\"data row8 col0\" >0.826256</td>\n",
       "            </tr>\n",
       "            <tr>\n",
       "                        <th id=\"T_97f6d9b6_43f1_11eb_ba23_a4d18cca390alevel0_row9\" class=\"row_heading level0 row9\" >Programmer</th>\n",
       "                        <td id=\"T_97f6d9b6_43f1_11eb_ba23_a4d18cca390arow9_col0\" class=\"data row9 col0\" >0.823107</td>\n",
       "            </tr>\n",
       "            <tr>\n",
       "                        <th id=\"T_97f6d9b6_43f1_11eb_ba23_a4d18cca390alevel0_row10\" class=\"row_heading level0 row10\" >Developer</th>\n",
       "                        <td id=\"T_97f6d9b6_43f1_11eb_ba23_a4d18cca390arow10_col0\" class=\"data row10 col0\" >0.822419</td>\n",
       "            </tr>\n",
       "            <tr>\n",
       "                        <th id=\"T_97f6d9b6_43f1_11eb_ba23_a4d18cca390alevel0_row11\" class=\"row_heading level0 row11\" >Consulting</th>\n",
       "                        <td id=\"T_97f6d9b6_43f1_11eb_ba23_a4d18cca390arow11_col0\" class=\"data row11 col0\" >0.819026</td>\n",
       "            </tr>\n",
       "            <tr>\n",
       "                        <th id=\"T_97f6d9b6_43f1_11eb_ba23_a4d18cca390alevel0_row12\" class=\"row_heading level0 row12\" >Administrator</th>\n",
       "                        <td id=\"T_97f6d9b6_43f1_11eb_ba23_a4d18cca390arow12_col0\" class=\"data row12 col0\" >0.815885</td>\n",
       "            </tr>\n",
       "    </tbody></table>"
      ]
     },
     "metadata": {},
     "output_type": "display_data"
    }
   ],
   "source": [
    "# Credit for notebook styling: https://blog.softhints.com/display-two-pandas-dataframes-side-by-side-jupyter-notebook/\n",
    "df1_styler = zachs_recommendations.style.set_table_attributes(\"style='display:inline'\").set_caption('Zach')\n",
    "df2_styler = nolans_recommendations.style.set_table_attributes(\"style='display:inline'\").set_caption('Nolan')\n",
    "df3_styler = alberts_recommendations.style.set_table_attributes(\"style='display:inline'\").set_caption('Albert')\n",
    "df4_styler = yes_recommendations.style.set_table_attributes(\"style='display:inline'\").set_caption('Ye')\n",
    "\n",
    "space = \"\\xa0\" * 5\n",
    "display_html(df1_styler._repr_html_() + space + df2_styler._repr_html_() + space + df3_styler._repr_html_() + space + df4_styler._repr_html_(), raw=True)"
   ]
  },
  {
   "source": [
    "### SpaCy Conclusion\n",
    "As shown in the results above, the similarity scores for each LinkedIn profile hardly differ from the highest recommended title to the lowest recommended title. This is particularly apparent in Zach's scores, where the highest recommended position, Analyst, is only .0255 greater than the lowest recommended position of Consulting. We conclude from these results that this recommender is significantly effected by the noise, i.e. common words, in the dataset, and thus fails to provide accurate recommendations. This approach shows promise in future applications, as we fine tune the data cleaning process, however in the current state we decide not to use SpaCy."
   ],
   "cell_type": "markdown",
   "metadata": {}
  },
  {
   "cell_type": "code",
   "execution_count": null,
   "metadata": {},
   "outputs": [],
   "source": []
  }
 ],
 "metadata": {
  "kernelspec": {
   "display_name": "Python 3",
   "language": "python",
   "name": "python3"
  },
  "language_info": {
   "codemirror_mode": {
    "name": "ipython",
    "version": 3
   },
   "file_extension": ".py",
   "mimetype": "text/x-python",
   "name": "python",
   "nbconvert_exporter": "python",
   "pygments_lexer": "ipython3",
   "version": "3.7.6-final"
  }
 },
 "nbformat": 4,
 "nbformat_minor": 4
}