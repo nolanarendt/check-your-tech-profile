{
 "cells": [
  {
   "cell_type": "markdown",
   "metadata": {},
   "source": [
    "# Spacy"
   ]
  },
  {
   "cell_type": "code",
   "execution_count": 20,
   "metadata": {},
   "outputs": [],
   "source": [
    "import pandas as pd\n",
    "import numpy as np\n",
    "import re\n",
    "from sklearn.feature_extraction.text import TfidfVectorizer\n",
    "from sklearn.metrics.pairwise import linear_kernel\n",
    "import spacy\n",
    "from IPython.display import display_html"
   ]
  },
  {
   "cell_type": "markdown",
   "metadata": {},
   "source": [
    "---"
   ]
  },
  {
   "cell_type": "code",
   "execution_count": 3,
   "metadata": {},
   "outputs": [],
   "source": [
    "jobs = pd.read_csv('../data/job_postings.csv')\n",
    "jobs = jobs.drop(columns=['date_added', 'organization', 'skills_len', 'job_type'])"
   ]
  },
  {
   "cell_type": "code",
   "execution_count": 4,
   "metadata": {},
   "outputs": [
    {
     "data": {
      "text/html": [
       "<div>\n",
       "<style scoped>\n",
       "    .dataframe tbody tr th:only-of-type {\n",
       "        vertical-align: middle;\n",
       "    }\n",
       "\n",
       "    .dataframe tbody tr th {\n",
       "        vertical-align: top;\n",
       "    }\n",
       "\n",
       "    .dataframe thead th {\n",
       "        text-align: right;\n",
       "    }\n",
       "</style>\n",
       "<table border=\"1\" class=\"dataframe\">\n",
       "  <thead>\n",
       "    <tr style=\"text-align: right;\">\n",
       "      <th></th>\n",
       "      <th>job_description</th>\n",
       "      <th>job_title</th>\n",
       "      <th>location</th>\n",
       "      <th>skills</th>\n",
       "    </tr>\n",
       "  </thead>\n",
       "  <tbody>\n",
       "    <tr>\n",
       "      <th>0</th>\n",
       "      <td>an EDI Analyst with experience please read on...</td>\n",
       "      <td>Analyst</td>\n",
       "      <td>Northeast United States</td>\n",
       "      <td>edi trustedlink as van</td>\n",
       "    </tr>\n",
       "    <tr>\n",
       "      <th>1</th>\n",
       "      <td>Informatica ETL DeveloperSt Petersburg FL Only...</td>\n",
       "      <td>Developer</td>\n",
       "      <td>Southern United States</td>\n",
       "      <td>etl informatica b data exchange netezza oracle...</td>\n",
       "    </tr>\n",
       "    <tr>\n",
       "      <th>2</th>\n",
       "      <td>This nationally recognized Microsoft Gold Part...</td>\n",
       "      <td>Manager</td>\n",
       "      <td>Western United States</td>\n",
       "      <td>microsoft dynamics ax project manager - toront...</td>\n",
       "    </tr>\n",
       "    <tr>\n",
       "      <th>3</th>\n",
       "      <td>a .NET Developer with experience please read ...</td>\n",
       "      <td>Developer</td>\n",
       "      <td>Northeast United States</td>\n",
       "      <td>c asp.net sql javascript mvc</td>\n",
       "    </tr>\n",
       "    <tr>\n",
       "      <th>4</th>\n",
       "      <td>Hatstand a global financial consultancy is see...</td>\n",
       "      <td>Developer</td>\n",
       "      <td>Northeast United States</td>\n",
       "      <td>java linux unix sdlc; multi-threaded or concur...</td>\n",
       "    </tr>\n",
       "  </tbody>\n",
       "</table>\n",
       "</div>"
      ],
      "text/plain": [
       "                                     job_description  job_title  \\\n",
       "0   an EDI Analyst with experience please read on...    Analyst   \n",
       "1  Informatica ETL DeveloperSt Petersburg FL Only...  Developer   \n",
       "2  This nationally recognized Microsoft Gold Part...    Manager   \n",
       "3   a .NET Developer with experience please read ...  Developer   \n",
       "4  Hatstand a global financial consultancy is see...  Developer   \n",
       "\n",
       "                  location                                             skills  \n",
       "0  Northeast United States                             edi trustedlink as van  \n",
       "1   Southern United States  etl informatica b data exchange netezza oracle...  \n",
       "2    Western United States  microsoft dynamics ax project manager - toront...  \n",
       "3  Northeast United States                       c asp.net sql javascript mvc  \n",
       "4  Northeast United States  java linux unix sdlc; multi-threaded or concur...  "
      ]
     },
     "execution_count": 4,
     "metadata": {},
     "output_type": "execute_result"
    }
   ],
   "source": [
    "jobs.head(5)"
   ]
  },
  {
   "cell_type": "code",
   "execution_count": 5,
   "metadata": {},
   "outputs": [
    {
     "data": {
      "text/plain": [
       "job_description      0\n",
       "job_title            0\n",
       "location             0\n",
       "skills             266\n",
       "dtype: int64"
      ]
     },
     "execution_count": 5,
     "metadata": {},
     "output_type": "execute_result"
    }
   ],
   "source": [
    "jobs.isna().sum()"
   ]
  },
  {
   "cell_type": "code",
   "execution_count": 6,
   "metadata": {},
   "outputs": [],
   "source": [
    "# Replace nan's with empty string\n",
    "jobs.fillna('', inplace=True)"
   ]
  },
  {
   "cell_type": "code",
   "execution_count": 7,
   "metadata": {},
   "outputs": [],
   "source": [
    "# Combine job description and text into a single column\n",
    "jobs['text'] = jobs['job_description'] + ' ' + jobs['skills']"
   ]
  },
  {
   "cell_type": "markdown",
   "metadata": {},
   "source": [
    "# Spacy\n",
    "https://spacy.io/usage/spacy-101"
   ]
  },
  {
   "cell_type": "code",
   "execution_count": 8,
   "metadata": {},
   "outputs": [],
   "source": [
    "# Load one of the larger models for a better similarity score\n",
    "nlp = spacy.load(\"en_core_web_lg\")"
   ]
  },
  {
   "cell_type": "code",
   "execution_count": 13,
   "metadata": {},
   "outputs": [
    {
     "name": "stdout",
     "output_type": "stream",
     "text": [
      "dog dog 1.0\n",
      "dog cat 0.8016855\n",
      "dog banana 0.24327648\n",
      "cat dog 0.8016855\n",
      "cat cat 1.0\n",
      "cat banana 0.28154367\n",
      "banana dog 0.24327648\n",
      "banana cat 0.28154367\n",
      "banana banana 1.0\n"
     ]
    }
   ],
   "source": [
    "# How to use .similarity function\n",
    "tokens = nlp(\"dog cat banana\")\n",
    "\n",
    "for token1 in tokens:\n",
    "    for token2 in tokens:\n",
    "        print(token1.text, token2.text, token1.similarity(token2))"
   ]
  },
  {
   "cell_type": "code",
   "execution_count": 14,
   "metadata": {},
   "outputs": [
    {
     "name": "stdout",
     "output_type": "stream",
     "text": [
      "1.0\n",
      "0.8016855517329495\n",
      "0.24327647954195658\n"
     ]
    }
   ],
   "source": [
    "# Some more examples\n",
    "print(nlp(\"dog\").similarity(nlp(\"dog\")))\n",
    "print(nlp(\"dog\").similarity(nlp(\"cat\")))\n",
    "print(nlp(\"dog\").similarity(nlp(\"banana\")))"
   ]
  },
  {
   "cell_type": "code",
   "execution_count": 15,
   "metadata": {},
   "outputs": [
    {
     "name": "stdout",
     "output_type": "stream",
     "text": [
      "dog True 7.0336733 False\n",
      "cat True 6.6808186 False\n",
      "banana True 6.700014 False\n",
      "afskfsd False 0.0 True\n"
     ]
    }
   ],
   "source": [
    "# Displaying some attributes of an nlp object\n",
    "tokens = nlp(\"dog cat banana afskfsd\")\n",
    "\n",
    "for token in tokens:\n",
    "    print(token.text, token.has_vector, token.vector_norm, token.is_oov)"
   ]
  },
  {
   "cell_type": "markdown",
   "metadata": {},
   "source": [
    "---\n",
    "## Using our jobs data"
   ]
  },
  {
   "cell_type": "code",
   "execution_count": 16,
   "metadata": {},
   "outputs": [],
   "source": [
    "# New stop words list \n",
    "# customize_stop_words = [\n",
    "#     'attach'\n",
    "# ]\n",
    "\n",
    "# # Mark them as stop words\n",
    "# for w in customize_stop_words:\n",
    "    \n",
    "#     nlp.vocab[w].is_stop = True"
   ]
  },
  {
   "cell_type": "code",
   "execution_count": 17,
   "metadata": {},
   "outputs": [],
   "source": [
    "# nlp.vocab['aaaaaaaaaaaa'].is_stop"
   ]
  },
  {
   "cell_type": "code",
   "execution_count": 9,
   "metadata": {},
   "outputs": [],
   "source": [
    "titles_and_docs = jobs[['job_title']].copy()\n",
    "titles_and_docs['doc'] = jobs['text'].map(nlp)"
   ]
  },
  {
   "cell_type": "code",
   "execution_count": 10,
   "metadata": {},
   "outputs": [
    {
     "data": {
      "text/html": [
       "<div>\n",
       "<style scoped>\n",
       "    .dataframe tbody tr th:only-of-type {\n",
       "        vertical-align: middle;\n",
       "    }\n",
       "\n",
       "    .dataframe tbody tr th {\n",
       "        vertical-align: top;\n",
       "    }\n",
       "\n",
       "    .dataframe thead th {\n",
       "        text-align: right;\n",
       "    }\n",
       "</style>\n",
       "<table border=\"1\" class=\"dataframe\">\n",
       "  <thead>\n",
       "    <tr style=\"text-align: right;\">\n",
       "      <th></th>\n",
       "      <th>job_title</th>\n",
       "      <th>doc</th>\n",
       "    </tr>\n",
       "  </thead>\n",
       "  <tbody>\n",
       "    <tr>\n",
       "      <th>0</th>\n",
       "      <td>Analyst</td>\n",
       "      <td>( , an, EDI, Analyst, with, experience, please...</td>\n",
       "    </tr>\n",
       "    <tr>\n",
       "      <th>1</th>\n",
       "      <td>Developer</td>\n",
       "      <td>(Informatica, ETL, DeveloperSt, Petersburg, FL...</td>\n",
       "    </tr>\n",
       "    <tr>\n",
       "      <th>2</th>\n",
       "      <td>Manager</td>\n",
       "      <td>(This, nationally, recognized, Microsoft, Gold...</td>\n",
       "    </tr>\n",
       "    <tr>\n",
       "      <th>3</th>\n",
       "      <td>Developer</td>\n",
       "      <td>( , a, .NET, Developer, with, experience, plea...</td>\n",
       "    </tr>\n",
       "    <tr>\n",
       "      <th>4</th>\n",
       "      <td>Developer</td>\n",
       "      <td>(Hatstand, a, global, financial, consultancy, ...</td>\n",
       "    </tr>\n",
       "    <tr>\n",
       "      <th>...</th>\n",
       "      <td>...</td>\n",
       "      <td>...</td>\n",
       "    </tr>\n",
       "    <tr>\n",
       "      <th>16431</th>\n",
       "      <td>Developer</td>\n",
       "      <td>(  , JPMorgan, Chase, &amp;, Co., (, NYSE, :, JPM,...</td>\n",
       "    </tr>\n",
       "    <tr>\n",
       "      <th>16432</th>\n",
       "      <td>Administrator</td>\n",
       "      <td>(Seeking, Jr., Systems, Administrators, with, ...</td>\n",
       "    </tr>\n",
       "    <tr>\n",
       "      <th>16433</th>\n",
       "      <td>Developer</td>\n",
       "      <td>( , a, Senior, Lead, Devops, Engineer, with, a...</td>\n",
       "    </tr>\n",
       "    <tr>\n",
       "      <th>16434</th>\n",
       "      <td>Developer</td>\n",
       "      <td>(Headquartered, in, downtown, San, Francisco, ...</td>\n",
       "    </tr>\n",
       "    <tr>\n",
       "      <th>16435</th>\n",
       "      <td>Engineer</td>\n",
       "      <td>( , an, AppSec, or, Hardware, Security, Engine...</td>\n",
       "    </tr>\n",
       "  </tbody>\n",
       "</table>\n",
       "<p>16436 rows × 2 columns</p>\n",
       "</div>"
      ],
      "text/plain": [
       "           job_title                                                doc\n",
       "0            Analyst  ( , an, EDI, Analyst, with, experience, please...\n",
       "1          Developer  (Informatica, ETL, DeveloperSt, Petersburg, FL...\n",
       "2            Manager  (This, nationally, recognized, Microsoft, Gold...\n",
       "3          Developer  ( , a, .NET, Developer, with, experience, plea...\n",
       "4          Developer  (Hatstand, a, global, financial, consultancy, ...\n",
       "...              ...                                                ...\n",
       "16431      Developer  (  , JPMorgan, Chase, &, Co., (, NYSE, :, JPM,...\n",
       "16432  Administrator  (Seeking, Jr., Systems, Administrators, with, ...\n",
       "16433      Developer  ( , a, Senior, Lead, Devops, Engineer, with, a...\n",
       "16434      Developer  (Headquartered, in, downtown, San, Francisco, ...\n",
       "16435       Engineer  ( , an, AppSec, or, Hardware, Security, Engine...\n",
       "\n",
       "[16436 rows x 2 columns]"
      ]
     },
     "execution_count": 10,
     "metadata": {},
     "output_type": "execute_result"
    }
   ],
   "source": [
    "titles_and_docs"
   ]
  },
  {
   "cell_type": "code",
   "execution_count": 11,
   "metadata": {},
   "outputs": [],
   "source": [
    "def gather_profile_data(file_path):\n",
    "    profile_data = pd.read_csv(file_path)\n",
    "    profile_data['text'] = profile_data['Titles'] + ' ' \\\n",
    "                            + profile_data['Skills'] + ' ' \\\n",
    "                            + profile_data['Summary'] + ' ' \\\n",
    "                            + profile_data['Education']\n",
    "    return profile_data"
   ]
  },
  {
   "cell_type": "code",
   "execution_count": 17,
   "metadata": {},
   "outputs": [],
   "source": [
    "def get_recommendations(profile_data):\n",
    "    # Create nlp doc from profile\n",
    "    profile_text = profile_data['text'][0]\n",
    "    profile_doc = nlp(profile_text)\n",
    "    \n",
    "    # Calculate scores\n",
    "    scores = jobs[['job_title']].copy()\n",
    "    scores['sim_score'] = titles_and_docs['doc'].map(lambda x: x.similarity(profile_doc))\n",
    "    \n",
    "    return scores"
   ]
  },
  {
   "cell_type": "code",
   "execution_count": 13,
   "metadata": {},
   "outputs": [
    {
     "data": {
      "text/html": [
       "<div>\n",
       "<style scoped>\n",
       "    .dataframe tbody tr th:only-of-type {\n",
       "        vertical-align: middle;\n",
       "    }\n",
       "\n",
       "    .dataframe tbody tr th {\n",
       "        vertical-align: top;\n",
       "    }\n",
       "\n",
       "    .dataframe thead th {\n",
       "        text-align: right;\n",
       "    }\n",
       "</style>\n",
       "<table border=\"1\" class=\"dataframe\">\n",
       "  <thead>\n",
       "    <tr style=\"text-align: right;\">\n",
       "      <th></th>\n",
       "      <th>Name</th>\n",
       "      <th>Titles</th>\n",
       "      <th>Skills</th>\n",
       "      <th>Summary</th>\n",
       "      <th>Education</th>\n",
       "      <th>Certifications</th>\n",
       "      <th>text</th>\n",
       "    </tr>\n",
       "  </thead>\n",
       "  <tbody>\n",
       "    <tr>\n",
       "      <th>0</th>\n",
       "      <td>Zachary Brown</td>\n",
       "      <td>Data Science Fellow, Python Developer, Health ...</td>\n",
       "      <td>Data Analysis, Python (Programming Language), ...</td>\n",
       "      <td>I bridge the gap between data and climate poli...</td>\n",
       "      <td>Data Science Intensive, Bachelor's of Science</td>\n",
       "      <td>Microsoft Certified: Azure Data Scientist Asso...</td>\n",
       "      <td>Data Science Fellow, Python Developer, Health ...</td>\n",
       "    </tr>\n",
       "  </tbody>\n",
       "</table>\n",
       "</div>"
      ],
      "text/plain": [
       "            Name                                             Titles  \\\n",
       "0  Zachary Brown  Data Science Fellow, Python Developer, Health ...   \n",
       "\n",
       "                                              Skills  \\\n",
       "0  Data Analysis, Python (Programming Language), ...   \n",
       "\n",
       "                                             Summary  \\\n",
       "0  I bridge the gap between data and climate poli...   \n",
       "\n",
       "                                       Education  \\\n",
       "0  Data Science Intensive, Bachelor's of Science   \n",
       "\n",
       "                                      Certifications  \\\n",
       "0  Microsoft Certified: Azure Data Scientist Asso...   \n",
       "\n",
       "                                                text  \n",
       "0  Data Science Fellow, Python Developer, Health ...  "
      ]
     },
     "execution_count": 13,
     "metadata": {},
     "output_type": "execute_result"
    }
   ],
   "source": [
    "# Reading in Zach's linkedin profile data.\n",
    "profile_data_zach = gather_profile_data('../data/linkedin/test-output/Zach_LinkedInData_12-16-2020.csv')\n",
    "profile_data_zach"
   ]
  },
  {
   "cell_type": "code",
   "execution_count": 14,
   "metadata": {},
   "outputs": [
    {
     "data": {
      "text/html": [
       "<div>\n",
       "<style scoped>\n",
       "    .dataframe tbody tr th:only-of-type {\n",
       "        vertical-align: middle;\n",
       "    }\n",
       "\n",
       "    .dataframe tbody tr th {\n",
       "        vertical-align: top;\n",
       "    }\n",
       "\n",
       "    .dataframe thead th {\n",
       "        text-align: right;\n",
       "    }\n",
       "</style>\n",
       "<table border=\"1\" class=\"dataframe\">\n",
       "  <thead>\n",
       "    <tr style=\"text-align: right;\">\n",
       "      <th></th>\n",
       "      <th>Name</th>\n",
       "      <th>Titles</th>\n",
       "      <th>Skills</th>\n",
       "      <th>Summary</th>\n",
       "      <th>Education</th>\n",
       "      <th>text</th>\n",
       "    </tr>\n",
       "  </thead>\n",
       "  <tbody>\n",
       "    <tr>\n",
       "      <th>0</th>\n",
       "      <td>Nolan Arendt</td>\n",
       "      <td>Data Science Fellow, Painter</td>\n",
       "      <td>Data Science, Python, Data Analysis, Data Mana...</td>\n",
       "      <td>An innovative Data Scientist who is passionate...</td>\n",
       "      <td>Bachelor's degree, Software Boot Camp Certificate</td>\n",
       "      <td>Data Science Fellow, Painter Data Science, Pyt...</td>\n",
       "    </tr>\n",
       "  </tbody>\n",
       "</table>\n",
       "</div>"
      ],
      "text/plain": [
       "           Name                        Titles  \\\n",
       "0  Nolan Arendt  Data Science Fellow, Painter   \n",
       "\n",
       "                                              Skills  \\\n",
       "0  Data Science, Python, Data Analysis, Data Mana...   \n",
       "\n",
       "                                             Summary  \\\n",
       "0  An innovative Data Scientist who is passionate...   \n",
       "\n",
       "                                           Education  \\\n",
       "0  Bachelor's degree, Software Boot Camp Certificate   \n",
       "\n",
       "                                                text  \n",
       "0  Data Science Fellow, Painter Data Science, Pyt...  "
      ]
     },
     "execution_count": 14,
     "metadata": {},
     "output_type": "execute_result"
    }
   ],
   "source": [
    "# Reading in Nolan's linkedin profile data.\n",
    "profile_data_nolan = gather_profile_data('../data/linkedin/test-output/Nolan_LinkedInData_12-16-2020.csv')\n",
    "profile_data_nolan"
   ]
  },
  {
   "cell_type": "code",
   "execution_count": 15,
   "metadata": {},
   "outputs": [
    {
     "data": {
      "text/html": [
       "<div>\n",
       "<style scoped>\n",
       "    .dataframe tbody tr th:only-of-type {\n",
       "        vertical-align: middle;\n",
       "    }\n",
       "\n",
       "    .dataframe tbody tr th {\n",
       "        vertical-align: top;\n",
       "    }\n",
       "\n",
       "    .dataframe thead th {\n",
       "        text-align: right;\n",
       "    }\n",
       "</style>\n",
       "<table border=\"1\" class=\"dataframe\">\n",
       "  <thead>\n",
       "    <tr style=\"text-align: right;\">\n",
       "      <th></th>\n",
       "      <th>Name</th>\n",
       "      <th>Titles</th>\n",
       "      <th>Skills</th>\n",
       "      <th>Summary</th>\n",
       "      <th>Education</th>\n",
       "      <th>Projects</th>\n",
       "      <th>Certifications</th>\n",
       "      <th>text</th>\n",
       "    </tr>\n",
       "  </thead>\n",
       "  <tbody>\n",
       "    <tr>\n",
       "      <th>0</th>\n",
       "      <td>Albert Frantz</td>\n",
       "      <td>Data Science Fellow, Assistant Teacher, Classr...</td>\n",
       "      <td>R, Python, Data Analysis, Econometrics, Projec...</td>\n",
       "      <td>I am a detail-oriented data scientist that use...</td>\n",
       "      <td>Bachelor of Arts - BA, nan, nan</td>\n",
       "      <td>Identifying the Relationship Between Bike Lane...</td>\n",
       "      <td>Tableau 2020 A-Z: Hands-On Tableau Training fo...</td>\n",
       "      <td>Data Science Fellow, Assistant Teacher, Classr...</td>\n",
       "    </tr>\n",
       "  </tbody>\n",
       "</table>\n",
       "</div>"
      ],
      "text/plain": [
       "            Name                                             Titles  \\\n",
       "0  Albert Frantz  Data Science Fellow, Assistant Teacher, Classr...   \n",
       "\n",
       "                                              Skills  \\\n",
       "0  R, Python, Data Analysis, Econometrics, Projec...   \n",
       "\n",
       "                                             Summary  \\\n",
       "0  I am a detail-oriented data scientist that use...   \n",
       "\n",
       "                         Education  \\\n",
       "0  Bachelor of Arts - BA, nan, nan   \n",
       "\n",
       "                                            Projects  \\\n",
       "0  Identifying the Relationship Between Bike Lane...   \n",
       "\n",
       "                                      Certifications  \\\n",
       "0  Tableau 2020 A-Z: Hands-On Tableau Training fo...   \n",
       "\n",
       "                                                text  \n",
       "0  Data Science Fellow, Assistant Teacher, Classr...  "
      ]
     },
     "execution_count": 15,
     "metadata": {},
     "output_type": "execute_result"
    }
   ],
   "source": [
    "# Reading in Nolan's linkedin profile data.\n",
    "profile_data_albert = gather_profile_data('../data/linkedin/test-output/Albert_LinkedInData.csv')\n",
    "profile_data_albert"
   ]
  },
  {
   "cell_type": "code",
   "execution_count": 18,
   "metadata": {},
   "outputs": [],
   "source": [
    "# Calculate scores\n",
    "zach_scores = get_recommendations(profile_data_zach)\n",
    "nolan_scores = get_recommendations(profile_data_nolan)\n",
    "albert_scores = get_recommendations(profile_data_albert)"
   ]
  },
  {
   "cell_type": "code",
   "execution_count": 21,
   "metadata": {},
   "outputs": [],
   "source": [
    "# Group by job title\n",
    "zachs_recommendations = zach_scores.groupby('job_title').agg(['count', 'mean'])['sim_score'].sort_values('mean', ascending=False)\n",
    "nolans_recommendations = nolan_scores.groupby('job_title').agg(['count', 'mean'])['sim_score'].sort_values('mean', ascending=False)\n",
    "alberts_recommendations = albert_scores.groupby('job_title').agg(['count', 'mean'])['sim_score'].sort_values('mean', ascending=False)"
   ]
  },
  {
   "cell_type": "code",
   "execution_count": 22,
   "metadata": {},
   "outputs": [
    {
     "data": {
      "text/html": [
       "<style  type=\"text/css\" >\n",
       "</style><table id=\"T_e55b3e5c_4349_11eb_8992_a4d18cca390a\" style='display:inline'><caption>Zach</caption><thead>    <tr>        <th class=\"blank level0\" ></th>        <th class=\"col_heading level0 col0\" >count</th>        <th class=\"col_heading level0 col1\" >mean</th>    </tr>    <tr>        <th class=\"index_name level0\" >job_title</th>        <th class=\"blank\" ></th>        <th class=\"blank\" ></th>    </tr></thead><tbody>\n",
       "                <tr>\n",
       "                        <th id=\"T_e55b3e5c_4349_11eb_8992_a4d18cca390alevel0_row0\" class=\"row_heading level0 row0\" >Analyst</th>\n",
       "                        <td id=\"T_e55b3e5c_4349_11eb_8992_a4d18cca390arow0_col0\" class=\"data row0 col0\" >1884</td>\n",
       "                        <td id=\"T_e55b3e5c_4349_11eb_8992_a4d18cca390arow0_col1\" class=\"data row0 col1\" >0.906737</td>\n",
       "            </tr>\n",
       "            <tr>\n",
       "                        <th id=\"T_e55b3e5c_4349_11eb_8992_a4d18cca390alevel0_row1\" class=\"row_heading level0 row1\" >Data Position</th>\n",
       "                        <td id=\"T_e55b3e5c_4349_11eb_8992_a4d18cca390arow1_col0\" class=\"data row1 col0\" >280</td>\n",
       "                        <td id=\"T_e55b3e5c_4349_11eb_8992_a4d18cca390arow1_col1\" class=\"data row1 col1\" >0.906670</td>\n",
       "            </tr>\n",
       "            <tr>\n",
       "                        <th id=\"T_e55b3e5c_4349_11eb_8992_a4d18cca390alevel0_row2\" class=\"row_heading level0 row2\" >Architect</th>\n",
       "                        <td id=\"T_e55b3e5c_4349_11eb_8992_a4d18cca390arow2_col0\" class=\"data row2 col0\" >823</td>\n",
       "                        <td id=\"T_e55b3e5c_4349_11eb_8992_a4d18cca390arow2_col1\" class=\"data row2 col1\" >0.903956</td>\n",
       "            </tr>\n",
       "            <tr>\n",
       "                        <th id=\"T_e55b3e5c_4349_11eb_8992_a4d18cca390alevel0_row3\" class=\"row_heading level0 row3\" >Engineer</th>\n",
       "                        <td id=\"T_e55b3e5c_4349_11eb_8992_a4d18cca390arow3_col0\" class=\"data row3 col0\" >4045</td>\n",
       "                        <td id=\"T_e55b3e5c_4349_11eb_8992_a4d18cca390arow3_col1\" class=\"data row3 col1\" >0.903560</td>\n",
       "            </tr>\n",
       "            <tr>\n",
       "                        <th id=\"T_e55b3e5c_4349_11eb_8992_a4d18cca390alevel0_row4\" class=\"row_heading level0 row4\" >Programmer</th>\n",
       "                        <td id=\"T_e55b3e5c_4349_11eb_8992_a4d18cca390arow4_col0\" class=\"data row4 col0\" >321</td>\n",
       "                        <td id=\"T_e55b3e5c_4349_11eb_8992_a4d18cca390arow4_col1\" class=\"data row4 col1\" >0.902418</td>\n",
       "            </tr>\n",
       "            <tr>\n",
       "                        <th id=\"T_e55b3e5c_4349_11eb_8992_a4d18cca390alevel0_row5\" class=\"row_heading level0 row5\" >Director</th>\n",
       "                        <td id=\"T_e55b3e5c_4349_11eb_8992_a4d18cca390arow5_col0\" class=\"data row5 col0\" >144</td>\n",
       "                        <td id=\"T_e55b3e5c_4349_11eb_8992_a4d18cca390arow5_col1\" class=\"data row5 col1\" >0.901784</td>\n",
       "            </tr>\n",
       "            <tr>\n",
       "                        <th id=\"T_e55b3e5c_4349_11eb_8992_a4d18cca390alevel0_row6\" class=\"row_heading level0 row6\" >Developer</th>\n",
       "                        <td id=\"T_e55b3e5c_4349_11eb_8992_a4d18cca390arow6_col0\" class=\"data row6 col0\" >5181</td>\n",
       "                        <td id=\"T_e55b3e5c_4349_11eb_8992_a4d18cca390arow6_col1\" class=\"data row6 col1\" >0.901217</td>\n",
       "            </tr>\n",
       "            <tr>\n",
       "                        <th id=\"T_e55b3e5c_4349_11eb_8992_a4d18cca390alevel0_row7\" class=\"row_heading level0 row7\" >Manager</th>\n",
       "                        <td id=\"T_e55b3e5c_4349_11eb_8992_a4d18cca390arow7_col0\" class=\"data row7 col0\" >1379</td>\n",
       "                        <td id=\"T_e55b3e5c_4349_11eb_8992_a4d18cca390arow7_col1\" class=\"data row7 col1\" >0.900325</td>\n",
       "            </tr>\n",
       "            <tr>\n",
       "                        <th id=\"T_e55b3e5c_4349_11eb_8992_a4d18cca390alevel0_row8\" class=\"row_heading level0 row8\" >Support</th>\n",
       "                        <td id=\"T_e55b3e5c_4349_11eb_8992_a4d18cca390arow8_col0\" class=\"data row8 col0\" >343</td>\n",
       "                        <td id=\"T_e55b3e5c_4349_11eb_8992_a4d18cca390arow8_col1\" class=\"data row8 col1\" >0.900125</td>\n",
       "            </tr>\n",
       "            <tr>\n",
       "                        <th id=\"T_e55b3e5c_4349_11eb_8992_a4d18cca390alevel0_row9\" class=\"row_heading level0 row9\" >Administrator</th>\n",
       "                        <td id=\"T_e55b3e5c_4349_11eb_8992_a4d18cca390arow9_col0\" class=\"data row9 col0\" >896</td>\n",
       "                        <td id=\"T_e55b3e5c_4349_11eb_8992_a4d18cca390arow9_col1\" class=\"data row9 col1\" >0.899479</td>\n",
       "            </tr>\n",
       "            <tr>\n",
       "                        <th id=\"T_e55b3e5c_4349_11eb_8992_a4d18cca390alevel0_row10\" class=\"row_heading level0 row10\" >Designer</th>\n",
       "                        <td id=\"T_e55b3e5c_4349_11eb_8992_a4d18cca390arow10_col0\" class=\"data row10 col0\" >220</td>\n",
       "                        <td id=\"T_e55b3e5c_4349_11eb_8992_a4d18cca390arow10_col1\" class=\"data row10 col1\" >0.897220</td>\n",
       "            </tr>\n",
       "            <tr>\n",
       "                        <th id=\"T_e55b3e5c_4349_11eb_8992_a4d18cca390alevel0_row11\" class=\"row_heading level0 row11\" >Technician</th>\n",
       "                        <td id=\"T_e55b3e5c_4349_11eb_8992_a4d18cca390arow11_col0\" class=\"data row11 col0\" >342</td>\n",
       "                        <td id=\"T_e55b3e5c_4349_11eb_8992_a4d18cca390arow11_col1\" class=\"data row11 col1\" >0.896545</td>\n",
       "            </tr>\n",
       "            <tr>\n",
       "                        <th id=\"T_e55b3e5c_4349_11eb_8992_a4d18cca390alevel0_row12\" class=\"row_heading level0 row12\" >Consulting</th>\n",
       "                        <td id=\"T_e55b3e5c_4349_11eb_8992_a4d18cca390arow12_col0\" class=\"data row12 col0\" >578</td>\n",
       "                        <td id=\"T_e55b3e5c_4349_11eb_8992_a4d18cca390arow12_col1\" class=\"data row12 col1\" >0.893702</td>\n",
       "            </tr>\n",
       "    </tbody></table>          <style  type=\"text/css\" >\n",
       "</style><table id=\"T_e55dcc4e_4349_11eb_8992_a4d18cca390a\" style='display:inline'><caption>Nolan</caption><thead>    <tr>        <th class=\"blank level0\" ></th>        <th class=\"col_heading level0 col0\" >count</th>        <th class=\"col_heading level0 col1\" >mean</th>    </tr>    <tr>        <th class=\"index_name level0\" >job_title</th>        <th class=\"blank\" ></th>        <th class=\"blank\" ></th>    </tr></thead><tbody>\n",
       "                <tr>\n",
       "                        <th id=\"T_e55dcc4e_4349_11eb_8992_a4d18cca390alevel0_row0\" class=\"row_heading level0 row0\" >Architect</th>\n",
       "                        <td id=\"T_e55dcc4e_4349_11eb_8992_a4d18cca390arow0_col0\" class=\"data row0 col0\" >823</td>\n",
       "                        <td id=\"T_e55dcc4e_4349_11eb_8992_a4d18cca390arow0_col1\" class=\"data row0 col1\" >0.827770</td>\n",
       "            </tr>\n",
       "            <tr>\n",
       "                        <th id=\"T_e55dcc4e_4349_11eb_8992_a4d18cca390alevel0_row1\" class=\"row_heading level0 row1\" >Administrator</th>\n",
       "                        <td id=\"T_e55dcc4e_4349_11eb_8992_a4d18cca390arow1_col0\" class=\"data row1 col0\" >896</td>\n",
       "                        <td id=\"T_e55dcc4e_4349_11eb_8992_a4d18cca390arow1_col1\" class=\"data row1 col1\" >0.826981</td>\n",
       "            </tr>\n",
       "            <tr>\n",
       "                        <th id=\"T_e55dcc4e_4349_11eb_8992_a4d18cca390alevel0_row2\" class=\"row_heading level0 row2\" >Developer</th>\n",
       "                        <td id=\"T_e55dcc4e_4349_11eb_8992_a4d18cca390arow2_col0\" class=\"data row2 col0\" >5181</td>\n",
       "                        <td id=\"T_e55dcc4e_4349_11eb_8992_a4d18cca390arow2_col1\" class=\"data row2 col1\" >0.824243</td>\n",
       "            </tr>\n",
       "            <tr>\n",
       "                        <th id=\"T_e55dcc4e_4349_11eb_8992_a4d18cca390alevel0_row3\" class=\"row_heading level0 row3\" >Data Position</th>\n",
       "                        <td id=\"T_e55dcc4e_4349_11eb_8992_a4d18cca390arow3_col0\" class=\"data row3 col0\" >280</td>\n",
       "                        <td id=\"T_e55dcc4e_4349_11eb_8992_a4d18cca390arow3_col1\" class=\"data row3 col1\" >0.823465</td>\n",
       "            </tr>\n",
       "            <tr>\n",
       "                        <th id=\"T_e55dcc4e_4349_11eb_8992_a4d18cca390alevel0_row4\" class=\"row_heading level0 row4\" >Programmer</th>\n",
       "                        <td id=\"T_e55dcc4e_4349_11eb_8992_a4d18cca390arow4_col0\" class=\"data row4 col0\" >321</td>\n",
       "                        <td id=\"T_e55dcc4e_4349_11eb_8992_a4d18cca390arow4_col1\" class=\"data row4 col1\" >0.823290</td>\n",
       "            </tr>\n",
       "            <tr>\n",
       "                        <th id=\"T_e55dcc4e_4349_11eb_8992_a4d18cca390alevel0_row5\" class=\"row_heading level0 row5\" >Consulting</th>\n",
       "                        <td id=\"T_e55dcc4e_4349_11eb_8992_a4d18cca390arow5_col0\" class=\"data row5 col0\" >578</td>\n",
       "                        <td id=\"T_e55dcc4e_4349_11eb_8992_a4d18cca390arow5_col1\" class=\"data row5 col1\" >0.822425</td>\n",
       "            </tr>\n",
       "            <tr>\n",
       "                        <th id=\"T_e55dcc4e_4349_11eb_8992_a4d18cca390alevel0_row6\" class=\"row_heading level0 row6\" >Analyst</th>\n",
       "                        <td id=\"T_e55dcc4e_4349_11eb_8992_a4d18cca390arow6_col0\" class=\"data row6 col0\" >1884</td>\n",
       "                        <td id=\"T_e55dcc4e_4349_11eb_8992_a4d18cca390arow6_col1\" class=\"data row6 col1\" >0.820208</td>\n",
       "            </tr>\n",
       "            <tr>\n",
       "                        <th id=\"T_e55dcc4e_4349_11eb_8992_a4d18cca390alevel0_row7\" class=\"row_heading level0 row7\" >Engineer</th>\n",
       "                        <td id=\"T_e55dcc4e_4349_11eb_8992_a4d18cca390arow7_col0\" class=\"data row7 col0\" >4045</td>\n",
       "                        <td id=\"T_e55dcc4e_4349_11eb_8992_a4d18cca390arow7_col1\" class=\"data row7 col1\" >0.815983</td>\n",
       "            </tr>\n",
       "            <tr>\n",
       "                        <th id=\"T_e55dcc4e_4349_11eb_8992_a4d18cca390alevel0_row8\" class=\"row_heading level0 row8\" >Designer</th>\n",
       "                        <td id=\"T_e55dcc4e_4349_11eb_8992_a4d18cca390arow8_col0\" class=\"data row8 col0\" >220</td>\n",
       "                        <td id=\"T_e55dcc4e_4349_11eb_8992_a4d18cca390arow8_col1\" class=\"data row8 col1\" >0.812500</td>\n",
       "            </tr>\n",
       "            <tr>\n",
       "                        <th id=\"T_e55dcc4e_4349_11eb_8992_a4d18cca390alevel0_row9\" class=\"row_heading level0 row9\" >Support</th>\n",
       "                        <td id=\"T_e55dcc4e_4349_11eb_8992_a4d18cca390arow9_col0\" class=\"data row9 col0\" >343</td>\n",
       "                        <td id=\"T_e55dcc4e_4349_11eb_8992_a4d18cca390arow9_col1\" class=\"data row9 col1\" >0.812417</td>\n",
       "            </tr>\n",
       "            <tr>\n",
       "                        <th id=\"T_e55dcc4e_4349_11eb_8992_a4d18cca390alevel0_row10\" class=\"row_heading level0 row10\" >Manager</th>\n",
       "                        <td id=\"T_e55dcc4e_4349_11eb_8992_a4d18cca390arow10_col0\" class=\"data row10 col0\" >1379</td>\n",
       "                        <td id=\"T_e55dcc4e_4349_11eb_8992_a4d18cca390arow10_col1\" class=\"data row10 col1\" >0.807183</td>\n",
       "            </tr>\n",
       "            <tr>\n",
       "                        <th id=\"T_e55dcc4e_4349_11eb_8992_a4d18cca390alevel0_row11\" class=\"row_heading level0 row11\" >Director</th>\n",
       "                        <td id=\"T_e55dcc4e_4349_11eb_8992_a4d18cca390arow11_col0\" class=\"data row11 col0\" >144</td>\n",
       "                        <td id=\"T_e55dcc4e_4349_11eb_8992_a4d18cca390arow11_col1\" class=\"data row11 col1\" >0.805848</td>\n",
       "            </tr>\n",
       "            <tr>\n",
       "                        <th id=\"T_e55dcc4e_4349_11eb_8992_a4d18cca390alevel0_row12\" class=\"row_heading level0 row12\" >Technician</th>\n",
       "                        <td id=\"T_e55dcc4e_4349_11eb_8992_a4d18cca390arow12_col0\" class=\"data row12 col0\" >342</td>\n",
       "                        <td id=\"T_e55dcc4e_4349_11eb_8992_a4d18cca390arow12_col1\" class=\"data row12 col1\" >0.801932</td>\n",
       "            </tr>\n",
       "    </tbody></table>          <style  type=\"text/css\" >\n",
       "</style><table id=\"T_e561a60c_4349_11eb_8992_a4d18cca390a\" style='display:inline'><caption>Albert</caption><thead>    <tr>        <th class=\"blank level0\" ></th>        <th class=\"col_heading level0 col0\" >count</th>        <th class=\"col_heading level0 col1\" >mean</th>    </tr>    <tr>        <th class=\"index_name level0\" >job_title</th>        <th class=\"blank\" ></th>        <th class=\"blank\" ></th>    </tr></thead><tbody>\n",
       "                <tr>\n",
       "                        <th id=\"T_e561a60c_4349_11eb_8992_a4d18cca390alevel0_row0\" class=\"row_heading level0 row0\" >Designer</th>\n",
       "                        <td id=\"T_e561a60c_4349_11eb_8992_a4d18cca390arow0_col0\" class=\"data row0 col0\" >220</td>\n",
       "                        <td id=\"T_e561a60c_4349_11eb_8992_a4d18cca390arow0_col1\" class=\"data row0 col1\" >0.917509</td>\n",
       "            </tr>\n",
       "            <tr>\n",
       "                        <th id=\"T_e561a60c_4349_11eb_8992_a4d18cca390alevel0_row1\" class=\"row_heading level0 row1\" >Engineer</th>\n",
       "                        <td id=\"T_e561a60c_4349_11eb_8992_a4d18cca390arow1_col0\" class=\"data row1 col0\" >4045</td>\n",
       "                        <td id=\"T_e561a60c_4349_11eb_8992_a4d18cca390arow1_col1\" class=\"data row1 col1\" >0.915938</td>\n",
       "            </tr>\n",
       "            <tr>\n",
       "                        <th id=\"T_e561a60c_4349_11eb_8992_a4d18cca390alevel0_row2\" class=\"row_heading level0 row2\" >Programmer</th>\n",
       "                        <td id=\"T_e561a60c_4349_11eb_8992_a4d18cca390arow2_col0\" class=\"data row2 col0\" >321</td>\n",
       "                        <td id=\"T_e561a60c_4349_11eb_8992_a4d18cca390arow2_col1\" class=\"data row2 col1\" >0.915708</td>\n",
       "            </tr>\n",
       "            <tr>\n",
       "                        <th id=\"T_e561a60c_4349_11eb_8992_a4d18cca390alevel0_row3\" class=\"row_heading level0 row3\" >Data Position</th>\n",
       "                        <td id=\"T_e561a60c_4349_11eb_8992_a4d18cca390arow3_col0\" class=\"data row3 col0\" >280</td>\n",
       "                        <td id=\"T_e561a60c_4349_11eb_8992_a4d18cca390arow3_col1\" class=\"data row3 col1\" >0.914672</td>\n",
       "            </tr>\n",
       "            <tr>\n",
       "                        <th id=\"T_e561a60c_4349_11eb_8992_a4d18cca390alevel0_row4\" class=\"row_heading level0 row4\" >Developer</th>\n",
       "                        <td id=\"T_e561a60c_4349_11eb_8992_a4d18cca390arow4_col0\" class=\"data row4 col0\" >5181</td>\n",
       "                        <td id=\"T_e561a60c_4349_11eb_8992_a4d18cca390arow4_col1\" class=\"data row4 col1\" >0.914564</td>\n",
       "            </tr>\n",
       "            <tr>\n",
       "                        <th id=\"T_e561a60c_4349_11eb_8992_a4d18cca390alevel0_row5\" class=\"row_heading level0 row5\" >Analyst</th>\n",
       "                        <td id=\"T_e561a60c_4349_11eb_8992_a4d18cca390arow5_col0\" class=\"data row5 col0\" >1884</td>\n",
       "                        <td id=\"T_e561a60c_4349_11eb_8992_a4d18cca390arow5_col1\" class=\"data row5 col1\" >0.914427</td>\n",
       "            </tr>\n",
       "            <tr>\n",
       "                        <th id=\"T_e561a60c_4349_11eb_8992_a4d18cca390alevel0_row6\" class=\"row_heading level0 row6\" >Director</th>\n",
       "                        <td id=\"T_e561a60c_4349_11eb_8992_a4d18cca390arow6_col0\" class=\"data row6 col0\" >144</td>\n",
       "                        <td id=\"T_e561a60c_4349_11eb_8992_a4d18cca390arow6_col1\" class=\"data row6 col1\" >0.913369</td>\n",
       "            </tr>\n",
       "            <tr>\n",
       "                        <th id=\"T_e561a60c_4349_11eb_8992_a4d18cca390alevel0_row7\" class=\"row_heading level0 row7\" >Architect</th>\n",
       "                        <td id=\"T_e561a60c_4349_11eb_8992_a4d18cca390arow7_col0\" class=\"data row7 col0\" >823</td>\n",
       "                        <td id=\"T_e561a60c_4349_11eb_8992_a4d18cca390arow7_col1\" class=\"data row7 col1\" >0.913088</td>\n",
       "            </tr>\n",
       "            <tr>\n",
       "                        <th id=\"T_e561a60c_4349_11eb_8992_a4d18cca390alevel0_row8\" class=\"row_heading level0 row8\" >Support</th>\n",
       "                        <td id=\"T_e561a60c_4349_11eb_8992_a4d18cca390arow8_col0\" class=\"data row8 col0\" >343</td>\n",
       "                        <td id=\"T_e561a60c_4349_11eb_8992_a4d18cca390arow8_col1\" class=\"data row8 col1\" >0.911667</td>\n",
       "            </tr>\n",
       "            <tr>\n",
       "                        <th id=\"T_e561a60c_4349_11eb_8992_a4d18cca390alevel0_row9\" class=\"row_heading level0 row9\" >Manager</th>\n",
       "                        <td id=\"T_e561a60c_4349_11eb_8992_a4d18cca390arow9_col0\" class=\"data row9 col0\" >1379</td>\n",
       "                        <td id=\"T_e561a60c_4349_11eb_8992_a4d18cca390arow9_col1\" class=\"data row9 col1\" >0.911522</td>\n",
       "            </tr>\n",
       "            <tr>\n",
       "                        <th id=\"T_e561a60c_4349_11eb_8992_a4d18cca390alevel0_row10\" class=\"row_heading level0 row10\" >Technician</th>\n",
       "                        <td id=\"T_e561a60c_4349_11eb_8992_a4d18cca390arow10_col0\" class=\"data row10 col0\" >342</td>\n",
       "                        <td id=\"T_e561a60c_4349_11eb_8992_a4d18cca390arow10_col1\" class=\"data row10 col1\" >0.909344</td>\n",
       "            </tr>\n",
       "            <tr>\n",
       "                        <th id=\"T_e561a60c_4349_11eb_8992_a4d18cca390alevel0_row11\" class=\"row_heading level0 row11\" >Administrator</th>\n",
       "                        <td id=\"T_e561a60c_4349_11eb_8992_a4d18cca390arow11_col0\" class=\"data row11 col0\" >896</td>\n",
       "                        <td id=\"T_e561a60c_4349_11eb_8992_a4d18cca390arow11_col1\" class=\"data row11 col1\" >0.905100</td>\n",
       "            </tr>\n",
       "            <tr>\n",
       "                        <th id=\"T_e561a60c_4349_11eb_8992_a4d18cca390alevel0_row12\" class=\"row_heading level0 row12\" >Consulting</th>\n",
       "                        <td id=\"T_e561a60c_4349_11eb_8992_a4d18cca390arow12_col0\" class=\"data row12 col0\" >578</td>\n",
       "                        <td id=\"T_e561a60c_4349_11eb_8992_a4d18cca390arow12_col1\" class=\"data row12 col1\" >0.902987</td>\n",
       "            </tr>\n",
       "    </tbody></table>"
      ]
     },
     "metadata": {},
     "output_type": "display_data"
    }
   ],
   "source": [
    "# Credit for notebook styling: https://blog.softhints.com/display-two-pandas-dataframes-side-by-side-jupyter-notebook/\n",
    "df1_styler = zachs_recommendations.style.set_table_attributes(\"style='display:inline'\").set_caption('Zach')\n",
    "df2_styler = nolans_recommendations.style.set_table_attributes(\"style='display:inline'\").set_caption('Nolan')\n",
    "df3_styler = alberts_recommendations.style.set_table_attributes(\"style='display:inline'\").set_caption('Albert')\n",
    "\n",
    "space = \"\\xa0\" * 10\n",
    "display_html(df1_styler._repr_html_() + space + df2_styler._repr_html_() + space + df3_styler._repr_html_(), raw=True)"
   ]
  }
 ],
 "metadata": {
  "kernelspec": {
   "display_name": "Python 3",
   "language": "python",
   "name": "python3"
  },
  "language_info": {
   "codemirror_mode": {
    "name": "ipython",
    "version": 3
   },
   "file_extension": ".py",
   "mimetype": "text/x-python",
   "name": "python",
   "nbconvert_exporter": "python",
   "pygments_lexer": "ipython3",
   "version": "3.8.5"
  }
 },
 "nbformat": 4,
 "nbformat_minor": 4
}
